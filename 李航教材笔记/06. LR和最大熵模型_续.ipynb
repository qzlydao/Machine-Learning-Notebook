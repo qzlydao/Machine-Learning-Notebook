{
 "cells": [
  {
   "cell_type": "markdown",
   "metadata": {},
   "source": [
    "## 6.3 模型学习的最优化方法"
   ]
  },
  {
   "cell_type": "markdown",
   "metadata": {},
   "source": [
    "最大熵模型  \n",
    "  \n",
    "  \n",
    "$$\n",
    "\\begin{eqnarray}\n",
    "\\color{red}{P_{w}(y|x)} &=& \\frac{1}{Z_{w}(x)} \\exp \\left(\\sum_{i=1}^{n} w_{i} f_{i}(x, y) \\right)   \\\\\n",
    "\\color{red}{Z_{w}(x)} &=& \\sum_{y}\\exp \\left(\\sum_{i=1}^{n} w_{i} f_{i}(x, y)  \\right)  \n",
    "\\end{eqnarray}\n",
    "$$"
   ]
  },
  {
   "cell_type": "markdown",
   "metadata": {},
   "source": [
    "优化目标  \n",
    "  \n",
    "  \n",
    "$$\n",
    "\\color{blue}{\\max_{w \\in \\mathbf{R}^{n}}\\quad L(w) = \\sum_{x,y}\\tilde{P}(x,y) \\sum_{i=1}^{n} w_{i} f_{i}(x, y) - \\sum_{x}\\tilde{P}(x) \\log Z_{w}(x)}\n",
    "$$"
   ]
  },
  {
   "cell_type": "markdown",
   "metadata": {},
   "source": [
    "### 6.3.1 改进的迭代尺度法（improved iterative scaling，IIS）"
   ]
  },
  {
   "cell_type": "markdown",
   "metadata": {},
   "source": [
    "**IIS的思想:**  \n",
    "<font color='#c63c26'>假设最大熵模型当前的参数向量是$w=(w_{1},  w_{2}, \\cdots,  w_{n})^{T}$，我们希望找到一个新的参数向量$w+\\delta=(w_{1}+\\delta_{1},  w_{2}+\\delta_{2}, \\cdots,  w_{n}+\\delta_{n})^{T}$，使得模型的对数似然函数值增大。如果能有这样一种参数向量更新方法$\\tau: w \\leftarrow w + \\delta$，那么就可以重复使用这一方法，直到找到对数似然函数的最大值。</font>"
   ]
  },
  {
   "cell_type": "markdown",
   "metadata": {},
   "source": [
    "**思路:**  \n",
    "\n",
    "1. <font color='#c63c26'>找到似然函数改变量的下界$L(w+\\delta)-L(w) \\geq A(\\delta|w)$;  </font>\n",
    "    \n",
    "    \n",
    "2. <font color='#c63c26'>找到适当的$\\delta$使下界$A(\\delta|w)$不断提高，那么对数似然函数也会提高。</font>"
   ]
  },
  {
   "cell_type": "markdown",
   "metadata": {},
   "source": [
    "#### Step1: 确定似然函数改变量的下界"
   ]
  },
  {
   "cell_type": "markdown",
   "metadata": {},
   "source": [
    "已知不等式\n",
    "$$\n",
    "-\\log \\alpha \\geq 1-\\alpha, \\quad \\alpha > 0\n",
    "$$"
   ]
  },
  {
   "cell_type": "markdown",
   "metadata": {},
   "source": [
    "$$\n",
    "\\begin{aligned}\n",
    "L(w+\\delta)-L(w) &=\\sum_{x, y} \\tilde{P}(x, y) \\log P_{w+\\delta}(y \\mid x)-\\sum_{x, y} \\tilde{P}(x, y) \\log P_{w}(y \\mid x) \\\\\n",
    "&=\\sum_{x, y} \\tilde{P}(x, y) \\sum_{i=1}^{n} \\delta_{i} f_{i}(x, y)-\\sum_{x} \\tilde{P}(x) \\log \\frac{Z_{w+\\delta}(x)}{Z_{w}(x)} \\\\\n",
    "& \\geqslant \\sum_{x, y} \\tilde{P}(x, y) \\sum_{i=1}^{n} \\delta_{i} f_{i}(x, y)+1-\\sum_{x} \\tilde{P}(x) \\boxed{\\frac{Z_{w+\\delta}(x)}{Z_{w}(x)}} \\\\\n",
    "&=\\sum_{x, y} \\tilde{P}(x, y) \\sum_{i=1}^{n} \\delta_{i} f_{i}(x, y)+1-\\sum_{x} \\tilde{P}(x) \\sum_{y} P_{w}(y \\mid x) \\exp \\sum_{i=1}^{n} \\delta_{i} f_{i}(x, y)\n",
    "\\end{aligned}\n",
    "$$"
   ]
  },
  {
   "cell_type": "markdown",
   "metadata": {},
   "source": [
    "公式中方框部分:  \n",
    "$$\n",
    "\\begin{eqnarray}\n",
    "\\frac{Z_{w+\\delta}(x)}{Z_{w}(x)} &=& \\frac{\\sum_{y}\\exp \\left(\\sum_{i=1}^{n} (w_{i}+ \\delta_{i}) f_{i}(x, y)  \\right)  }{\\sum_{y}\\exp \\left(\\sum_{i=1}^{n} w_{i} f_{i}(x, y)  \\right)  } \\\\\n",
    "&=& \\frac{\\sum_{y}\\exp \\left\\{\\sum_{i=1}^{n} w_{i} f_{i}(x, y) \\right\\} \\cdot \\exp \\left\\{\\sum_{i=1}^{n} \\delta_{i} f_{i}(x, y)\\right\\}  }{\\sum_{y}\\exp \\left(\\sum_{i=1}^{n} w_{i} f_{i}(x, y)  \\right)  } \\\\\n",
    "&=& \\sum_{y} \\frac{\\exp \\sum_{i=1}^{n} w_{i} f_{i}(x, y)}{\\sum_{y}\\exp \\left(\\sum_{i=1}^{n} w_{i} f_{i}(x, y)  \\right)  }\\exp \\sum_{i=1}^{n} \\delta_{i} f_{i}(x, y)   \\\\\n",
    "&=& \\sum_{y} P_{w}(y \\mid x) \\exp \\sum_{i=1}^{n} \\delta_{i} f_{i}(x, y)\n",
    "\\end{eqnarray}\n",
    "$$"
   ]
  },
  {
   "cell_type": "markdown",
   "metadata": {},
   "source": [
    "将等式右边记作\n",
    "$$\n",
    "A(\\delta|w) = \\sum_{x, y} \\tilde{P}(x, y) \\sum_{i=1}^{n} \\delta_{i} f_{i}(x, y)+1-\\sum_{x} \\tilde{P}(x) \\sum_{y} P_{w}(y \\mid x) \\underset{\\color{red}{不容易对\\delta_{i}求偏导}}{\\underbrace{\\exp \\sum_{i=1}^{n} \\delta_{i} f_{i}(x, y)}}\n",
    "$$"
   ]
  },
  {
   "cell_type": "markdown",
   "metadata": {},
   "source": [
    "于是有\n",
    "$$\n",
    "L(w+\\delta) - L(w) \\ge A(\\delta|w)\n",
    "$$  \n",
    "\n",
    "\n",
    "即，$A(\\delta|w)$是对数似然函数改变量的下界。"
   ]
  },
  {
   "cell_type": "markdown",
   "metadata": {},
   "source": [
    "#### Step2: 找$\\delta$使下界不断提高"
   ]
  },
  {
   "cell_type": "markdown",
   "metadata": {},
   "source": [
    "IIS试图一次只优化$\\delta$中的一个变量$\\delta_{i}$，而固定其它变量$\\delta_{j}$，$i \\neq j$"
   ]
  },
  {
   "cell_type": "markdown",
   "metadata": {},
   "source": [
    "<font color=blue>由于$A(\\delta|w)$有$\\exp \\sum$形式的式子，不容易直接对$\\delta_{i}$求偏导。</font>IIS引入一个量$f^{\\#}(x,y)$,\n",
    "\n",
    "$$\n",
    "f^{\\#}(x,y) = \\sum_{i}f_{i}(x,y)\n",
    "$$"
   ]
  },
  {
   "cell_type": "markdown",
   "metadata": {},
   "source": [
    "因为$f_{i}(x,y)$是二值函数，因此$f^{\\#}$表示所有特征出现的次数。这样$A(\\delta|w)$改写成:"
   ]
  },
  {
   "cell_type": "markdown",
   "metadata": {},
   "source": [
    "$$\n",
    "\\begin{aligned}\n",
    "A(\\delta \\mid w)=& \\sum_{x, y} \\tilde{P}(x, y) \\sum_{i=1}^{n} \\delta_{i} f_{i}(x, y)+1-\\\\\n",
    "& \\sum_{x} \\tilde{P}(x) \\sum_{y} P_{w}(y \\mid x) \\exp \\left(f^{\\#}(x, y) \\sum_{i=1}^{n} \\frac{\\delta_{i} f_{i}(x, y)}{f^{\\#}(x, y)}\\right)\n",
    "\\end{aligned} \\tag{6.30}\n",
    "$$"
   ]
  },
  {
   "cell_type": "markdown",
   "metadata": {},
   "source": [
    "$\\exp$是凸函数，对任意$i$，$\\frac{f_{i}(x, y)}{f^{\\#}(x, y)} \\geq 0$，且$\\sum_{i} \\frac{f_{i}(x, y)}{f^{\\#}(x, y)} \\geq 0 = 1$。可以根据Jensen不等式，得到:"
   ]
  },
  {
   "cell_type": "markdown",
   "metadata": {},
   "source": [
    "$$\n",
    "\\exp \\left(\\sum_{i=1}^{n} \\frac{f_{i}(x, y)}{f^{\\#}(x, y)} \\delta_{i} f^{\\#}(x, y)\\right) \\leqslant \\sum_{i=1}^{n} \\frac{f_{i}(x, y)}{f^{\\#}(x, y)} \\exp \\left(\\delta_{i} f^{\\#}(x, y)\\right)\n",
    "$$"
   ]
  },
  {
   "cell_type": "markdown",
   "metadata": {},
   "source": [
    "于是，(6.30)式可改写成"
   ]
  },
  {
   "cell_type": "markdown",
   "metadata": {},
   "source": [
    "$$\n",
    "\\begin{aligned}\n",
    "A(\\delta \\mid w) \\geq & \\sum_{x, y} \\tilde{P}(x, y) \\sum_{i=1}^{n} \\delta_{i} f_{i}(x, y)+1-\\\\\n",
    "& \\sum_{x} \\tilde{P}(x) \\sum_{y} P_{w}(y \\mid x) \\underset{\\color{red}{容易求导}}{\\underbrace{ \\sum_{i=1}^{n} \\frac{f_{i}(x, y)}{f^{\\#}(x, y)} \\exp \\left(\\delta_{i} f^{\\#}(x, y)\\right)}}\n",
    "\\end{aligned} \\tag{6.31}\n",
    "$$"
   ]
  },
  {
   "cell_type": "markdown",
   "metadata": {},
   "source": [
    "将上式右边记作$B(\\delta|w)$"
   ]
  },
  {
   "cell_type": "markdown",
   "metadata": {},
   "source": [
    "$$\n",
    "B(\\delta \\mid w) = \\sum_{x, y} \\tilde{P}(x, y) \\sum_{i=1}^{n} \\delta_{i} f_{i}(x, y)+1-\\sum_{x} \\tilde{P}(x) \\sum_{y} P_{w}(y \\mid x)  \\sum_{i=1}^{n} \\frac{f_{i}(x, y)}{f^{\\#}(x, y)} \\exp \\left(\\delta_{i} f^{\\#}(x, y)\\right)\n",
    "$$"
   ]
  },
  {
   "cell_type": "markdown",
   "metadata": {},
   "source": [
    "于是可得到  \n",
    "  \n",
    "  \n",
    "$$\n",
    "L(w+\\delta) - L(w) \\ge A(\\delta|w) \\ge B(\\delta|w)\n",
    "$$  "
   ]
  },
  {
   "cell_type": "markdown",
   "metadata": {},
   "source": [
    "求$B(\\delta|w)$对$\\delta_{i}$的偏导数："
   ]
  },
  {
   "cell_type": "markdown",
   "metadata": {},
   "source": [
    "$$\n",
    "\\frac{\\partial{B(\\delta \\mid w)}}{\\partial{\\delta_{i}}} = \\underset{E_{\\tilde{P}}(f_{i})}{\\underbrace{\\sum_{x, y} \\tilde{P}(x, y) f_{i}(x, y)}}  - \\sum_{x} \\tilde{P}(x) \\sum_{y} P_{w}(y \\mid x)   f_{i}(x, y) \\exp \\left(\\delta_{i} f^{\\#}(x, y)\\right) \\tag{6.32}\n",
    "$$"
   ]
  },
  {
   "cell_type": "markdown",
   "metadata": {},
   "source": [
    "令偏导数为0得到\n",
    "$$\n",
    "\\sum_{x} \\tilde{P}(x) \\sum_{y} P_{w}(y \\mid x)   f_{i}(x, y) \\exp \\left(\\delta_{i} f^{\\#}(x, y)\\right) = E_{\\tilde{P}}(f_{i}) \\tag{6.33}\n",
    "$$"
   ]
  },
  {
   "cell_type": "markdown",
   "metadata": {},
   "source": [
    "依次对$\\delta_{i}$求解（6.33），便可得到$\\delta$."
   ]
  },
  {
   "cell_type": "markdown",
   "metadata": {},
   "source": [
    "#### 算法6.1 改进的IIS"
   ]
  },
  {
   "cell_type": "markdown",
   "metadata": {},
   "source": [
    "输入: 特征函数$f_{1}, f_{2}, \\cdots, f_{n}$；经验分布$\\tilde{P}(X,Y)$，模型$P_{w}(y|w)$;  \n",
    "  \n",
    "\n",
    "输出: 最优参数$w_{i}^{*}$；最优模型$P_{w^{*}}(y|w)$  \n",
    "  \n",
    "  \n",
    "（1） 对所有$i \\in \\{1,2,\\cdots,n\\}$，取初值$w_{i}=0$;  \n",
    "  \n",
    "  \n",
    "（2） 对每一$i \\in \\{1,2,\\cdots,n\\}$  \n",
    "  \n",
    "  \n",
    "  （2.1） 令$\\delta_{i}$是下面方程的解：\n",
    "  $$\n",
    "  \\sum_{x} \\tilde{P}(x) \\sum_{y} P_{w}(y \\mid x)   f_{i}(x, y) \\exp \\left(\\delta_{i} f^{\\#}(x, y)\\right) = E_{\\tilde{P}}(f_{i}) \n",
    "  $$\n",
    "  \n",
    "  \n",
    "  （2.2）更新$w_{i} \\leftarrow w_{i} + \\delta_{i}$\n",
    "  \n",
    "  \n",
    "（3）如果不是所有$w_{i}$都收敛，重复步骤(2)。"
   ]
  },
  {
   "cell_type": "markdown",
   "metadata": {},
   "source": [
    "算法的关键在于（2.1）解方程中的$\\delta_{i}$，分两种情况讨论："
   ]
  },
  {
   "cell_type": "markdown",
   "metadata": {},
   "source": [
    "(a) 如果$f^{\\#}$是常数，即对任何$x,y$，有$f^{\\#}(x,y)=M$，那么有：\n",
    "$$\n",
    "\\delta_{i} = \\frac{1}{M}\\log \\frac{E_{\\tilde{P}(f_{i})}}{E_{P}(f_{i})}\n",
    "$$"
   ]
  },
  {
   "cell_type": "markdown",
   "metadata": {},
   "source": [
    "(b) 如果$f^{\\#}(x,y)$不是常数，那么必须通过数值计算求$\\delta_{i}$。若用牛顿法，以$g(\\delta_{i})=0$表示方程（6.33），牛顿法通过迭代求得$\\delta^{*}_{i}$，使得$g(\\delta^{*}_{i})=0$，迭代公式如下\n",
    "$$\n",
    "\\delta_{i}^{(k+1)} = \\delta_{i}^{(k)} - \\frac{g(\\delta_{i}^{(k)})}{g^{\\prime}(\\delta_{i}^{(k)})} \\tag{6.35}\n",
    "$$"
   ]
  },
  {
   "cell_type": "markdown",
   "metadata": {},
   "source": [
    "### 6.3.2 拟牛顿法"
   ]
  },
  {
   "cell_type": "markdown",
   "metadata": {},
   "source": [
    "目标函数:\n",
    "$$\n",
    "\\min_{w \\in \\mathbf{R}^{n}}\\quad f(w) =\\sum_{x}\\tilde{P}(x) \\log \\sum_{y}\\exp \\left( \\sum_{i=1}^{n} w_{i} f_{i}(x, y)  \\right) - \\sum_{x,y}\\tilde{P}(x,y) \\sum_{i=1}^{n} w_{i} f_{i}(x, y) \n",
    "$$"
   ]
  },
  {
   "cell_type": "markdown",
   "metadata": {},
   "source": [
    "梯度：\n",
    "$$\n",
    "g(w) = \\left( \\frac{\\partial f(w)}{\\partial{w_{1}}}, \\frac{\\partial f(w)}{\\partial{w_{2}}}, \\cdots, \\frac{\\partial f(w)}{\\partial{w_{n}}} \\right)^{T}\n",
    "$$"
   ]
  },
  {
   "cell_type": "markdown",
   "metadata": {},
   "source": [
    "其中\n",
    "$$\n",
    "\\frac{\\partial f(w)}{\\partial{w_{i}}} = \\sum_{x,y} \\tilde{P}(x) P_{w}(y|x) f_{i}(x,y) - E_{\\tilde{P}}(f_{i})\n",
    "$$"
   ]
  },
  {
   "cell_type": "markdown",
   "metadata": {},
   "source": [
    "#### 算法（最大熵模型学习的BFGS算法）"
   ]
  },
  {
   "cell_type": "markdown",
   "metadata": {},
   "source": [
    "输入: 特征函数$f_{1}, f_{2}, \\cdots, f_{n}$；经验分布$\\tilde{P}(X)$，目标函数$f(w)$，梯度$g(w)=\\nabla f(w)$，精度要求$\\epsilon$;  \n",
    "  \n",
    "  \n",
    "输出: 最优参数值$w^{*}$；最优模型$P_{w^{*}}(y|x)$."
   ]
  },
  {
   "cell_type": "markdown",
   "metadata": {},
   "source": [
    "    \n",
    "（1）选取初始点$w^{(0)}$，取$B_{0}$为正定对称矩阵，置$k=0$.  \n",
    "  \n",
    "   \n",
    "（2）计算$g_{k}=\\nabla f(w^{(k)})$，若$\\|g_{k}\\|< \\epsilon$，则停止计算，得近似解$w^{*}=w^{(k)}$；否则转(3).  \n",
    "\n",
    "\n",
    "（3）由$B_{k}p_{k}=-g_{k}$求出置$p_{k}$  \n",
    "  \n",
    "  \n",
    "（4）一维搜索:求$\\lambda_{k}$使得  \n",
    "$$\n",
    "f\\left( w^{(k)} + \\lambda_{k}p_{k} \\right) = \\min_{\\lambda \\geq 0}f\\left( w^{(k)} + \\lambda p_{k} \\right)\n",
    "$$\n",
    "\n",
    "\n",
    "（5）置$w^{(k+1)} = w^{(k)} + \\lambda_{k}p_{k}$   \n",
    "\n",
    "\n",
    "（6）计算$g_{k+1}$，若$\\|g_{k+1}\\|< \\epsilon$，则停止计算，得近似解$w^{*}=w^{(k+1)}$；否则按下式计算$B_{k+1}$:  \n",
    "  \n",
    "  \n",
    "$$\n",
    "\\begin{eqnarray}\n",
    "B_{k+1} &=& B_{k}+\\frac{y_{k} y_{k}^{\\mathrm{T}}}{y_{k}^{\\mathrm{T}} \\delta_{k}}-\\frac{B_{k} \\delta_{k} \\delta_{k}^{\\mathrm{T}} B_{k}}{\\delta_{k}^{\\mathrm{T}} B_{k} \\delta_{k}} \\\\\n",
    "y_{k} &=& g_{k+1}-g_{k} \\\\\n",
    "\\delta_{k} &=& w^{(k+1)} -  w^{(k)}\n",
    "\\end{eqnarray}\n",
    "$$\n",
    "\n",
    "\n",
    "（7）置$k=k+1$，转（3）"
   ]
  },
  {
   "cell_type": "markdown",
   "metadata": {},
   "source": [
    "## Q1: 为什么LR模型损失函数使用交叉熵不用均方差？"
   ]
  },
  {
   "cell_type": "code",
   "execution_count": null,
   "metadata": {},
   "outputs": [],
   "source": []
  }
 ],
 "metadata": {
  "kernelspec": {
   "display_name": "Python [conda env:root] *",
   "language": "python",
   "name": "conda-root-py"
  },
  "language_info": {
   "codemirror_mode": {
    "name": "ipython",
    "version": 3
   },
   "file_extension": ".py",
   "mimetype": "text/x-python",
   "name": "python",
   "nbconvert_exporter": "python",
   "pygments_lexer": "ipython3",
   "version": "3.7.1"
  }
 },
 "nbformat": 4,
 "nbformat_minor": 2
}

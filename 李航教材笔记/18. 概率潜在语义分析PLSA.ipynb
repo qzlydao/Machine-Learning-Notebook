{
 "cells": [
  {
   "cell_type": "markdown",
   "metadata": {},
   "source": [
    "# 第18章 概率潜在语义分析"
   ]
  },
  {
   "cell_type": "markdown",
   "metadata": {},
   "source": [
    "1. 概率潜在语义分析（probabilistic latent semantic analysis，PLSA）,是一种利用<font color=red>概率生成模型</font>对文本集合进行话题分析的无监督学习方法。  \n",
    "\n",
    "\n",
    "2. 最大特点: 用隐变量表示话题；<font color=blue>整个模型表示文本生成话题，话题生成单词，从而得到单词-文本共现数据的过程。</font>  \n",
    "\n",
    "\n",
    "3. 假设每个文本由一个话题分布决定，每个话题由一个单词分布决定。"
   ]
  },
  {
   "cell_type": "markdown",
   "metadata": {},
   "source": [
    "## 18.1 概率潜在语义分析模型"
   ]
  },
  {
   "cell_type": "markdown",
   "metadata": {},
   "source": [
    "### 18.1.1 基本想法"
   ]
  },
  {
   "cell_type": "markdown",
   "metadata": {},
   "source": [
    "1. 给定文本集合$D=\\{d_{1}, d_{2}, \\cdots, d_{N}\\}$，每个文本讨论若干个话题，每个话题由若干个单词表示。对文本集合进行PLSA，就能发现每个文本的话题，以及每个话题的单词。话题是潜在的。"
   ]
  },
  {
   "cell_type": "markdown",
   "metadata": {},
   "source": [
    "2. 对于下面的文本-单词共现数据，具体表现为单词-文本矩阵。直观上，语义相近的单词、语义相近的文本会被聚到相同的“软的类别”中，而话题所表示的就是这样的软的类别。"
   ]
  },
  {
   "cell_type": "markdown",
   "metadata": {},
   "source": [
    "<img src='18.1_PLSA直观解释.png' style='zoom:50%'/>"
   ]
  },
  {
   "cell_type": "markdown",
   "metadata": {},
   "source": [
    "### 18.1.2 生成模型"
   ]
  },
  {
   "cell_type": "markdown",
   "metadata": {},
   "source": [
    "$W=\\left\\{w_{1}, w_{2}, \\cdots, w_{M}\\right\\}$ 单词集合  \n",
    "\n",
    "$D=\\{d_{1}, d_{2}, \\cdots, d_{N}\\}$ 文本集合\n",
    "\n",
    "$Z=\\{z_{1}, z_{2}, \\cdots, z_{K}\\}$ 话题集合  \n",
    "\n",
    "$P(d), P(z|d), P(w|z)$皆属于多项分布。  \n",
    "\n",
    "$P(d)$ 生成文本$d$的概率  \n",
    "\n",
    "$P(z|d)$ 文本$d$生成话题$z$的概率  \n",
    "\n",
    "$P(w|z)$ 话题$z$生成单词$w$的概率  "
   ]
  },
  {
   "cell_type": "markdown",
   "metadata": {},
   "source": [
    "生成模型通过以下步骤生成<font color=blue>文本-单词共现数据</font>:  \n",
    "\n",
    "（1）依概率分布$P(d)$从集合$D$中随机选取一个文本$d$，共生成$N$个文本；针对每个文本，执行以下操作；  \n",
    "\n",
    "（2）给定文本$d$条件下，依概率$P(z|d)$，从话题集合$Z$中随机选取一个话题$z$，<font color=blue>共生成$L$个话题，这里$L$是文本长度</font>；  \n",
    "\n",
    "（3）给定话题$z$条件下，依概率$P(w|z)$，从单词集合$W$中随机选取一个单词$w$."
   ]
  },
  {
   "cell_type": "markdown",
   "metadata": {},
   "source": [
    "生成模型生成的是单词-话题-文本三元组集合$(w,z,d)$，但观测到的是单词-文本二元组集合$(w,d)$，观测数据表示为单词-文本矩阵$T$，行表示单词，列表示文本，元素表示单词-文本对$(w,d)$的频数。"
   ]
  },
  {
   "cell_type": "markdown",
   "metadata": {},
   "source": [
    "文本-单词共现数据$T$的生成概率  \n",
    "\n",
    "$$\n",
    "P(T) = \\prod_{(w,d)}p(w,d)^{n(w,d)} \\tag{18.1}\n",
    "$$ \n",
    "\n",
    "$n(w,d)$表示$(w,d)$出现的次数。出现的总次数是$N\\times L$。每个单词-文本对$(w,d)$的生成概率为  \n",
    "\n",
    "$$\n",
    "\\begin{eqnarray}\n",
    "P(w,d) &=& P(d)P(w|d) \\\\\n",
    "&=& P(d)\\sum_{z}P(w,z|d)  \\\\\n",
    "&=& P(d)\\sum_{z} \\color{blue}{P(z|d)P(w|z,d)}  \\\\ \n",
    "&=& P(d)\\sum_{z} \\color{blue}{P(z|d)P(w|z)} \\tag{18.2}\n",
    "\\end{eqnarray}\n",
    "$$"
   ]
  },
  {
   "cell_type": "markdown",
   "metadata": {},
   "source": [
    "生成模型假设在话题$z$给定的条件下，单词$w$与文本$d$条件独立，即  \n",
    "\n",
    "$$\n",
    "P(w,z|d) = P(z|d)P(w|z,d) = P(z|d)P(w|z) \\tag{18.3}\n",
    "$$"
   ]
  },
  {
   "cell_type": "markdown",
   "metadata": {},
   "source": [
    "生成模型属于概率有向图模型，可以用有向图表示:  \n",
    "<img src='18.1_PLSA的生成模型.png' style='zoom:50%'/>"
   ]
  },
  {
   "cell_type": "markdown",
   "metadata": {},
   "source": [
    "### 18.1.3 共现模型"
   ]
  },
  {
   "cell_type": "markdown",
   "metadata": {},
   "source": [
    "文本-单词共现数据$T$的生成概率  \n",
    "\n",
    "$$\n",
    "P(T) = \\prod_{(w,d)}p(w,d)^{n(w,d)} \\tag{18.4}\n",
    "$$ "
   ]
  },
  {
   "cell_type": "markdown",
   "metadata": {},
   "source": [
    "每个单词-文本的概率由以下公式决定: （<font color=red>与生成模型的最大不同</font>）  \n",
    "\n",
    "$$\n",
    "\\begin{eqnarray}\n",
    "P(w,d) &=& \\sum_{z\\in Z} P(z)P(w,d|z)\\\\\n",
    "&=& \\sum_{z\\in Z} P(z)P(w|z)P(d|z)\n",
    "\\tag{18.5}\n",
    "\\end{eqnarray}\n",
    "$$"
   ]
  },
  {
   "cell_type": "markdown",
   "metadata": {},
   "source": [
    "共现模型假设在话题$z$给定条件下，单词$w$与文本$d$是条件独立的，即  \n",
    "\n",
    "$$\n",
    "P(w,d|z)=P(w|z)P(d|z)\n",
    "$$"
   ]
  },
  {
   "cell_type": "markdown",
   "metadata": {},
   "source": [
    "很容易验证，生成模型(18.2)和共现模型(18.5)是等价的。"
   ]
  },
  {
   "cell_type": "markdown",
   "metadata": {},
   "source": [
    "<img src='18.1_PLSA的共现模型.png' style='zoom:50%'/>"
   ]
  },
  {
   "cell_type": "markdown",
   "metadata": {},
   "source": [
    "### 18.1.4 模型性质"
   ]
  },
  {
   "cell_type": "markdown",
   "metadata": {},
   "source": [
    "#### 1. 模型参数"
   ]
  },
  {
   "cell_type": "markdown",
   "metadata": {},
   "source": [
    "如果直接定义单词与文本的共现频率$P(w,d)$，模型的参数个数是$O(M\\bullet N)$（$M$为单词数，$N$为文本个数）。概率潜在语义分析的生成模型和共现模型的参数个数是$O(M\\bullet K + N \\bullet K)$，其中$K$是话题数。现实中$K \\ll M$，所以PLSA通过话题对数据进行了更简洁地表示，减少了学习过程中的过拟合可能性。"
   ]
  },
  {
   "cell_type": "markdown",
   "metadata": {},
   "source": [
    "<img src='18.1_PLSA的共现模型.png' style='zoom:50%'/>"
   ]
  },
  {
   "cell_type": "markdown",
   "metadata": {},
   "source": [
    "#### 2. 模型的几何解释"
   ]
  },
  {
   "cell_type": "markdown",
   "metadata": {},
   "source": [
    "#### 3. 与潜在语义分析（LSA）的关系"
   ]
  },
  {
   "cell_type": "markdown",
   "metadata": {},
   "source": [
    "在LSA中，对单词-文本矩阵进行SVD分解得到$X=U\\Sigma V^{T}$。"
   ]
  },
  {
   "cell_type": "markdown",
   "metadata": {},
   "source": [
    "<img src='18. 1_PLSA与LSA.png' style='zoom:50%'/>"
   ]
  },
  {
   "cell_type": "markdown",
   "metadata": {},
   "source": [
    "PLSA（共现模型）也可以在LSA的框架下描述。共现模型（18.5）也可以表示为三个矩阵乘积的形式:  \n",
    "\n",
    "$$\n",
    "\\begin{array}{l}\n",
    "X^{\\prime}=U^{\\prime} \\Sigma^{\\prime} V^{\\prime \\mathrm{T}} \\\\\n",
    "X^{\\prime}=[P(w, d)]_{M \\times N} \\\\\n",
    "U^{\\prime}=[P(w \\mid z)]_{M \\times K} \\\\\n",
    "\\Sigma^{\\prime}=[P(z)]_{K \\times K} \\\\\n",
    "V^{\\prime}=[P(d \\mid z)]_{N \\times K}\n",
    "\\end{array}\n",
    "$$"
   ]
  },
  {
   "cell_type": "markdown",
   "metadata": {},
   "source": [
    "## 18.2 PLSA的参数估计"
   ]
  },
  {
   "cell_type": "markdown",
   "metadata": {},
   "source": [
    "单词集合为$W=\\left\\{w_{1}, w_{2}, \\cdots, w_{M}\\right\\}$   \n",
    "\n",
    "文本集合为$D=\\{d_{1}, d_{2}, \\cdots, d_{N}\\}$ \n",
    "\n",
    "话题集合为$Z=\\{z_{1}, z_{2}, \\cdots, z_{K}\\}$ \n",
    "\n",
    "给定单词-文本共现数据$T=\\{ n(w_{i}, d_{j}\\},\\ i=1,2,\\cdots,M;\\ j=1,2,\\cdots, N $\n",
    "\n",
    "目标是估计生成模型的参数$P(z|d)$和$P(w|z)$"
   ]
  },
  {
   "cell_type": "markdown",
   "metadata": {},
   "source": [
    "### 18.2.1 极大似然估计"
   ]
  },
  {
   "cell_type": "markdown",
   "metadata": {},
   "source": [
    "$$\n",
    "\\begin{aligned}\n",
    "L &=\\sum_{i=1}^{M} \\sum_{j=1}^{N} n\\left(w_{i}, d_{j}\\right) \\log P\\left(w_{i}, d_{j}\\right) \\\\\n",
    "&=\\sum_{i=1}^{M} \\sum_{j=1}^{N} n\\left(w_{i}, d_{j}\\right) \\left[P(d_{j}) + \\log \\left[\\sum_{k=1}^{K} P\\left(w_{i} \\mid z_{k}\\right) P\\left(z_{k} \\mid d_{j}\\right)\\right]\\right] \\\\\n",
    "&=\\sum_{i=1}^{M} \\sum_{j=1}^{N} n\\left(w_{i}, d_{j}\\right)  \\log \\left[\\sum_{k=1}^{K} P\\left(w_{i} \\mid z_{k}\\right) P\\left(z_{k} \\mid d_{j}\\right)\\right] \n",
    "\\end{aligned}\n",
    "$$"
   ]
  },
  {
   "cell_type": "markdown",
   "metadata": {},
   "source": [
    "上式$P(d_{j})$对参数估计无影响，因此去掉。模型中含有隐变量，无法用解系方法求解。"
   ]
  },
  {
   "cell_type": "markdown",
   "metadata": {},
   "source": [
    "### 18.2.2 EM算法"
   ]
  },
  {
   "cell_type": "markdown",
   "metadata": {},
   "source": [
    "#### E步: 计算$Q$函数"
   ]
  },
  {
   "cell_type": "markdown",
   "metadata": {},
   "source": [
    "<font color=blue>$Q$函数是完全数据的对数似然函数对不完全数据的条件分布的期望。</font>  \n",
    "\n",
    "生成模型的$Q$函数为 "
   ]
  },
  {
   "cell_type": "markdown",
   "metadata": {},
   "source": [
    "完全数据的对数似然函数  \n",
    "\n",
    "$$\n",
    "\\begin{aligned}\n",
    "L &=\\sum_{i=1}^{M} \\sum_{j=1}^{N} n\\left(w_{i}, d_{j}\\right) \\log P\\left(w_{i}, d_{j}\\right) \\\\\n",
    "&=\\sum_{i=1}^{M} \\sum_{j=1}^{N} n\\left(w_{i}, d_{j}\\right) \\left[P(d_{j}) + \\log \\left(\\sum_{k=1}^{K} P\\left(w_{i} \\mid z_{k}\\right) P\\left(z_{k} \\mid d_{j}\\right)\\right)\\right] \\\\\n",
    "&=\\sum_{i=1}^{M} \\sum_{j=1}^{N} n\\left(w_{i}, d_{j}\\right)P(d_{j}) + n\\left(w_{i}, d_{j}\\right) \\log \\left(\\sum_{k=1}^{K} P\\left(w_{i} \\mid z_{k}\\right) P\\left(z_{k} \\mid d_{j}\\right)\\right) \\\\\n",
    "\\end{aligned}\n",
    "$$"
   ]
  },
  {
   "cell_type": "markdown",
   "metadata": {},
   "source": [
    "$P(d_{j})$可以从数据中直接统计得出，这里只考虑$P(w_{i}|z_{k}),\\ P(z_{k}|d_{j})$，于是"
   ]
  },
  {
   "cell_type": "markdown",
   "metadata": {},
   "source": [
    "$$\n",
    "\\begin{eqnarray}\n",
    "L &=& \\sum_{i=1}^{M} \\sum_{j=1}^{N} n\\left(w_{i}, d_{j}\\right) \\log \\left(\\sum_{k=1}^{K} P\\left(w_{i} \\mid z_{k}\\right) P\\left(z_{k} \\mid d_{j}\\right)\\right) \\\\\n",
    "&=& \\sum_{i=1}^{M} \\sum_{j=1}^{N} n\\left(w_{i}, d_{j}\\right) \\log \\sum_{k=1}^{K} P(z_{k}|w_{i},d_{j}) \\frac{P\\left(w_{i} \\mid z_{k}\\right) P\\left(z_{k} \\mid d_{j}\\right)}{P(z_{k}|w_{i},d_{j})} \\\\\n",
    "&\\geq& \\sum_{i=1}^{M} \\sum_{j=1}^{N} n\\left(w_{i}, d_{j}\\right) \\sum_{k=1}^{K} P(z_{k}|w_{i},d_{j})  \\log P\\left(w_{i} \\mid z_{k}\\right) P\\left(z_{k} \\mid d_{j}\\right) \\tag{18.10}\n",
    "\\end{eqnarray}\n",
    "$$"
   ]
  },
  {
   "cell_type": "markdown",
   "metadata": {},
   "source": [
    "上式就是$Q$函数，其中$P(z_{k}|w_{i},d_{j})$可由贝叶斯公式求出  \n",
    "\n",
    "$$\n",
    "P(z_{k}|w_{i},d_{j}) = \\frac{P\\left(w_{i} | z_{k}\\right) P\\left(z_{k} | d_{j}\\right)}{\\sum_{k=1}^{K}P\\left(w_{i} | z_{k}\\right) P\\left(z_{k} | d_{j}\\right)} \\tag{8.11}\n",
    "$$  \n",
    "\n",
    "其中$P\\left(w_{i} | z_{k}\\right),\\ P\\left(z_{k} | d_{j}\\right)$由上一步迭代得到。"
   ]
  },
  {
   "cell_type": "markdown",
   "metadata": {},
   "source": [
    "#### M步: 极大化$Q$函数"
   ]
  },
  {
   "cell_type": "markdown",
   "metadata": {},
   "source": [
    "$P\\left(w_{i} | z_{k}\\right),\\ P\\left(z_{k} | d_{j}\\right)$是变量，且满足约束条件  \n",
    "\n",
    "$$\n",
    "\\begin{array}{ll}\n",
    "\\sum_{i=1}^{M} P\\left(w_{i} \\mid z_{k}\\right)=1, & k=1,2, \\cdots, K \\\\ \n",
    "\\sum_{k=1}^{K} P\\left(z_{k} \\mid d_{j}\\right)=1, & j=1,2, \\cdots, N\n",
    "\\end{array}\n",
    "$$"
   ]
  },
  {
   "cell_type": "markdown",
   "metadata": {},
   "source": [
    "应用拉格朗日法，引入拉格朗日乘子$\\tau_{k}$和$\\rho_{j}$，定义拉格朗日函数$\\Lambda$  \n",
    "\n",
    "$$\n",
    "\\Lambda=Q^{\\prime}+\\sum_{k=1}^{K} \\tau_{k}\\left(1-\\sum_{i=1}^{M} P\\left(w_{i} \\mid z_{k}\\right)\\right)+\\sum_{j=1}^{N} \\rho_{j}\\left(1-\\sum_{k=1}^{K} P\\left(z_{k} \\mid d_{j}\\right)\\right)\n",
    "$$"
   ]
  },
  {
   "cell_type": "markdown",
   "metadata": {},
   "source": [
    "分别对变量$P\\left(w_{i} | z_{k}\\right),\\ P\\left(z_{k} | d_{j}\\right)$求偏导，并令导数等于零，解得参数的估计式:  \n",
    "\n",
    "$$\n",
    "\\begin{eqnarray}\n",
    "P\\left(w_{i} \\mid z_{k}\\right) &=& \\frac{\\sum_{j=1}^{N} n\\left(w_{i}, d_{j}\\right) P\\left(z_{k} \\mid w_{i}, d_{j}\\right)}{\\sum_{m=1}^{M} \\sum_{j=1}^{N} n\\left(w_{m}, d_{j}\\right) P\\left(z_{k} \\mid w_{m}, d_{j}\\right)} \\tag{18.12} \\\\\n",
    "P\\left(z_{k} \\mid d_{j}\\right) &=& \\frac{\\sum_{i=1}^{M} n\\left(w_{i}, d_{j}\\right) P\\left(z_{k} \\mid w_{i}, d_{j}\\right)}{n\\left(d_{j}\\right)} \\tag{18.13}\n",
    "\\end{eqnarray}\n",
    "$$"
   ]
  },
  {
   "cell_type": "markdown",
   "metadata": {},
   "source": [
    "其中，$n(d_{j})=\\sum_{i=1}^{M}n(w_{i},d_{j})\\ $表示文本$d_{j}$中的单词个数。"
   ]
  },
  {
   "cell_type": "markdown",
   "metadata": {},
   "source": [
    "#### 算法18.1 （PLSA模型参数估计的EM算法）"
   ]
  },
  {
   "cell_type": "markdown",
   "metadata": {},
   "source": [
    "输入: 单词集合为$W=\\left\\{w_{1}, w_{2}, \\cdots, w_{M}\\right\\}$；文本集合为$D=\\{d_{1}, d_{2}, \\cdots, d_{N}\\}$；单词-文本共现数据$T=\\{ n(w_{i}, d_{j}\\},\\ i=1,2,\\cdots,M;\\ j=1,2,\\cdots, N $  \n",
    "\n",
    "输出: $P(z|d)$和$P(w|z)$"
   ]
  },
  {
   "cell_type": "markdown",
   "metadata": {},
   "source": [
    "（1）设置参数$P(z|d)$和$P(w|z)$的初始值  \n",
    "\n",
    "\n",
    "（2）迭代执行以下E步和M步，直到收敛为止:  \n",
    "- E步:  \n",
    "\n",
    "$$\n",
    "P(z_{k}|w_{i},d_{j}) = \\frac{P\\left(w_{i} | z_{k}\\right) P\\left(z_{k} | d_{j}\\right)}{\\sum_{k=1}^{K}P\\left(w_{i} | z_{k}\\right) P\\left(z_{k} | d_{j}\\right)}\n",
    "$$\n",
    "\n",
    "- M步:  \n",
    "\n",
    "$$\n",
    "P\\left(w_{i} \\mid z_{k}\\right) = \\frac{\\sum_{j=1}^{N} n\\left(w_{i}, d_{j}\\right) P\\left(z_{k} \\mid w_{i}, d_{j}\\right)}{\\sum_{m=1}^{M} \\sum_{j=1}^{N} n\\left(w_{m}, d_{j}\\right) P\\left(z_{k} \\mid w_{m}, d_{j}\\right)}\n",
    "$$  \n",
    "\n",
    "$$\n",
    "P\\left(z_{k} \\mid d_{j}\\right) = \\frac{\\sum_{i=1}^{M} n\\left(w_{i}, d_{j}\\right) P\\left(z_{k} \\mid w_{i}, d_{j}\\right)}{n\\left(d_{j}\\right)} \n",
    "$$"
   ]
  },
  {
   "cell_type": "code",
   "execution_count": null,
   "metadata": {},
   "outputs": [],
   "source": []
  }
 ],
 "metadata": {
  "kernelspec": {
   "display_name": "Python [conda env:root] *",
   "language": "python",
   "name": "conda-root-py"
  },
  "language_info": {
   "codemirror_mode": {
    "name": "ipython",
    "version": 3
   },
   "file_extension": ".py",
   "mimetype": "text/x-python",
   "name": "python",
   "nbconvert_exporter": "python",
   "pygments_lexer": "ipython3",
   "version": "3.7.1"
  }
 },
 "nbformat": 4,
 "nbformat_minor": 2
}

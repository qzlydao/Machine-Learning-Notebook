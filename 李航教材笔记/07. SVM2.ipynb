{
 "cells": [
  {
   "attachments": {},
   "cell_type": "markdown",
   "metadata": {},
   "source": [
    "#### 核技巧在SVM中应用\n",
    "\n",
    "在线性支持向量机的对偶问题中，只需要将目标函数和决策函数中的内积$x_{i}\\cdot x_{j}$用核函数$K\\left(x_{i}, x_{j}\\right)=\\phi\\left(x_{i}\\right) \\cdot \\phi\\left(x_{j}\\right)$来代替。此时的对偶问题的目标函数称为\n",
    "\n",
    "$$\n",
    "W(\\alpha)=\\frac{1}{2} \\sum_{i=1}^{N} \\sum_{j=1}^{N} \\alpha_{i} \\alpha_{j} y_{i} y_{j} K\\left(x_{i}, x_{j}\\right)-\\sum_{i=1}^{N} \\alpha_{i} \\tag{7.67}\n",
    "$$\n",
    "\n",
    "分类决策函数中的内积也可以用核函数代替\n",
    "\n",
    "$$\n",
    "\\begin{aligned}\n",
    "f(x) &=\\operatorname{sign}\\left(\\sum_{i=1}^{N_{s}} a_{i}^{*} y_{i} \\phi\\left(x_{i}\\right) \\cdot \\phi(x)+b^{*}\\right) \\\\\n",
    "&=\\operatorname{sign}\\left(\\sum_{i=1}^{N_{s}} a_{i}^{*} y_{i} K\\left(x_{i}, x\\right)+b^{*}\\right)\n",
    "\\end{aligned} \\tag{7.68}\n",
    "$$\n",
    "\n",
    "#### 正定核的充要条件\n",
    "\n",
    "设 $K: \\mathcal{X} \\times \\mathcal{X} \\rightarrow \\mathbf{R}$ 是对称函数，则$K(x,z)$为正定核函数的充要条件是对任意$x_{i} \\in \\mathcal{X}, i=1,2, \\cdots, m, K(x, z)$对应的Gram矩阵：\n",
    "\n",
    "$$\n",
    "K=\\left[K\\left(x_{i}, x_{j}\\right)\\right]_{m \\times m} \\tag{7.85}\n",
    "$$\n",
    "\n",
    "是半正定矩阵。"
   ]
  },
  {
   "cell_type": "markdown",
   "metadata": {},
   "source": [
    "## 7.3.3 常用核函数"
   ]
  },
  {
   "cell_type": "markdown",
   "metadata": {},
   "source": [
    "1. 多项式核函数\n",
    "\n",
    "$$\n",
    "K(x, z)=(x \\cdot z+1)^{p} \\tag{7.88}\n",
    "$$\n",
    "\n",
    "    对应的决策函数\n",
    "\n",
    "$$\n",
    "f(x)=\\operatorname{sign}\\left(\\sum_{i=1}^{N_{s}} a_{i}^{*} y_{i}\\left(x_{i} \\cdot x+1\\right)^{p}+b^{*}\\right) \\tag{7.89}\n",
    "$$\n",
    "\n",
    "2. 高斯核函数\n",
    "\n",
    "$$\n",
    "K(x, z)=\\exp \\left(-\\frac{\\|x-z\\|^{2}}{2 \\sigma^{2}}\\right) \\tag{7.90}\n",
    "$$\n",
    "\n",
    "    对应分类决策函数\n",
    "    \n",
    "$$\n",
    "f(x)=\\operatorname{sign}\\left(\\sum_{i=1}^{N_{s}} a_{i}^{*} y_{i} \\exp \\left(-\\frac{\\left\\|x-x_{i}\\right\\|^{2}}{2 \\sigma^{2}}\\right)+b^{*}\\right) \\tag{7.91}\n",
    "$$"
   ]
  },
  {
   "cell_type": "code",
   "execution_count": null,
   "metadata": {},
   "outputs": [],
   "source": []
  }
 ],
 "metadata": {
  "kernelspec": {
   "display_name": "Python [conda env:root] *",
   "language": "python",
   "name": "conda-root-py"
  },
  "language_info": {
   "codemirror_mode": {
    "name": "ipython",
    "version": 3
   },
   "file_extension": ".py",
   "mimetype": "text/x-python",
   "name": "python",
   "nbconvert_exporter": "python",
   "pygments_lexer": "ipython3",
   "version": "3.7.1"
  }
 },
 "nbformat": 4,
 "nbformat_minor": 2
}

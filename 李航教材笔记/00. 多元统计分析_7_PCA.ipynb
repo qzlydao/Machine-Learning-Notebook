{
 "cells": [
  {
   "cell_type": "markdown",
   "metadata": {},
   "source": [
    "7.1 PCA思想  \n",
    "\n",
    "7.2 总体PCA  \n",
    "\n",
    "    7.2.1 总体主成分推导\n",
    "    7.2.2 基于标准化的总体主成分推导\n",
    "    \n",
    "7.3 样本主成分分\n",
    "\n",
    "    7.3.1 样本主成分推导\n",
    "    7.3.2 主成分个数选择"
   ]
  },
  {
   "cell_type": "markdown",
   "metadata": {},
   "source": [
    "## 7.1 PCA思想"
   ]
  },
  {
   "cell_type": "markdown",
   "metadata": {},
   "source": [
    "### 7.1.1 例子"
   ]
  },
  {
   "cell_type": "markdown",
   "metadata": {},
   "source": [
    "- 英超球员综合能力评价指标\n",
    "\n",
    "> 变量: 出场/首发/射门/射正/进球/ 助攻/传球/过人/抢断/点球/ 拦截/解围/越位/犯规/红牌/ 黄牌次数、出场时间等  \n",
    "\n",
    "\n",
    "- 基于车联网的驾驶行为分析\n",
    "\n",
    "> 变量: 行驶/疲劳驾驶/早晚高峰/深 夜出行/极度拥堵/高速驾驶 时长、平均/最大速度、速度 标准差、加速度、行驶里程、 平均/最大引擎转速等"
   ]
  },
  {
   "cell_type": "markdown",
   "metadata": {},
   "source": [
    "### 7.1.2 经典降维方法"
   ]
  },
  {
   "cell_type": "markdown",
   "metadata": {},
   "source": [
    "<font color=blue>用少数几个变量代替原有的数目庞大的变量，把重复的信息合并起来，既可以降低现有变量的维度，又不会丢失掉重要信息的思想，就称为降维。</font>\n",
    "\n",
    "经典降维方法包括**主成分分析 (Principal component analysis, PCA)** 和**因子分析 (Factor analysis)**\n",
    "- 主成分分析主要用于构造“综合指标”， 以将原始数据最大程度地区分开\n",
    "\n",
    "- 因子分析旨在用一个变量(公因子)代 替原始高度相关的某几个变量"
   ]
  },
  {
   "cell_type": "markdown",
   "metadata": {},
   "source": [
    "### 7.1.3 PCA思想"
   ]
  },
  {
   "cell_type": "markdown",
   "metadata": {},
   "source": [
    "PCA是一种通过降维技术把多个变量化为少数几个主成分（综合变量）的统计分析方法。<font color=blue>这些主成分能够反映原始变量的极大部分信息，他们通常表示为原始变量的某种线性组合，且彼此不相关。</font>"
   ]
  },
  {
   "cell_type": "markdown",
   "metadata": {},
   "source": [
    "### 7.1.4 PCA vs. LDA"
   ]
  },
  {
   "cell_type": "markdown",
   "metadata": {},
   "source": [
    "1. 线性判别分析(LDA): 寻找最大化两个或多个群体之间距离的线性组合。（主要起分离作用）   \n",
    "  \n",
    "  \n",
    "2. 主成分分析(PCA): <font color=blue>只有一个群体，目标是找到一个能使这个群体中个体差异达到最大的变量线性组合。</font>"
   ]
  },
  {
   "cell_type": "markdown",
   "metadata": {},
   "source": [
    "## 7.2 总体PCA"
   ]
  },
  {
   "cell_type": "markdown",
   "metadata": {},
   "source": [
    "### 7.2.1 总体PCA推导"
   ]
  },
  {
   "cell_type": "markdown",
   "metadata": {},
   "source": [
    "<img src='00. 多元统计分析_PCA.png' style='zoom:50%'/>"
   ]
  },
  {
   "cell_type": "markdown",
   "metadata": {},
   "source": [
    "记原始变量 $\\mathbf{y}=\\left(Y_{1}, \\ldots, Y_{p}\\right)^{\\prime}$，其协方差矩阵为$\\Sigma$  \n",
    "\n",
    "主成分分析试图定义一组<font color=red>互不相关</font>的变量，称为$Y_{1}, \\ldots, Y_{p}$的主成分，记为$Z_{1}, \\ldots, Z_{p}$，每一个主成分都是$Y_{1}, \\ldots, Y_{p}$的<font color=red>线性组合</font>:  \n",
    "\n",
    "$$\n",
    "\\begin{aligned} \n",
    "Z _ { 1 } & = \\mathbf { a } _ { 1 } ^ { \\prime } \\mathbf { y } = a _ { 11 } Y _ { 1 } + a _ { 12 } Y _ { 2 } + \\ldots + a _ { 1 p } Y _ { p } \\\\ Z _ { 2 } & = \\mathbf { a } _ { 2 } ^ { \\prime } \\mathbf { y } = a _ { 21 } Y _ { 1 } + a _ { 22 } Y _ { 2 } + \\ldots + a _ { 2 p } Y _ { p } \\\\ & \\vdots \\\\ Z _ { p } & = \\mathbf { a } _ { p } ^ { \\prime } \\mathbf { y } = a _ { p 1 } Y _ { 1 } + a _ { p 2 } Y _ { 2 } + \\ldots + a _ { p p } Y _ { p } \n",
    "\\end{aligned} \n",
    "$$"
   ]
  },
  {
   "cell_type": "markdown",
   "metadata": {},
   "source": [
    "则$Z_{1}, \\ldots, Z_{p}$的方差和协方差为:  \n",
    "\n",
    "$$\n",
    "\\operatorname{var}(Z_{j}) = \\mathbf{a}_{j}^{\\prime}\\Sigma\\mathbf{a}_{j}, \\quad \\operatorname{cov}(Z_{j}, Z_{k}) = \\mathbf{a}_{j}^{\\prime}\\Sigma\\mathbf{a}_{k}, \\ j,k = 1,2,\\cdots, p\n",
    "$$"
   ]
  },
  {
   "cell_type": "markdown",
   "metadata": {},
   "source": [
    "主成分（Principle Component，PC）$Z_{1}, \\ldots, Z_{p}$按照<font color=red>方差贡献度</font>依次导出:    \n",
    "- 第一主成分$Z_{1} = \\mathbf { a } _ { 1 } ^ { \\prime } \\mathbf { y }$: 在满足限制条件$\\mathbf { a } _ { 1 } ^ { \\prime }\\mathbf { a } _ { 1 }=1$时，最大化方差$\\operatorname{var}(\\mathbf { a } _ { 1 } ^ { \\prime } \\mathbf { y })$; \n",
    "\n",
    "\n",
    "- 第一主成分$Z_{2} = \\mathbf { a } _ { 2 } ^ { \\prime } \\mathbf { y }$: 在满足限制条件$\\mathbf { a } _ { 2 } ^ { \\prime }\\mathbf { a } _ { 2 }=1$时，且$\\operatorname{Cov}(\\mathbf { a } _ { 1 } ^ { \\prime } \\mathbf { y }, \\mathbf { a } _ { 2 } ^ { \\prime } \\mathbf { y })=0$ 时最大化方差$\\operatorname{var}(\\mathbf { a } _ { 2 } ^ { \\prime } \\mathbf { y })$; \n",
    "\n",
    "    ...\n",
    "    \n",
    "\n",
    "- 第$j$主成分$Z_{j} = \\mathbf { a } _ { j } ^ { \\prime } \\mathbf { y }$: 在满足限制条件$\\mathbf { a } _ { j } ^ { \\prime }\\mathbf { a } _ { j }=1$时，且$\\operatorname{Cov}(\\mathbf { a } _ { k } ^ { \\prime } \\mathbf { y }, \\mathbf { a } _ { j } ^ { \\prime } \\mathbf { y })=0,k<j$ 时，最大化方差$\\operatorname{var}(\\mathbf { a } _ { j } ^ { \\prime } \\mathbf { y })$; "
   ]
  },
  {
   "cell_type": "markdown",
   "metadata": {},
   "source": [
    "#### 定理"
   ]
  },
  {
   "cell_type": "markdown",
   "metadata": {},
   "source": [
    "记$\\left(\\lambda_{1}, \\mathbf{e}_{1}\\right), \\ldots,\\left(\\lambda_{p}, \\mathbf{e}_{p}\\right)$为协方差矩阵$\\Sigma$的特征值-特征向量，$\\lambda_{1} \\geq \\ldots \\geq \\lambda_{p} \\geq 0$并且特向量$\\mathbf{e}_{1}, \\ldots, \\mathbf{e}_{p}$是<font color=red>正交化特征向量</font>，则 \n",
    "\n",
    "变量$Y_{1}, \\ldots, Y_{p}$的第$j$个主成分由下式给出:  \n",
    "\n",
    "$$\n",
    "Z_{j}=\\mathbf{e}_{j}^{\\prime} \\mathbf{y}=e_{j 1} Y_{1}+e_{j 2} Y_{2}+\\ldots+e_{j p} Y_{p} \\quad j=1, \\ldots, p\n",
    "$$  \n",
    "\n",
    "因此有  \n",
    "\n",
    "$$\n",
    "var(Z_{j})=var(\\mathbf{e}_{j}^{\\prime} \\mathbf{y}) = \\mathbf{e}_{j}^{\\prime} \\Sigma \\mathbf{e}_{j}=\\mathbf{e}_{j}^{\\prime} \\lambda_{j} \\mathbf{e}_{j} = \\lambda_{j} \\\\\n",
    "Cov(Z_{j},Z_{k}) = Cov(\\mathbf{e}_{j}^{\\prime} \\mathbf{y},\\mathbf{e}_{k}^{\\prime} \\mathbf{y}) = \\mathbf{e}_{j}^{\\prime} \\Sigma \\mathbf{e}_{k} = \\lambda_{k}\\mathbf{e}_{j}^{\\prime} \\mathbf{e}_{k} = 0\n",
    "$$  \n",
    "\n",
    "进一步能得到  \n",
    "\n",
    "$$\n",
    "\\sum_{j=1}^{p} \\operatorname{var}\\left(Z_{j}\\right) = \\sum_{j=1}^{p}\\lambda_{j} = \\operatorname{tr}(\\Sigma) =   \\sum_{j=1}^{p} \\operatorname{var}\\left(Y_{j}\\right)\n",
    "$$  \n",
    "\n",
    "注: $\\operatorname{tr}(\\Sigma)$是$\\Sigma$主对角元素之和，等于特征值之和。"
   ]
  },
  {
   "cell_type": "markdown",
   "metadata": {},
   "source": [
    "#### 理解主成分"
   ]
  },
  {
   "cell_type": "markdown",
   "metadata": {},
   "source": [
    "<img src='00. 多元统计分析_PCA理解.png' style='zoom:50%'/>"
   ]
  },
  {
   "cell_type": "markdown",
   "metadata": {},
   "source": [
    "#### 方差贡献度"
   ]
  },
  {
   "cell_type": "markdown",
   "metadata": {},
   "source": [
    "- 第$k$个主成分贡献的方差，占总体方差的比例可表示如下:  \n",
    "\n",
    "$$\\frac{\\lambda_{k}}{\\sum_{j=1}^{p} \\lambda_{j}}, \\ k=1, \\ldots, p$$\n",
    "\n",
    "- 如果前面几个主成分可贡献总体的大部分方差/信息(如80%)， 那么这些主成分能够以较少的信息损失来代替原始变量"
   ]
  },
  {
   "cell_type": "markdown",
   "metadata": {},
   "source": [
    "### 7.2.2 基于标准化变量的主成分分析"
   ]
  },
  {
   "attachments": {},
   "cell_type": "markdown",
   "metadata": {},
   "source": [
    "如果变量$\\mathbf{y}=\\left(Y_{1}, \\ldots, Y_{p}\\right)^{\\prime}$的数值(由于度量单位不同等原因)差距过大，直接由协方差矩阵$\\Sigma$生成的主成分会由方差大的变量主导.  \n",
    "\n",
    "在这种情况下，我们对每一个变量$Y_{j}$做标准化  \n",
    "\n",
    "$$W_{j}=\\left(Y_{j}-\\mu_{j}\\right) / \\sqrt{\\sigma_{j j}} \\quad j=1, \\ldots, p$$  \n",
    "\n",
    "即  \n",
    "\n",
    "$$\\mathbf{w}=\\mathbf{D}_{s}^{-1}(\\mathbf{y}-\\boldsymbol{\\mu})$$  \n",
    "\n",
    "这里，$\\mathbf{w}=\\left(W_{1}, \\ldots, W_{p}\\right)^{\\prime}$，$\\mathbf{D}_{s}=\\operatorname{diag}\\left(\\sqrt{\\sigma_{11}}, \\ldots, \\sqrt{\\sigma_{p p}}\\right)$"
   ]
  },
  {
   "cell_type": "markdown",
   "metadata": {},
   "source": [
    "对变换后的$\\mathbf{w}$作主成分分析  \n",
    "\n",
    "$$\n",
    "\\begin{eqnarray}\n",
    "\\text{Cov}(\\mathbf{w}) &=& \\text{Cov}\\left(\\mathbf{D}_{s}^{-1}(\\mathbf{y}-\\boldsymbol{\\mu})\\right) = \\mathbf{D}_{s}^{-1}\\text{Cov}\\left(\\mathbf{y}-\\boldsymbol{\\mu}\\right)\\mathbf{D}_{s}^{\\prime -1} \\\\\n",
    "&=& \\mathbf{D}_{s}^{-1} \\Sigma \\mathbf{D}_{s}^{-1}   \\\\\n",
    "&=& \\color{red}{\\mathbf{R}}\n",
    "\\end{eqnarray}\n",
    "$$"
   ]
  },
  {
   "cell_type": "markdown",
   "metadata": {},
   "source": [
    "由于$\\text{Cov}(\\mathbf{w}) = \\color{red}{\\mathbf{R}}$，即$\\mathbf{y}$的相关系数矩阵。因此，对$W_{1}, \\ldots, W_{p}$进行主成分分析，等价于基于原变量$Y_{1}, \\ldots, Y_{p}$的相关系数矩阵进行主成分分析。"
   ]
  },
  {
   "cell_type": "markdown",
   "metadata": {},
   "source": [
    "#### 定理"
   ]
  },
  {
   "cell_type": "markdown",
   "metadata": {},
   "source": [
    "记$\\left(\\tilde{\\lambda}_{1}, \\tilde{\\mathbf{e}}_{1}\\right), \\ldots,\\left(\\tilde{\\lambda}_{p}, \\tilde{\\mathbf{e}}_{p}\\right)$为相关系数矩阵$\\mathbf{R}$的特征值-特征向量，这里$\\tilde{\\lambda}_{1} \\geq \\ldots \\geq \\tilde{\\lambda}_{p} \\geq 0$，$\\tilde{\\mathbf{e}}_{1}, \\ldots, \\tilde{\\mathbf{e}}_{p}$是标准化的  \n",
    "\n",
    "于是，变量$W_{1}, \\ldots, W_{p}$的第$j$个主成分由下式给出:  \n",
    "\n",
    "$$\n",
    "V_{j} = \\tilde{\\mathbf{e}}_{j}^{\\prime} \\mathbf{w}=\\tilde{e}_{j 1} W_{1}+\\tilde{e}_{j 2} W_{2}+\\ldots+\\tilde{e}_{j p} W_{p},\\quad j=1, \\ldots, p\n",
    "$$  \n",
    "\n",
    "这里有 \n",
    "\n",
    "$$\\sum_{j=1}^{p} \\operatorname{var}\\left(V_{j}\\right)=\\sum_{j=1}^{p} \\operatorname{var}\\left(W_{j}\\right)=p$$"
   ]
  },
  {
   "cell_type": "markdown",
   "metadata": {},
   "source": [
    "等式右边:  \n",
    "\n",
    "$$\n",
    "\\operatorname{var}\\left(W_{j}\\right) = \\operatorname{var}\\left( \\frac{Y_{j}-u_{j}}{\\sqrt{\\sigma_{jj}}} \\right) = \\frac{\\operatorname{var}(Y_{j})}{\\sigma_{jj}} =  1 \n",
    "$$"
   ]
  },
  {
   "cell_type": "markdown",
   "metadata": {},
   "source": [
    "等式左边:  \n",
    "\n",
    "$$\n",
    "\\operatorname{var}\\left(V_{j}\\right) = \\operatorname{var}\\left( \\tilde{\\mathbf{e}}_{j}^{\\prime} \\mathbf{w} \\right) = \\tilde{\\mathbf{e}}_{j}^{\\prime}\\operatorname{var}(\\mathbf{w})\\tilde{\\mathbf{e}}_{j} = \\tilde{\\mathbf{e}}_{j}^{\\prime} \\mathbf{R}\\tilde{\\mathbf{e}}_{j} = \\tilde{\\lambda}_{j}\n",
    "$$"
   ]
  },
  {
   "cell_type": "markdown",
   "metadata": {},
   "source": [
    "## 7.3 样本主成分分析"
   ]
  },
  {
   "cell_type": "markdown",
   "metadata": {},
   "source": [
    "<img src='00. 多元统计分析_样本PCA.png' style='zoom:50%'/>"
   ]
  },
  {
   "cell_type": "markdown",
   "metadata": {},
   "source": [
    "- 用$\\pmb{y}_{1}, \\ldots, \\pmb{y}_{n}$表示$n$个<font color=red>独立同分布</font>的$p$维随机向量样本，$\\pmb{y}_{i}=\\left( y_{i1},\\cdots, y_{ip} \\right)^{\\prime}$样本均值为$\\overline{\\pmb{y}}$，样本协方差矩阵为$\\mathbf{S}$，相关系数矩阵为$\\mathbf{R}$"
   ]
  },
  {
   "attachments": {},
   "cell_type": "markdown",
   "metadata": {},
   "source": [
    "- 对每个样本向量，一个线性组合可以表示为$z_{i}=\\mathbf{a}^{\\prime} \\mathbf{y}_{i}$，样本均值为$\\bar{z} = \\mathbf{a}^{\\prime} \\bar{\\mathbf{y}}$，样本方差为$s_{z}^{2}=$- 对每个样本向量，一个线性组合可以表示为$z_{i}=\\mathbf{a}^{\\prime} \\mathbf{y}_{i}$，样本均值为$\\bar{z} = \\mathbf{a}^{\\prime} \\bar{\\mathbf{y}}$，样本方差为$s_{z}^{2}=\\mathbf{a}^{\\prime}\\mathbf{S}\\mathbf{a}$. 对于两个线性组合$z_{i 1}=\\mathbf{a}_{1}^{\\prime} \\mathbf{y}_{i}$和$z_{i 2}=\\mathbf{a}_{2}^{\\prime} \\mathbf{y}_{i}$，他们的样本协方差是$s_{z_{1} z_{2}}=\\mathbf{a}_{1}^{\\prime} \\mathbf{S a}_{2}$"
   ]
  },
  {
   "cell_type": "markdown",
   "metadata": {},
   "source": [
    "#### 定理"
   ]
  },
  {
   "cell_type": "markdown",
   "metadata": {},
   "source": [
    "记$\\left(\\hat{\\lambda}_{1}, \\hat{\\mathbf{e}}_{1}\\right), \\ldots,\\left(\\hat{\\lambda}_{p},\\hat{\\mathbf{e}}_{p}\\right)$为$\\mathbf{S}$的特征值-特征向量，其中$\\hat{\\lambda}_{1} \\geq \\ldots \\geq \\hat{\\lambda}_{p} \\geq 0$，$\\hat{\\mathbf{e}}_{1},\\ldots, \\hat{\\mathbf{e}}_{p}$经过了标准化。  \n",
    "\n",
    "那么由第$i$个样本得到的第$j$个主成分为:  \n",
    "\n",
    "$$z_{i j}=\\hat{\\mathbf{e}}_{j}^{\\prime} \\mathbf{y}_{i}=\\hat{e}_{j 1} y_{i 1}+\\hat{e}_{j 2} y_{i 2}+\\ldots+\\hat{e}_{j p} y_{i p}, \\ j=1, \\ldots, p, \\ i=1, \\ldots, n$$  \n",
    "\n",
    "其中  \n",
    "\n",
    "$$\n",
    "s_{z_{j}}^{2}=\\hat{\\mathbf{e}}_{j}^{\\prime} \\mathbf{S e}_{j}=\\hat{\\lambda}_{j} \\\\ \n",
    "s_{z_{j} z_{k}}=\\hat{\\mathbf{e}}_{j}^{\\prime} \\mathbf{S} \\hat{\\mathbf{e}}_{k}=0 \\\\ j, k=1, \\ldots, p, j \\neq k\n",
    "$$"
   ]
  },
  {
   "cell_type": "markdown",
   "metadata": {},
   "source": [
    "更进一步地，记$s_{jj}$为$\\mathbf{S}$的第$j$个对角元，那么有 \n",
    "\n",
    "$$\n",
    "样本总方差 = \\sum_{j=1}^{p} s_{j j}=\\sum_{j=1}^{p} \\hat{\\lambda}_{j}\n",
    "$$"
   ]
  },
  {
   "cell_type": "code",
   "execution_count": null,
   "metadata": {},
   "outputs": [],
   "source": []
  }
 ],
 "metadata": {
  "kernelspec": {
   "display_name": "Python [conda env:root] *",
   "language": "python",
   "name": "conda-root-py"
  },
  "language_info": {
   "codemirror_mode": {
    "name": "ipython",
    "version": 3
   },
   "file_extension": ".py",
   "mimetype": "text/x-python",
   "name": "python",
   "nbconvert_exporter": "python",
   "pygments_lexer": "ipython3",
   "version": "3.7.1"
  }
 },
 "nbformat": 4,
 "nbformat_minor": 2
}

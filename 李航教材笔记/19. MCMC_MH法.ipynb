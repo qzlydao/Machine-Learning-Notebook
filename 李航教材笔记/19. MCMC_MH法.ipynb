{
 "cells": [
  {
   "cell_type": "markdown",
   "metadata": {},
   "source": [
    "## 19.4 Metropolis-Hastings算法"
   ]
  },
  {
   "cell_type": "markdown",
   "metadata": {},
   "source": [
    "目标分布为$p(x)$，求一个转移核$p(x,x^{\\prime})$，使得  \n",
    "\n",
    "$$\n",
    "p(x)p(x, x^{\\prime}) = p(x^{\\prime})p(x^{\\prime}, x)\n",
    "$$\n",
    "\n",
    "即满足细致平衡条件，使得$p(x)$是马尔科夫链的平稳分布。"
   ]
  },
  {
   "cell_type": "markdown",
   "metadata": {},
   "source": [
    "### 19.4.1 基本原理"
   ]
  },
  {
   "cell_type": "markdown",
   "metadata": {},
   "source": [
    "#### 1. 马尔科夫链"
   ]
  },
  {
   "cell_type": "markdown",
   "metadata": {},
   "source": [
    "假设要抽样的概率分布为$p(x)$。  \n",
    "\n",
    "MH算法采用转移核为$p(x, x^{\\prime})$的马尔科夫链:  \n",
    "\n",
    "$$p\\left(x, x^{\\prime}\\right)=q\\left(x, x^{\\prime}\\right) \\alpha\\left(x, x^{\\prime}\\right) \\tag{19.38}\n",
    "$$"
   ]
  },
  {
   "cell_type": "markdown",
   "metadata": {},
   "source": [
    "其中，$q\\left(x, x^{\\prime}\\right)$为建议分布，$\\alpha\\left(x, x^{\\prime}\\right)$为接受分布。"
   ]
  },
  {
   "cell_type": "markdown",
   "metadata": {},
   "source": [
    "<font color=blue>建议分布$q(x, x^{\\prime})$是另一个马尔科夫链的转移核，并且$q(x, x^{\\prime})$是不可约的，即其概率值恒不为0，同时是一个容易抽样的分布。</font>接受分布:  \n",
    "\n",
    "$$\n",
    "\\alpha(x, x^{\\prime}) = \\min \\left\\{ 1, \\frac{p(x^{\\prime})q(x^{\\prime}, x)}{p(x)q(x, x^{\\prime})}  \\right\\} \\tag{19.39}\n",
    "$$"
   ]
  },
  {
   "cell_type": "markdown",
   "metadata": {},
   "source": [
    "这时，转移核$p(x,x^{\\prime})$可以写成  \n",
    "\n",
    "$$\n",
    "p(x, x^{\\prime})=\\left\\{\\begin{array}{ll}q(x, x^{\\prime}), & p(x^{\\prime}) q(x^{\\prime}, x) \\geqslant p(x) q(x, x^{\\prime}) \\\\ q(x^{\\prime}, x) \\frac{p(x^{\\prime})}{p(x)}, & p(x^{\\prime}) q(x^{\\prime}, x)<p(x) q(x, x^{\\prime})\\end{array}\\right. \\tag{19.40}\n",
    "$$"
   ]
  },
  {
   "cell_type": "markdown",
   "metadata": {},
   "source": [
    "**随机游走方式:**  \n",
    "如果在$(t-1)$处于状态$x$，即$x_{t-1}=x$，则先按建议分布$q(x, x^{\\prime})$抽样产生一个候选状态$x^{\\prime}$，然后按照接受分布$\\alpha(x, x^{\\prime})$抽样决定是否接受状态$x^{\\prime}$。以概率$\\alpha(x, x^{\\prime})$接受$x^{\\prime}$，决定时刻$t$转移到状态$x^{\\prime}$，而以概率$1-\\alpha(x, x^{\\prime})$拒绝$x^{\\prime}$，<font color=red>决定时刻$t$仍停留在状态$x$。</font>具体地，从$U[0,1]$抽取一个随机数$u$，决定时刻$t$的状态。 \n",
    "\n",
    "$$x_{t}=\\left\\{\\begin{array}{ll}x^{\\prime}, & u \\leqslant \\alpha\\left(x, x^{\\prime}\\right) \\\\ x, & u>\\alpha\\left(x, x^{\\prime}\\right)\\end{array}\\right.$$"
   ]
  },
  {
   "cell_type": "markdown",
   "metadata": {},
   "source": [
    "#### 定理19.6 （MH法的充分性）\n",
    "\n",
    "由转移核（19.38）~（19.40）构成的马尔科夫链是可逆的，即  \n",
    "$$\n",
    "p(x)p(x, x^{\\prime}) = p(x^{\\prime})p(x^{\\prime}, x) \\tag{19.41}\n",
    "$$\n",
    "并且$p(x)$是平稳分布。"
   ]
  },
  {
   "cell_type": "markdown",
   "metadata": {},
   "source": [
    "**证1（可逆）:**  \n",
    "\n",
    "$$\n",
    "\\begin{eqnarray}\n",
    "p(x)p(x, x^{\\prime}) &=& p(x)q(x, x^{\\prime}) \\alpha(x, x^{\\prime}) \\\\\n",
    "&=& p(x)q(x, x^{\\prime}) \\min \\left\\{ 1, \\frac{p(x^{\\prime})q(x^{\\prime}, x)}{p(x)q(x, x^{\\prime})}  \\right\\}  \\\\\n",
    "&=& \\min \\left\\{ p(x)q(x, x^{\\prime}),\\  p(x^{\\prime})q(x^{\\prime}, x)  \\right\\} \\\\\n",
    "&=& p(x^{\\prime})q(x^{\\prime}, x) \\min \\left\\{ \\frac{p(x)q(x, x^{\\prime})}{p(x^{\\prime})q(x^{\\prime}, x)},1 \\right\\} \\\\\n",
    "&=& p(x^{\\prime})p(x^{\\prime}, x)\n",
    "\\end{eqnarray}\n",
    "$$"
   ]
  },
  {
   "cell_type": "markdown",
   "metadata": {},
   "source": [
    "**证2（平稳）:**\n",
    "\n",
    "$$\n",
    "\\begin{eqnarray}\n",
    "\\int p(x)p(x, x^{\\prime}) \\mathrm{d}x &=& \\int p(x^{\\prime})p(x^{\\prime}, x) \\mathrm{d}x \\\\\n",
    "&=& p(x^{\\prime})\\int p(x^{\\prime}, x) \\mathrm{d}x  \\\\\n",
    "&=& p(x^{\\prime})\n",
    "\\end{eqnarray}\n",
    "$$"
   ]
  },
  {
   "cell_type": "markdown",
   "metadata": {},
   "source": [
    "#### 2. 建议分布$q(x, x^{\\prime})$"
   ]
  },
  {
   "cell_type": "markdown",
   "metadata": {},
   "source": [
    "- **形式1:** 假设建议分布是对称的，即对任意$x$和$x^{\\prime}$有\n",
    "$$\n",
    "\\begin{eqnarray}\n",
    "q(x,x^{\\prime}) &=& q(x^{\\prime}, x) \\tag{19.42} \\\\\n",
    "\\alpha(x, x^{\\prime}) &=& \\min \\left\\{ 1, \\frac{p(x^{\\prime})}{p(x)}  \\right\\} \\tag{19.43}\n",
    "\\end{eqnarray}  \n",
    "$$\n",
    "这样的建议分布称为Metropolis选择。\n",
    "\n",
    "    **特例1:** $q(x,x^{\\prime})$取条件概率分布$p(x^{\\prime} | x)$，定义为多元正态分布，均值为$x$，协差阵$\\Sigma$为常数矩阵。  \n",
    "    \n",
    "    **特例2:** $q(x,x^{\\prime}) = q(|x - x^{\\prime}|)$，这时算法称为随机游走Metropolis算法。例如: $q(x,x^{\\prime}) \\propto \\exp \\left(- \\frac{(x^{\\prime} - x)^{2}}{2}\\right)$"
   ]
  },
  {
   "cell_type": "markdown",
   "metadata": {},
   "source": [
    "- **形式2:** 独立抽样。假设$q(x, x^{\\prime})$与当前状态$x$无关，即$q(x,x^{\\prime}) = q(x^{\\prime})$。建议分布的计算按照$q(x^{\\prime})$独立抽样进行。   \n",
    "$$\n",
    "\\begin{eqnarray}\n",
    "q(x,x^{\\prime}) &=& q(x^{\\prime}) \\\\\n",
    "\\alpha(x, x^{\\prime}) &=& \\min \\left\\{1, \\frac{w(x^{\\prime})}{w(x)}\\right\\}\n",
    "\\end{eqnarray}\n",
    "$$\n",
    "其中$w(x^{\\prime})=p(x^{\\prime}) / q(x^{\\prime}),\\ w(x)=p(x) / q(x)$"
   ]
  },
  {
   "cell_type": "markdown",
   "metadata": {},
   "source": [
    "#### 4. 满条件分布<font color=red>???</font>\n",
    "马尔科夫链蒙特卡罗法的目标分布通常是多元联合概率分布$p(x)=p(x_{1}, x_{2}, \\cdots, x_{k})$，其中$x=\\left(x_{1}, x_{2}, \\cdots, x_{k}\\right)^{\\mathrm{T}}$为$k$维随机变量。如果条件概率分布$p(x_{I}|x_{-I})$中所有$k$个变量全部出现，其中$x_{I}=\\left\\{x_{i}, i \\in I\\right\\}, x_{-I}=\\left\\{x_{i}, i \\notin I\\right\\}, I \\subset K=\\{1,2, \\cdots, k\\}$，那么称这种条件概率分布为满条件分布（full conditional distribution）。"
   ]
  },
  {
   "cell_type": "markdown",
   "metadata": {},
   "source": [
    "**满条件分布性质:**  \n",
    "1. 对任意的$x,x^{\\prime}\\in \\mathcal{X}$和任意的$I \\subset{K}$，有  \n",
    "\n",
    "$$\n",
    "\\begin{eqnarray}\n",
    "p\\left(x_{I} | x_{-I}\\right) &=& \\frac{p(x)}{\\int p(x) \\mathrm{d} x_{I}} \\propto p(x) \\tag{19.45} \\\\\n",
    "\\frac{p(x_{I}^{\\prime} | x_{-I}^{\\prime})}{p(x_{I} | x_{-I})} &=& \\frac{p(x^{\\prime})}{p(x)} \\tag{19.46}\n",
    "\\end{eqnarray}\n",
    "$$"
   ]
  },
  {
   "cell_type": "markdown",
   "metadata": {},
   "source": [
    "利用满条件分布性质（19.46）可以对（19.40）中计算联合概率的比$\\frac{p(x^{\\prime})}{p(x)}$进行简化计算，计算满条件分布概率的比$\\frac{p(x_{I}^{\\prime} | x_{-I}^{\\prime})}{p(x_{I} | x_{-I})}$比前者更容易计算。"
   ]
  },
  {
   "cell_type": "markdown",
   "metadata": {},
   "source": [
    "### 19.4.2 Metropolis-Hastings算法"
   ]
  },
  {
   "cell_type": "markdown",
   "metadata": {},
   "source": [
    "输入: 抽样的目标分布的密度函数$p(x)$，函数$f(x)$  \n",
    "\n",
    "输出: $p(x)$的随机样本$x_{m+1}, x_{m+2}, \\cdots, x_{n}$，函数样本均值$f_{mn}$  \n",
    "\n",
    "参数: 收敛步数$m$，迭代步数$n$."
   ]
  },
  {
   "cell_type": "markdown",
   "metadata": {},
   "source": [
    "（1）任意选择一个初始值$x_{0}$  \n",
    "\n",
    "（2）对$i=1,2, \\cdots, n$循环执行\n",
    "\n",
    "&emsp;&emsp;（2.1）设状态$x_{i-1}=x$，按照建议分布$q(x, x^{\\prime})$随机抽取一个候选状态$x^{\\prime}$。  \n",
    "\n",
    "&emsp;&emsp;（2.2）计算接受概率  \n",
    "\n",
    "$$\n",
    "\\alpha(x, x^{\\prime}) = \\min \\left\\{ 1, \\frac{p(x^{\\prime})q(x^{\\prime}, x)}{p(x)q(x, x^{\\prime})}  \\right\\} \n",
    "$$\n",
    "\n",
    "&emsp;&emsp;（2.3）从区间（0，1）中按均匀分布随机抽取一个数$u$.  \n",
    "&emsp;&emsp;&emsp;&emsp;&emsp;&emsp;若$u \\leq \\alpha(x, x^{\\prime})$，则状态$x_{i}=x^{\\prime}$；否则，状态$x_{i}=x$.\n",
    "\n",
    "（3）得到样本集合$\\left\\{x_{m+1}, x_{m+2}, \\cdots, x_{n}\\right\\}$  \n",
    "&emsp;&emsp;&emsp;计算  \n",
    "\n",
    "$$\n",
    "f_{m n}=\\frac{1}{n-m} \\sum_{i=m+1}^{n} f\\left(x_{i}\\right)\n",
    "$$"
   ]
  },
  {
   "cell_type": "markdown",
   "metadata": {},
   "source": [
    "### 19.4.3 单分量Metropolis-Hastings算法"
   ]
  },
  {
   "cell_type": "markdown",
   "metadata": {},
   "source": [
    "对多元随机变量抽样困难时，<font color=blue>可以对多元变量的每一变量的条件分布依次分别进行抽样，从而实现对整个多元变量的一次抽样</font>，这就是单分量Metropolis-Hastings（single-component Metropolis-Hastings）算法。"
   ]
  },
  {
   "cell_type": "markdown",
   "metadata": {},
   "source": [
    "马尔科夫链的状态由$k$维随机变量表示:  \n",
    "\n",
    "$$\n",
    "x=\\left(x_{1}, x_{2}, \\cdots, x_{k}\\right)^{\\mathrm{T}}\n",
    "$$"
   ]
  },
  {
   "cell_type": "markdown",
   "metadata": {},
   "source": [
    "时刻$i$的状态表示为  \n",
    "\n",
    "$$\n",
    "x^{(i)}=\\left(x_{1}^{(i)}, x_{2}^{(i)}, \\cdots, x_{k}^{(i)}\\right)^{\\mathrm{T}}, \\quad i=1,2, \\cdots, n\n",
    "$$"
   ]
  },
  {
   "cell_type": "markdown",
   "metadata": {},
   "source": [
    "为了生成容量为$n$ 的样本集合$\\left\\{x^{(1)}, x^{(2)}, \\cdots, x^{(n)}\\right\\}$，单分量Metropolis-Hastings算法由下面的$k$ 步迭代实现MH算法的一次迭代。"
   ]
  },
  {
   "cell_type": "markdown",
   "metadata": {},
   "source": [
    "设在第$(i-1)$次迭代结束时分量$x_{j}$的取值为$x_{j}^{(i-1)}$，在第$i$次迭代的第$j$步，对分量$x_{j}$根据MH算法更新，得到其新的取值$x_{j}^{(i)}$。  \n",
    "\n",
    "（1）由建议分布$q\\left(x_{j}^{(i-1)}, x_{j} | x_{-j}^{(i)}\\right)$抽样产生分量$x_{j}$的候选值$x_{j}^{\\prime(i)}$，这里$x_{-j}^{(i)}$表示为  \n",
    "\n",
    "$$\n",
    "x_{-j}^{(i)}=\\left(x_{1}^{(i)}, \\cdots, x_{j-1}^{(i)}, x_{j+1}^{(i-1)}, \\cdots, x_{k}^{(i-1)}\\right)^{\\mathrm{T}}\n",
    "$$"
   ]
  },
  {
   "cell_type": "markdown",
   "metadata": {},
   "source": [
    "（2）按照接受概率  \n",
    "$$\n",
    "\\alpha(x_{j}^{(i-1)}, x_{j}^{(i)} | x_{-j}^{(i)})=\\min \\left\\{1, \\frac{p(x_{j}^{\\prime(i)} | x_{-j}^{(i)}) q(x_{j}^{\\prime(i)}, x_{j}^{(i-1)} | x_{-j}^{(i)})}{p(x_{j}^{(i-1)} | x_{-j}^{(i)}) q(x_{j}^{(i-1)}, x_{j}^{\\prime}{ }_{j}^{(i)} | x_{-j}^{(i)})}\\right\\} \\tag{19.47}\n",
    "$$  \n",
    "抽样决定是否接受候选值$x_{j}^{\\prime(i)}$。如果被接受，则令$x_{j}^{(i)}=x_{j}^{\\prime(i)}$；否则令$x_{j}^{(i)}=x_{j}^{(i-1)}$。其余分量在第$j$步不改变。马尔科夫链的转移概率为  \n",
    "\n",
    "$$\n",
    "p\\left(x_{j}^{(i-1)}, x_{j}^{\\prime(i)} | x_{-j}^{(i)}\\right)=\\alpha\\left(x_{j}^{(i-1)}, x_{j}^{\\prime(i)} | x_{-j}^{(i)}\\right) q\\left(x_{j}^{(i-1)}, x_{j}^{\\prime(i)} | x_{-j}^{(i)}\\right) \\tag{19.48}\n",
    "$$"
   ]
  },
  {
   "cell_type": "markdown",
   "metadata": {},
   "source": [
    "<img src='19.4_单变量MH算法.png' style='zoom:50%'/>"
   ]
  },
  {
   "cell_type": "markdown",
   "metadata": {},
   "source": [
    "## 19.5 吉布斯抽样"
   ]
  },
  {
   "cell_type": "markdown",
   "metadata": {},
   "source": [
    "Gibbs Sampling可以看作是MH算法的特殊情况，但更容易实现，因而被广泛使用。"
   ]
  },
  {
   "cell_type": "markdown",
   "metadata": {},
   "source": [
    "### 19.5.1 基本原理"
   ]
  },
  {
   "cell_type": "markdown",
   "metadata": {},
   "source": [
    "Gibbs Sampling用于多元变量联合分布的抽样和估计。其基本做法是，<font color=blue>从联合概率分布定义满条件概率分布，依次对满条件概率分布进行抽样，得到样本的序列。</font>"
   ]
  },
  {
   "cell_type": "markdown",
   "metadata": {},
   "source": [
    "Gibbs Sampling是单分量Metropolis-Hastings算法的特殊情况。定义建议分布是当前变量$x_{j}，j=1,2,\\cdots,k$的满条件分布  \n",
    "\n",
    "$$\n",
    "q(x, x^{\\prime}) = p(x_{j}^{\\prime}|x_{-j}) \\tag{19.49}\n",
    "$$"
   ]
  },
  {
   "cell_type": "markdown",
   "metadata": {},
   "source": [
    "这时，接受率$\\alpha=1$， \n",
    "\n",
    "$$\n",
    "\\begin{aligned}\n",
    "\\alpha\\left(x, x^{\\prime}\\right) &=\\min \\left\\{1, \\frac{p\\left(x^{\\prime}\\right) q\\left(x^{\\prime}, x\\right)}{p(x) q\\left(x, x^{\\prime}\\right)}\\right\\} \\\\\n",
    "&=\\min \\left\\{1, \\frac{p\\left(x_{-j}^{\\prime}\\right) p\\left(x_{j}^{\\prime} | x_{-j}^{\\prime}\\right) p\\left(x_{j} | x_{-j}^{\\prime}\\right)}{p\\left(x_{-j}\\right) p\\left(x_{j} | x_{-j}\\right) p\\left(x_{j}^{\\prime}| x_{-j}\\right)}\\right\\}=1\n",
    "\\end{aligned}\n",
    "$$"
   ]
  },
  {
   "cell_type": "markdown",
   "metadata": {},
   "source": [
    "这里用到$p(x_{-j})=p(x_{-j}^{\\prime})$和$p(\\bullet|x_{-j}) = p(\\bullet|x_{-j}^{\\prime})$  \n",
    "\n",
    "转移核就是满条件概率分布\n",
    "\n",
    "$$\n",
    "\\color{red}{q(x, x^{\\prime}) = p(x_{j}^{\\prime}|x_{-j})} \\tag{19.51}\n",
    "$$"
   ]
  },
  {
   "cell_type": "markdown",
   "metadata": {},
   "source": [
    "<font color=blue>Gibbs Sampling对每次抽样的结果都接受，没有拒绝，这一点和一般的MH算法不同。</font>"
   ]
  },
  {
   "cell_type": "markdown",
   "metadata": {},
   "source": [
    "#### 算法19.3（Gibbs Sampling）"
   ]
  },
  {
   "cell_type": "markdown",
   "metadata": {},
   "source": [
    "输入: 抽样的目标分布的密度函数$p(x)$，函数$f(x)$  \n",
    "\n",
    "输出: $p(x)$的随机样本$x_{m+1}, x_{m+2}, \\cdots, x_{n}$，函数样本均值$f_{mn}$  \n",
    "\n",
    "参数: 收敛步数$m$，迭代步数$n$."
   ]
  },
  {
   "cell_type": "markdown",
   "metadata": {},
   "source": [
    "（1）初始化。给出初始样本$x^{(0)}=\\left(x_{1}^{(0)}, x_{2}^{(0)}, \\cdots, x_{k}^{(0)}\\right)^{\\mathrm{T}}$。\n",
    "\n",
    "（2）对$i$ 循环执行  \n",
    "&emsp;设第$(i-1)$次迭代结束时的样本为$x^{(i-1)}=\\left(x_{1}^{(i-1)}, x_{2}^{(i-1)}, \\cdots, x_{k}^{(i-1)}\\right)^{\\mathrm{T}}$，则第$i$次迭代进行如下几步操作:  \n",
    "\n",
    "&emsp;&emsp;（2.1）由满条件分布$p\\left(x_{1} | x_{2}^{(i-1)}, \\cdots, x_{k}^{(i-1)}\\right)$抽取$x_{1}^{(i)}$  \n",
    "\n",
    "&emsp;&emsp;&emsp;&emsp;&emsp;&emsp;$\\vdots$  \n",
    "\n",
    "&emsp;&emsp;（2.j）由满条件分布$p\\left(x_{j} | x_{1}^{(i)}, \\cdots, x_{j-1}^{(i)}, x_{j+1}^{(i-1)}, \\cdots, x_{k}^{(i-1)}\\right)$抽取$x_{j}^{(i)}$  \n",
    "\n",
    "&emsp;&emsp;&emsp;&emsp;&emsp;&emsp;$\\vdots$  \n",
    "\n",
    "\n",
    "&emsp;&emsp;（2.k）由满条件分布$p\\left(x_{k} | x_{1}^{(i)}, \\cdots, x_{k-1}^{(i)}\\right)$抽取$x_{k}^{(i)}$\n",
    "\n",
    "&emsp;得到第$i$次迭代值$x^{(i)}=\\left(x_{1}^{(i)}, x_{2}^{(i)}, \\cdots, x_{k}^{(i)}\\right)^{\\mathrm{T}}$  \n",
    "\n",
    "（3）得到样本集合 \n",
    "\n",
    "$$\n",
    "\\left\\{x^{(m+1)}, x^{(m+2)}, \\cdots, x^{(n)}\\right\\}\n",
    "$$ \n",
    "\n",
    "（4）计算\n",
    "\n",
    "$$\n",
    "f_{m n}=\\frac{1}{n-m} \\sum_{i=m+1}^{n} f\\left(x_{i}\\right)\n",
    "$$"
   ]
  },
  {
   "cell_type": "markdown",
   "metadata": {},
   "source": [
    "#### Gibbs Sampling和单分量MH法区别:"
   ]
  },
  {
   "cell_type": "markdown",
   "metadata": {},
   "source": [
    "1. Gibbs Sampling是单分量Metropolis-Hastings法的特殊情况；\n",
    "\n",
    "\n",
    "2. 建议分布$q(x, x^{\\prime})$不同: \n",
    "\n",
    "$$\n",
    "\\begin{eqnarray}\n",
    "\\text{Single-MH} &:& \\quad q(x, x^{\\prime}) = q\\left( x_{j}^{(i-1)},x_{j}|x_{-j}^{(i)} \\right) \\\\\n",
    "\\text{Gibbs} &:& \\quad q(x, x^{\\prime}) = p\\left( x_{j}^{\\prime}|x_{-j} \\right)\n",
    "\\end{eqnarray}\n",
    "$$\n",
    "\n",
    "\n",
    "3. 接受率$\\alpha(x, x^{\\prime})$不同:\n",
    "single-component MH接受率为（19.47）  \n",
    "而Gibbs接受率为1.\n",
    "\n",
    "\n",
    "4. single-component MH: 抽样会在样本点之间移动，但期间可能在某些样本点上停留（由于抽样被拒绝）；  \n",
    "Gibbs: 抽样会在样本点之间持续移动。"
   ]
  },
  {
   "cell_type": "markdown",
   "metadata": {},
   "source": [
    "## 19.6 MCMC总结"
   ]
  },
  {
   "cell_type": "markdown",
   "metadata": {},
   "source": [
    "#### MCMC存在的问题："
   ]
  },
  {
   "cell_type": "markdown",
   "metadata": {},
   "source": [
    "1. 理论只保证收敛性，但无法知道何时收敛；  \n",
    "\n",
    "\n",
    "2. mixing time过长，这是因为要采样的概率分布$p(x)$太复杂，维度高且不同维度间存在相关性；\n",
    "\n",
    "\n",
    "3. 样本之间有一定的相关性；\n",
    "\n",
    "\n",
    "4. 单峰 vs. 多峰（缓和 vs. 陡峭）  \n",
    "比如高斯混合模型，采样可能无法越过低概率区到另一个峰进行采样。"
   ]
  },
  {
   "cell_type": "code",
   "execution_count": null,
   "metadata": {},
   "outputs": [],
   "source": []
  }
 ],
 "metadata": {
  "kernelspec": {
   "display_name": "Python [conda env:root] *",
   "language": "python",
   "name": "conda-root-py"
  },
  "language_info": {
   "codemirror_mode": {
    "name": "ipython",
    "version": 3
   },
   "file_extension": ".py",
   "mimetype": "text/x-python",
   "name": "python",
   "nbconvert_exporter": "python",
   "pygments_lexer": "ipython3",
   "version": "3.7.1"
  }
 },
 "nbformat": 4,
 "nbformat_minor": 2
}

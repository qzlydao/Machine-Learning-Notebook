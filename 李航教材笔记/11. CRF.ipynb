{
 "cells": [
  {
   "cell_type": "markdown",
   "metadata": {},
   "source": [
    "# 第11章 条件随机场"
   ]
  },
  {
   "cell_type": "markdown",
   "metadata": {},
   "source": [
    "条件随机场（Conditional Random Field, CRF）是给定一组输入随机变量条件下另一组输出随机变量的条件概率分布模型，其特点是<font color='#c63c26'>假设输出随机变量构成马尔科夫随机场。</font>  "
   ]
  },
  {
   "cell_type": "markdown",
   "metadata": {},
   "source": [
    "## 11.1 概率无向图模型"
   ]
  },
  {
   "cell_type": "markdown",
   "metadata": {},
   "source": [
    "<font color='#c63c26'>概率无向图模型</font>，又称为<font color='#c63c26'>马尔科夫随机场</font>，是一个可以<font color='#c63c26'>由无向图表示的**联合**概率分布</font>。"
   ]
  },
  {
   "cell_type": "markdown",
   "metadata": {},
   "source": [
    "### 11.1.1 模型定义"
   ]
  },
  {
   "cell_type": "markdown",
   "metadata": {},
   "source": [
    "1. 图中结点记为$v$，边记作$e$，结点和边的集合分别记作$V=\\{v\\}$和$E=\\{e\\}$，图记作$G=(V,E)$.  \n",
    "  \n",
    "  \n",
    "2. 成对马尔可夫性:  \n",
    "$$\n",
    "P(Y_{u},Y_{v}|Y_{O}) = P(Y_{u}|Y_{O})P(Y_{v}|Y_{O})\n",
    "$$\n",
    "<img src='11.1_成对马尔可夫性.jpg' style='zoom:50%'/>  \n",
    "  \n",
    "  \n",
    "3. 局部马尔科夫性:\n",
    "$$\n",
    "P(Y_{v},Y_{O}|Y_{W}) = P(Y_{v}|Y_{W})P(Y_{O}|Y_{W})\n",
    "$$\n",
    "<img src='11.1_局部马尔可夫性.jpg' style='zoom:50%'/>   \n",
    "  \n",
    "  \n",
    "3. 全局马尔可夫性:\n",
    "$$\n",
    "P(Y_{A},Y_{B}|Y_{C}) = P(Y_{A}|Y_{C})P(Y_{B}|Y_{C})\n",
    "$$\n",
    "<img src='11.1_全局马尔可夫性.jpg' style='zoom:50%'/>   "
   ]
  },
  {
   "cell_type": "markdown",
   "metadata": {},
   "source": [
    "#### 概率无向图模型"
   ]
  },
  {
   "cell_type": "markdown",
   "metadata": {},
   "source": [
    "设$Y \\in \\mathcal{Y}$是一组随机变量，其联合概率$P(Y)$由无向图$G=(V,E)$表示，在图$G$中，节点表示随机变量，边表示随机变量之间的依赖关系。    \n",
    "\n",
    "如果$P(Y)$满足成对、局部或全局马尔可夫性，则称此联合概率分布为概率无向图模型，或马尔科夫随机场。"
   ]
  },
  {
   "cell_type": "markdown",
   "metadata": {},
   "source": [
    "### 11.1.2 概率无向图模型的因子分解"
   ]
  },
  {
   "cell_type": "markdown",
   "metadata": {},
   "source": [
    "1. 团（clique）: 图中任何两个结点均有边连接的节点子集；  \n",
    "  \n",
    "  \n",
    "2. 最大团（maximum clique）  \n",
    "  \n",
    "  \n",
    "3. 因子分解    \n",
    "无向图$G$，$C$为其上的最大团，$Y_{C}$表示$C$对应的随机变量。那么联合概率$P(Y)$可以写作图中所有最大团$C$上的函数$\\Psi_{C}(Y_{C})$的乘积形式:  \n",
    "$$\n",
    "P(Y) = \\frac{1}{Z} \\prod_{C}\\Psi_{C}(Y_{C})\n",
    "$$\n",
    "其中，$Z$是规范化因子 $Z=\\sum_{Y}\\prod_{C}\\Psi_{C}(Y_{C})$  \n",
    "  \n",
    "$\\Psi_{C}(Y_{C})$称为<font color=blue>势函数</font>，通常定义为指数函数:  \n",
    "$$\n",
    "\\Psi_{C}(Y_{C}) = \\exp{\\left\\{-E(Y_{C}) \\right\\}}\n",
    "$$"
   ]
  },
  {
   "cell_type": "markdown",
   "metadata": {},
   "source": [
    "## 11.2 条件随机场的定义与形式"
   ]
  },
  {
   "cell_type": "markdown",
   "metadata": {},
   "source": [
    "1. 条件随机场是给定随机变量$X$条件下，随机变量$Y$的马尔科夫场。  \n",
    "  \n",
    "  \n",
    "2. 在条件概率$P(Y|X)$中，$Y$是输出变量，表示标记序列，$X$是输入变量，表示需要标注的观测序列。  \n",
    "<img src='11.2_CRF示例.png' style='zoom:50%'/>"
   ]
  },
  {
   "cell_type": "markdown",
   "metadata": {},
   "source": [
    "#### 定义：条件随机场"
   ]
  },
  {
   "cell_type": "markdown",
   "metadata": {},
   "source": [
    "设$X$与$Y$是随机变量，$P(Y|X)$是给定条件$X$的条件下$Y$的条件概率分布。若随机变量$Y$构成一个无向图$G=(V,E)$表示的马尔科夫随机场，即：  \n",
    "  \n",
    "  \n",
    "$$\n",
    "P(Y_{v}|X,Y_{w},w \\neq v) = P(Y_{v}|X,Y_{w},w \\sim v)\n",
    "$$  \n",
    "  \n",
    "  \n",
    "  \n",
    "对任意节点$v$都成立，则称$P(Y|X)$为条件随机场。  \n",
    "$w \\sim v$ —— 表示在图中与结点$v$有边连接的所有节点$w$；  \n",
    "$w \\neq v$ —— 表示在图中结点$v$以外所有节点$w$；   \n",
    "\n",
    "<img src='11.2_线性链条件随机场.png' style='zoom:50%'/>"
   ]
  },
  {
   "cell_type": "markdown",
   "metadata": {},
   "source": [
    "#### 定义：线性链条件随机场"
   ]
  },
  {
   "cell_type": "markdown",
   "metadata": {},
   "source": [
    "设$X=(X_{1},X_{2},\\cdots,X_{n})$，$Y=(Y_{1},Y_{2},\\cdots,Y_{n})$均为线性链表示的随机变量序列，若在给定随机变量序列$X$的条件下，随机变量序列$Y$的条件概率分布$P(Y|X)$构成条件随机场，即满足马尔可夫性:  \n",
    "  \n",
    "  \n",
    "$$\n",
    "P(Y_{i}|X,Y_{1},\\cdots,Y_{i-1},Y_{i+1},\\cdots,Y_{n})=P(Y_{i}|X,Y_{i-1},Y_{i+1})\n",
    "$$\n",
    "则称$P(Y|X)$为线性链条件随机场。"
   ]
  },
  {
   "cell_type": "markdown",
   "metadata": {},
   "source": [
    "### 11.2.2 条件随机场的参数化形式"
   ]
  },
  {
   "cell_type": "markdown",
   "metadata": {},
   "source": [
    "#### 定理：线性链条件随机场的参数化形式"
   ]
  },
  {
   "cell_type": "markdown",
   "metadata": {},
   "source": [
    "设$P(Y|X)$为线性链条件随机场，则在随机变量$X$取值为$x$的条件下，随机变量$Y$取值为$y$的条件概率具有如下形式:  \n",
    "  \n",
    "  \n",
    "$$\n",
    "\\begin{eqnarray}\n",
    "P(y \\mid x) &=& \\frac{1}{Z(x)} \\exp \\left(\\sum_{i, k} \\lambda_{k} t_{k}\\left(y_{i-1}, y_{i}, x, i\\right)+\\sum_{i, l} \\mu_{l} s_{l}\\left(y_{i}, x, i\\right)\\right)  \\tag{11.10}\\\\\n",
    "Z(x) &=& \\sum_{y} \\exp \\left(\\sum_{i, k} \\lambda_{k} t_{k}\\left(y_{i-1}, y_{i}, x, i\\right)+\\sum_{i, l} \\mu_{l} s_{l}\\left(y_{i}, x, i\\right)\\right)\n",
    "\\end{eqnarray}\n",
    "$$"
   ]
  },
  {
   "cell_type": "markdown",
   "metadata": {},
   "source": [
    "$t_{k}$——<font color=blue>转移特征函数</font>，依赖当前和前一个位置；  \n",
    "$s_{l}$——<font color=blue>状态特征函数</font>，依赖于当前位置；  \n",
    "$\\lambda_{k}, u_{l}$——权值 "
   ]
  },
  {
   "cell_type": "markdown",
   "metadata": {},
   "source": [
    "$$\n",
    "\\begin{eqnarray}\n",
    "t_{k}(y_{i-1},y_{i},x,i)=\\left\\{\\begin{matrix}\n",
    "1  & 满足特征条件\\\\\n",
    "0  & 不满足\n",
    "\\end{matrix}\\right.\\\\\n",
    "s_{l}(y_{i},x,i)= \\left\\{\\begin{matrix}\n",
    "1  & 满足特征条件\\\\\n",
    "0  & 不满足\n",
    "\\end{matrix}\\right.\n",
    "\\end{eqnarray}\n",
    "$$"
   ]
  },
  {
   "cell_type": "markdown",
   "metadata": {},
   "source": [
    "线性链条件随机场也是<font color=blue>对数线性模型（log linear model）</font>. take log, then linear"
   ]
  },
  {
   "cell_type": "markdown",
   "metadata": {},
   "source": [
    "### 11.2.3 条件随机场的简化形式"
   ]
  },
  {
   "cell_type": "markdown",
   "metadata": {},
   "source": [
    "（11.10）可以简化成权值向量$w$和全局特征向量$F(y,x)$的内积形式:   \n",
    "  \n",
    "  \n",
    "为简便起见，将转移特征和状态特征及其权值用统一的符号表示。设有$K_{1}$个转移特征，$K_{2}$个状态特征，$K=K_{1}+K_{2}$，记  \n",
    "  \n",
    "  \n",
    "  \n",
    "$$\n",
    "f_{k}\\left(y_{i-1}, y_{i}, x, i\\right)=\\left\\{\\begin{array}{ll}\n",
    "t_{k}\\left(y_{i-1}, y_{i}, x, i\\right), & k=1,2, \\cdots, K_{1} \\\\\n",
    "s_{l}\\left(y_{i}, x, i\\right), & k=K_{1}+l ; l=1,2, \\cdots, K_{2}\n",
    "\\end{array}\\right.\n",
    "$$\n",
    "然后对各个位置求和:  \n",
    "$$\n",
    "f_{k}\\left(y,x\\right)=\\sum_{i=1}^{n}f_{k}\\left(y_{i-1}, y_{i}, x, i\\right)\n",
    "$$\n",
    "  \n",
    "  \n",
    "用$w_{k}$表示特征$f_{k}\\left(y,x\\right)$的权值，即\n",
    "$$\n",
    "w_{k}=\\left\\{\\begin{array}{ll}\n",
    "\\lambda_{k}, & k=1,2, \\cdots, K_{1} \\\\\n",
    "\\mu_{l}, & k=K_{1}+l ; l=1,2, \\cdots, K_{2}\n",
    "\\end{array}\\right.\n",
    "$$\n",
    "\n",
    "于是，条件随机场可写成权值向量和特征内积的形式：\n",
    "\n",
    "$$\n",
    "\\begin{eqnarray}\n",
    "\\color{blue}{P_{w}(y \\mid x)} &=& \\color{blue}{\\frac{\\exp \\left(w \\cdot F(y, x)\\right)}{Z_{w}(x)}} \\tag{11.19} \\\\\n",
    "\\color{blue}{Z_{w}(x)} &=& \\color{blue}{\\sum_{y}\\exp (w \\cdot F(y, x))} \\tag{11.20}\n",
    "\\end{eqnarray}\n",
    "$$\n",
    "其中："
   ]
  },
  {
   "cell_type": "markdown",
   "metadata": {},
   "source": [
    "- $w=\\left( w_{1}, w_{2}, \\cdots, w_{K} \\right)^{T}$\n",
    "- $F(y,x)=\\left(f_{1}(y,x), f_{2}(y,x), \\cdots, f_{K}(y,x) \\right)^{T}$"
   ]
  },
  {
   "cell_type": "markdown",
   "metadata": {},
   "source": [
    "### 11.2.4 条件随机场的矩阵形式"
   ]
  },
  {
   "cell_type": "markdown",
   "metadata": {},
   "source": [
    "对于线性链条件随机场，引进特殊的起点和终点状态标记$y_{0}=\\text{start}, y_{n+1}=\\text{end}$，这时$P_{w}(y|x)$可以通过矩阵形式表示。    \n",
    "  \n",
    "对观测序列$x$的每一个位置$i=1,2,\\cdots,n+1$，由于$y_{i-1}$和$y_{i}$都有$m$种可能取值，于是对每个位置，可以定义一个$m \\times m$矩阵:   \n",
    "\n",
    "$$\n",
    "M_{i}(x)=\\left[ M_{i}(y_{i-1},y_{i}|x) \\right]_{m \\times m}\n",
    "$$\n",
    "\n",
    "$$\n",
    "\\begin{array}{l}\n",
    "M_{i}\\left(y_{i-1}, y_{i} \\mid x\\right)=\\exp \\left(W_{i}\\left(y_{i-1}, y_{i} \\mid x\\right)\\right) \\\\\n",
    "W_{i}\\left(y_{i-1}, y_{i} \\mid x\\right)=\\sum_{k=1}^{K} w_{k} f_{k}\\left(y_{i-1}, y_{i}, x, i\\right)\n",
    "\\end{array}\n",
    "$$\n"
   ]
  },
  {
   "cell_type": "markdown",
   "metadata": {},
   "source": [
    "这样，给定观测序列$x$，相应标记序列$y$的非规范化概率可以通过该序列$n+1$个矩阵适当元素的乘积表示，于是$P_{w}(y|x)$是:  \n",
    "\n",
    "\n",
    "$$\n",
    "P_{w}(y \\mid x)=\\frac{1}{Z_{w}(x)} \\prod_{i=1}^{n+1} M_{i}\\left(y_{i-1}, y_{i} \\mid x\\right)\n",
    "$$"
   ]
  },
  {
   "cell_type": "markdown",
   "metadata": {},
   "source": [
    "其中，$Z_{w}(x)$为规范化因子，是$n+1$个矩阵乘积后的 (start, stop)元素:  \n",
    "  \n",
    "  \n",
    "$$\n",
    "Z_{w}(x)=\\left[M_{1}(x) M_{2}(x) \\cdots M_{n+1}(x)\\right]_{\\text {start,stop }}\n",
    "$$\n",
    "规范化因子是以start为起点，stop为终点，通过状态的所有路径$y_{1}y_{2}\\cdots y_{n}$的非规范化概率的和$\\sum_{y}\\prod_{i=1}^{n+1} M_{i}\\left(y_{i-1}, y_{i} \\mid x\\right)$"
   ]
  },
  {
   "cell_type": "markdown",
   "metadata": {},
   "source": [
    "#### 例"
   ]
  },
  {
   "cell_type": "markdown",
   "metadata": {},
   "source": [
    "如下图所示线性链条件随机场，观测序列$x$，状态序列$y$，$i=1,2,3$，$n=3$，标记$y_{i}\\in \\{1,2\\}$，假设$y_{0}=\\text{start}=1, y_{4}=stop=1$，各个位置的随机矩阵分别为:\n",
    "<img src='11.2_状态路径.png' style='zoom:50%'/>"
   ]
  },
  {
   "cell_type": "markdown",
   "metadata": {},
   "source": [
    "$$\n",
    "M_{1}(x)=\\begin{bmatrix}\n",
    " a_{01} & a_{02} \\\\\n",
    " 0 & 0\n",
    "\\end{bmatrix}, \n",
    "M_{2}(x)=\\begin{bmatrix}\n",
    " b_{11} & b_{12} \\\\\n",
    " b_{21} & b_{22}\n",
    "\\end{bmatrix} \\\\\n",
    "M_{3}(x)=\\begin{bmatrix}\n",
    " c_{11} & c_{12} \\\\\n",
    " c_{21} & c_{22}\n",
    "\\end{bmatrix}, \n",
    "M_{4}(x)=\\begin{bmatrix}\n",
    " 1 & 0 \\\\\n",
    " 1 & 0\n",
    "\\end{bmatrix}\n",
    "$$"
   ]
  },
  {
   "cell_type": "markdown",
   "metadata": {},
   "source": [
    "试求状态序列$y$以start为起点，stop为终点所有路径的非规范化概率及规范化因子。"
   ]
  },
  {
   "cell_type": "markdown",
   "metadata": {},
   "source": [
    "#### 解\n",
    "从start到stop对应$y=(1,1,1),y=(1,1,2),\\cdots,y=(2,2,2)$共$m^{n}=2^{3}=8$条路径，他们对应的非规范化概率分别是:    \n",
    "  \n",
    "  \n",
    "  \n",
    "$$\n",
    "a_{01}b_{11}c_{11},\\quad a_{01}b_{11}c_{12},\\quad a_{01}b_{12}c_{21},\\quad a_{01}b_{12}c_{22} \\\\\n",
    "a_{02}b_{21}c_{11},\\quad a_{02}b_{21}c_{12},\\quad a_{02}b_{22}c_{21},\\quad a_{02}b_{22}c_{22}\n",
    "$$"
   ]
  },
  {
   "cell_type": "markdown",
   "metadata": {},
   "source": [
    "求规范化因子，计算矩阵乘积$M_{1}(x)M_{2}(x)M_{3}(x)M_{4}(x)$可知，其第一行第一列元素为:  \n",
    "  \n",
    "  \n",
    "$$\n",
    "Z(x) = a_{01}b_{11}c_{11}+ a_{01}b_{11}c_{12}+ a_{01}b_{12}c_{21}+ a_{01}b_{12}c_{22} \\\\\n",
    "+a_{02}b_{21}c_{11}+ a_{02}b_{21}c_{12}+ a_{02}b_{22}c_{21}+ a_{02}b_{22}c_{22}\n",
    "$$\n",
    "恰好等于从start到stop的所有路径的非规划概率之和。"
   ]
  },
  {
   "cell_type": "markdown",
   "metadata": {},
   "source": [
    "## 11.3 条件随机场的概率计算问题"
   ]
  },
  {
   "cell_type": "markdown",
   "metadata": {},
   "source": [
    "### 11.3.1 前向-后向算法"
   ]
  },
  {
   "cell_type": "markdown",
   "metadata": {},
   "source": [
    "对每个指标$i=0,1,\\cdots, n+1$，定义前向向量$\\alpha_{i}(x)$($m$维): \n",
    "$$\n",
    "\\alpha_{0}(x)=\\left\\{\\begin{matrix}\n",
    " 1 & y_{0} = start\\\\\n",
    " 0 & \\text{other}\n",
    "\\end{matrix}\\right.\n",
    "$$"
   ]
  },
  {
   "cell_type": "markdown",
   "metadata": {},
   "source": [
    "<font color=blue>递推公式为:</font>  \n",
    "$$\n",
    "\\alpha_{i}^{T}(y_{i}|x) = \\alpha_{i-1}^{T}(y_{i-1}|x)[M_{i}(y_{i-1},y_{i}|x)], \\quad i=1,2,\\cdots,n+1\n",
    "$$\n",
    "又可表示为\n",
    "$$\n",
    "\\alpha_{i}^{T}(x) = \\alpha_{i-1}^{T}(x)M_{i}(x)\n",
    "$$"
   ]
  },
  {
   "cell_type": "markdown",
   "metadata": {},
   "source": [
    "<font color=blue>$\\alpha_{i}(y_{i}|x)$表示在位置$i$的标记是$y_{i}$并且到位置$i$的前部分标记序列的非规范化概率。</font>"
   ]
  },
  {
   "cell_type": "markdown",
   "metadata": {},
   "source": [
    "同样地，定义后向向量$\\beta_{i}(x)$:\n",
    "$$\n",
    "\\beta_{n+1}(y_{n+1}|x) = \\left\\{\\begin{matrix}\n",
    " 1 & y_{n+1}=stop\\\\\n",
    " 0 & \\text{other}\n",
    "\\end{matrix}\\right.\n",
    "$$"
   ]
  },
  {
   "cell_type": "markdown",
   "metadata": {},
   "source": [
    "递推公式表示为:\n",
    "$$\n",
    "\\beta_{i}(y_{i}|x) = [M_{i+1}(y_{i},y_{i+1}|x)]\\beta_{i+1}(y_{i+1}|x)\n",
    "$$\n",
    "又可表示为\n",
    "$$\n",
    "\\beta_{i}(x) = M_{i+1}(x)\\beta_{i+1}(x)\n",
    "$$"
   ]
  },
  {
   "cell_type": "markdown",
   "metadata": {},
   "source": [
    "$\\beta_{i}(y_{i}|x)$表示在位置$i$标记为$y_{i}$并且从<font color=red>$i+1$</font>到$n$的后部分标记序列的非规范化概率。"
   ]
  },
  {
   "cell_type": "markdown",
   "metadata": {},
   "source": [
    "由前向-后向向量定义不难得到:\n",
    "$$\n",
    "Z(x) = \\alpha_{\\color{red}{n}}^{T}(x)\\cdot \\mathbf{1} = \\mathbf{1} \\cdot \\beta_{\\color{red}{1}}^{T}(x)\n",
    "$$"
   ]
  },
  {
   "cell_type": "markdown",
   "metadata": {},
   "source": [
    "### 11.3.2 概率计算"
   ]
  },
  {
   "cell_type": "markdown",
   "metadata": {},
   "source": [
    "$$\n",
    "P(Y_{i}=y_{i}|x) = \\frac{\\alpha_{i}^{T}(y_{i}|x)\\beta_{i}(y_{i}|x)}{Z(x)} \\tag{11.32}\n",
    "$$"
   ]
  },
  {
   "cell_type": "markdown",
   "metadata": {},
   "source": [
    "$$\n",
    "P(Y_{i-1}=y_{i-1},Y_{i}=y_{i}|x) = \\frac{\\alpha_{i-1}^{T}(y_{i-1}|x)M_{i}(y_{i-1},y_{i}|x)\\beta_{i}(y_{i}|x)}{Z(x)} \\tag{11.33}\n",
    "$$"
   ]
  },
  {
   "cell_type": "markdown",
   "metadata": {},
   "source": [
    "### 11.3.3 期望值计算"
   ]
  },
  {
   "cell_type": "markdown",
   "metadata": {},
   "source": [
    "1. 特征函数$f_{k}$关于条件分布$P(Y|X)$的数学期望:  \n",
    "  \n",
    "  \n",
    "$$\n",
    "\\begin{eqnarray}\n",
    "E_{P(Y|X)}[f_{k}] &=& \\sum_{y}P(Y|X)f_{k}(y,x) \\\\\n",
    "&=& \\sum_{i=1}^{n+1}\\sum_{y_{i-1} y_{i}}f_{k}(y_{i-1},y_{i},x,i)\\frac{\\alpha_{i-1}^{T}(y_{i-1}|x)M_{i}(y_{i-1},y_{i}|x)\\beta_{i}(y_{i}|x)}{Z(x)}  \\tag{11.34}\n",
    "\\end{eqnarray}\n",
    "$$"
   ]
  },
  {
   "cell_type": "markdown",
   "metadata": {},
   "source": [
    "2. 假设经验分布为$\\tilde{P}(X)$，特征函数$f_{k}$关于联合分布$P(X,Y)$的数学期望是: "
   ]
  },
  {
   "cell_type": "markdown",
   "metadata": {},
   "source": [
    "$$\n",
    "\\begin{eqnarray}\n",
    "E_{P(X,Y)}[f_{k}] &=& \\sum_{x,y}\\left\\{P(x,y)\\sum_{i=1}^{n+1}f_{k}(y_{i-1},y_{i},x,i) \\right\\} \\\\\n",
    "&=& \\sum_{x}\\sum_{y} \\left\\{ \\tilde{P}(x) p(y|x) \\sum_{i=1}^{n+1}f_{k}(y_{i-1},y_{i},x,i) \\right\\} \\\\\n",
    "&=& \\sum_{x} \\left\\{ \\tilde{P}(x) \\left[ \\sum_{y}p(y|x) \\sum_{i=1}^{n+1}f_{k}(y_{i-1},y_{i},x,i) \\right] \\right\\} \\\\\n",
    "&=& \\sum_{x}\\tilde{P}(x) \\sum_{i=1}^{n+1} \\sum_{y_{i-1}y_{i}} f_{k}(y_{i-1},y_{i},x,i) \\frac{\\alpha_{i-1}^{T}(y_{i-1}|x)M_{i}(y_{i-1},y_{i}|x)\\beta_{i}(y_{i}|x)}{Z(x)} \\tag{11.35}\n",
    "\\end{eqnarray}\n",
    "$$"
   ]
  },
  {
   "cell_type": "markdown",
   "metadata": {},
   "source": [
    "有了式（11.32）~（11.35），对于给定的观测序列$x$与标记序列$y$，可以通过一次前向扫描计算$\\alpha_{i}$及$Z(x)$，通过一次后向扫描计算$\\beta{i}$，从而计算所有的概率和特征的期望。"
   ]
  }
 ],
 "metadata": {
  "kernelspec": {
   "display_name": "Python [conda env:root] *",
   "language": "python",
   "name": "conda-root-py"
  },
  "language_info": {
   "codemirror_mode": {
    "name": "ipython",
    "version": 3
   },
   "file_extension": ".py",
   "mimetype": "text/x-python",
   "name": "python",
   "nbconvert_exporter": "python",
   "pygments_lexer": "ipython3",
   "version": "3.7.1"
  }
 },
 "nbformat": 4,
 "nbformat_minor": 2
}

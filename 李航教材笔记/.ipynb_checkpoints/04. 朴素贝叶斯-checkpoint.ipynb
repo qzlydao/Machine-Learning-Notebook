{
 "cells": [
  {
   "cell_type": "markdown",
   "metadata": {},
   "source": [
    "# 第4章 朴素贝叶斯"
   ]
  },
  {
   "cell_type": "markdown",
   "metadata": {},
   "source": [
    "朴素贝叶斯基于: \n",
    "- 贝叶斯定理 $p(x,y)=p(x)p(y|x)=p(y)p(x|y)$  \n",
    "- 特征条件独立性假设  \n",
    "  \n",
    "  \n",
    "1. **学习:** 基于特征条件独立假设学习输入输出的联合概率分布。$p(x,y)=p(y)p(x|y)$;  \n",
    "2. **预测:** 对给定的输入$x$，利用贝叶斯定理求出后验概率最大的输出$y$。$y = \\arg\\max p(y|x)=\\arg\\max \\frac{p(y)p(x|y)}{\\sum_{y}p(y)p(x|y)}$"
   ]
  },
  {
   "cell_type": "markdown",
   "metadata": {},
   "source": [
    "## 4.1 贝叶斯法的学习与分类"
   ]
  },
  {
   "cell_type": "markdown",
   "metadata": {},
   "source": [
    "### 4.1.1 基本方法"
   ]
  },
  {
   "cell_type": "markdown",
   "metadata": {},
   "source": [
    "$X\\in \\mathbb{R}^{n}$为输入空间上的随机向量，$Y$为输出空间上的随机向量。$P(X,Y)$为二者的联合概率分布。训练数据集:  \n",
    "\n",
    "$$\n",
    "T=\\{ (x_{1},y_{1}),  (x_{2},y_{2}), \\cdots, (x_{N},y_{N})\\}\n",
    "$$\n",
    "\n",
    "由$P(X,Y)$<font color=red>独立同分布</font>产生。"
   ]
  },
  {
   "cell_type": "markdown",
   "metadata": {},
   "source": [
    "####  学习"
   ]
  },
  {
   "cell_type": "markdown",
   "metadata": {},
   "source": [
    "学习先验概率分布  \n",
    "$$\n",
    "P(Y=c_{k}), \\quad k=1,2,\\cdots,K \\tag{4.1}\n",
    "$$"
   ]
  },
  {
   "cell_type": "markdown",
   "metadata": {},
   "source": [
    "学习条件概率分布  \n",
    "$$\n",
    "P(X=x|Y=c_{k})=P\\left( X^{(1)}=x^{(1)}, \\cdots,  X^{(n)}=x^{(n)}|Y=c_{k}\\right)\\quad k=1,2,\\cdots,K \\tag{4.2}\n",
    "$$"
   ]
  },
  {
   "cell_type": "markdown",
   "metadata": {},
   "source": [
    "**条件独立性假设**  \n",
    "\n",
    "$$\n",
    "\\begin{eqnarray}\n",
    "P(X=x|Y=c_{k}) &=& P\\left( X^{(1)}=x^{(1)}, \\cdots,  X^{(n)}=x^{(n)}|Y=c_{k}\\right) \\\\\n",
    "&=& \\prod_{j=1}^{n}P\\left( X^{(j)}=x^{(j)}|Y=c_{k}\\right) \\tag{4.3}\n",
    "\\end{eqnarray}\n",
    "$$"
   ]
  },
  {
   "cell_type": "markdown",
   "metadata": {},
   "source": [
    "朴素贝叶斯法实际上学习到生成数据的机制，属于<font color=red>生成模型。</font>"
   ]
  },
  {
   "cell_type": "markdown",
   "metadata": {},
   "source": [
    "#### 分类"
   ]
  },
  {
   "cell_type": "markdown",
   "metadata": {},
   "source": [
    "$$\n",
    "y = f(x) = \\arg\\max_{c_{k}}\\frac{P(Y=c_{k})\\prod_{j=1}^{n}P\\left( X^{(j)}=x^{(j)}|Y=c_{k}\\right)}{\\sum_{k}P(Y=c_{k})\\prod_{j=1}^{n}P\\left( X^{(j)}=x^{(j)}|Y=c_{k}\\right)} \\tag{4.6}\n",
    "$$"
   ]
  },
  {
   "cell_type": "markdown",
   "metadata": {},
   "source": [
    "上式中，分母对所有$c_{k}$都是相同的，所以，  \n",
    "$$\n",
    "\\color{blue}{y=\\arg\\max_{c_{k}}P(Y=c_{k})\\prod_{j=1}^{n}P\\left( X^{(j)}=x^{(j)}|Y=c_{k}\\right) } \\tag{4.7}\n",
    "$$"
   ]
  },
  {
   "cell_type": "markdown",
   "metadata": {},
   "source": [
    "### 4.1.2 后验概率最大化的含义"
   ]
  },
  {
   "cell_type": "markdown",
   "metadata": {},
   "source": [
    "<font color=blue>Naive Bayes法将实例分到后验概率最大的类中，这等价于期望风险最小化。这就是Naive Bayes所采用的原理。</font>"
   ]
  },
  {
   "cell_type": "markdown",
   "metadata": {},
   "source": [
    "## 4.2 朴素贝叶斯法的参数估计"
   ]
  },
  {
   "cell_type": "markdown",
   "metadata": {},
   "source": [
    "### 4.2.1 极大似然估计"
   ]
  },
  {
   "cell_type": "markdown",
   "metadata": {},
   "source": [
    "$$\n",
    "P(Y=c_{k}) = \\frac{\\sum_{i=1}^{N}I(y_{i}=c_{k})}{N},\\quad k=1,2,\\cdots,K \\tag{4.8}\n",
    "$$"
   ]
  },
  {
   "cell_type": "markdown",
   "metadata": {},
   "source": [
    "设第$j$个特征$x^{(j)}$可能的取值集合为$\\{ a_{j1},a_{j2},\\cdots,a_{jS_{j}} \\}$，则条件概率的极大似然估计为  \n",
    "\n",
    "$$\n",
    "P\\left( X^{(j)}=a_{jl}|Y=c_{k} \\right)=\\frac{\\sum_{i=1}^{N}I\\left( y_{i}=c_{k},x_{i}^{(j)}=a_{jl} \\right)}{\\sum_{i=1}^{N}I(y_{i}=c_{k})} \\\\\n",
    "j=1,2,\\cdots,n; \\quad l=1,2,\\cdots,S_{j}; \\quad k=1,2,\\cdots,K \\tag{4.9}\n",
    "$$"
   ]
  },
  {
   "cell_type": "markdown",
   "metadata": {},
   "source": [
    "### 4.2.3 贝叶斯估计"
   ]
  },
  {
   "cell_type": "markdown",
   "metadata": {},
   "source": [
    "用极大似然估计可能会出现所要估计的概率值为0的情况。这时会影响到后验概率的计算结果，是分类产生偏差。解决这一问题的方法是采用贝叶斯估计。"
   ]
  },
  {
   "cell_type": "markdown",
   "metadata": {},
   "source": [
    "- 条件概率的贝叶斯估计  \n",
    "$$\n",
    "P_{\\lambda}\\left( X^{(j)}=a_{jl}|Y=c_{k} \\right)=\\frac{\\sum_{i=1}^{N}I\\left( y_{i}=c_{k},x_{i}^{(j)}=a_{jl} \\right) + \\color{red}{\\lambda}}{\\sum_{i=1}^{N}I(y_{i}=c_{k}) + \\color{red}{S_{j}\\lambda}}  \\tag{4.10}\n",
    "$$"
   ]
  },
  {
   "cell_type": "markdown",
   "metadata": {},
   "source": [
    "常去$\\lambda=1$，这时称为拉普拉斯平滑（Laplacian smoothing）。"
   ]
  },
  {
   "cell_type": "markdown",
   "metadata": {},
   "source": [
    "- 先验概率的贝叶斯估计  \n",
    "$$\n",
    "P_{\\lambda}(Y=c_{k}) = \\frac{\\sum_{i=1}^{N}I(y_{i}=c_{k})+\\lambda}{N+K\\lambda} \\tag{4.11}\n",
    "$$"
   ]
  },
  {
   "cell_type": "code",
   "execution_count": null,
   "metadata": {},
   "outputs": [],
   "source": []
  }
 ],
 "metadata": {
  "kernelspec": {
   "display_name": "Python [conda env:root] *",
   "language": "python",
   "name": "conda-root-py"
  },
  "language_info": {
   "codemirror_mode": {
    "name": "ipython",
    "version": 3
   },
   "file_extension": ".py",
   "mimetype": "text/x-python",
   "name": "python",
   "nbconvert_exporter": "python",
   "pygments_lexer": "ipython3",
   "version": "3.7.1"
  }
 },
 "nbformat": 4,
 "nbformat_minor": 2
}

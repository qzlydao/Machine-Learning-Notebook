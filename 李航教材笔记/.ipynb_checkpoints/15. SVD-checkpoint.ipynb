{
 "cells": [
  {
   "cell_type": "markdown",
   "metadata": {},
   "source": [
    "# 第15章 奇异值分解"
   ]
  },
  {
   "cell_type": "markdown",
   "metadata": {},
   "source": [
    "定理: 设$A$为$n$阶<font color=red>实对称矩阵</font>，则存在<font color=red>正交矩阵</font>$P$（$PP^{T}=I$），使得$P^{-1}AP=\\Lambda$，其中$\\Lambda$是以$A$的$n$个特征值为对角元的对角阵。"
   ]
  },
  {
   "cell_type": "markdown",
   "metadata": {},
   "source": [
    "对任意矩阵$W$:  \n",
    "$$\n",
    "C=\\underset{实对称矩阵}{\\underbrace{W^{T}\\color{red}{W}}} = VDV^{T}=V\\Sigma^{T}\\Sigma V^{T} = \\left( V\\Sigma^{T}U^{T} \\right)\\color{red}{\\left( U\\Sigma V^{T} \\right)} \\\\\n",
    "B=\\underset{实对称矩阵}{\\underbrace{\\color{red}{W}W^{T}}} = UDU^{T}=U\\Sigma^{T}\\Sigma U^{T} =\\color{red}{ \\left( U\\Sigma^{T}V^{T} \\right)}\\left( V\\Sigma U^{T} \\right) \\\\\n",
    "$$  \n",
    "其中，$\\Sigma = \\sqrt{D}$，$D=\\text{diag}(\\lambda_{1},\\cdots, \\lambda_{n})$，$U^{T}U=I,V^{T}V=I$"
   ]
  },
  {
   "cell_type": "markdown",
   "metadata": {},
   "source": [
    "1. 矩阵的奇异值分解一定存在，但不唯一；  \n",
    "2. SVD可以看做是矩阵数据压缩的一种方法，即用因子分解的方式近似地表示原始矩阵。"
   ]
  },
  {
   "cell_type": "markdown",
   "metadata": {},
   "source": [
    "## 15.1 SVD的定义与性质"
   ]
  },
  {
   "cell_type": "markdown",
   "metadata": {},
   "source": [
    "### 15.1.1 定义与定理"
   ]
  },
  {
   "cell_type": "markdown",
   "metadata": {},
   "source": [
    "#### 定义15.1（奇异值分解）  \n",
    "SVD指，将一个非零的$m\\times n$实矩阵$A\\in \\mathbf{R}^{m\\times n}$，表示为以下三个实矩阵乘积形式的运算，即进行矩阵的因子分解:  \n",
    "\n",
    "$$\n",
    "A=U\\Sigma V^{T} \\tag{15.1}\n",
    "$$"
   ]
  },
  {
   "cell_type": "markdown",
   "metadata": {},
   "source": [
    "$U$ : $m$阶正交矩阵  \n",
    "$V$ : $n$阶正交矩阵  \n",
    "$\\Sigma$ : 由降序排序的非负的对角元素组成的$m\\times n$矩形对角矩阵。  \n",
    "\n",
    "$$\n",
    "UU^{T}=I \\\\\n",
    "VV^{T}=I \\\\\n",
    "\\Sigma=\\text{diag}(\\sigma_{1},\\cdots,\\sigma_{p}) \\\\\n",
    "\\sigma_{1} \\geq \\sigma_{2} \\geq \\cdots \\geq \\sigma_{p} \\geq 0 \\\\\n",
    "p= \\min(m,n)\n",
    "$$"
   ]
  },
  {
   "cell_type": "markdown",
   "metadata": {},
   "source": [
    "$U\\Sigma V^{T}$称为矩阵$A$的奇异值分解，$\\sigma_{i}$称为矩阵的奇异值，$U$的列向量称为左奇异向量；$V$的列向量称为右奇异向量。"
   ]
  },
  {
   "cell_type": "markdown",
   "metadata": {},
   "source": [
    "### 15.1.2 紧奇异值分解与截断奇异值分解"
   ]
  },
  {
   "cell_type": "markdown",
   "metadata": {},
   "source": [
    "式(15.1)给出的奇异值分解是**完全奇异值分解**（full singular value decomposition）."
   ]
  },
  {
   "cell_type": "markdown",
   "metadata": {},
   "source": [
    "#### 1. 紧奇异值分解"
   ]
  },
  {
   "cell_type": "markdown",
   "metadata": {},
   "source": [
    "设有$m\\times n$实矩阵$A$，其秩为$R(A)=r\\leq \\min(m,n)$，则称: \n",
    "\n",
    "$$\n",
    "A = \\underset{m \\times r}{U_{r}} \\ \\underset{r\\times r}{\\Sigma_{r}} \\ \\underset{r\\times n}{V_{r}^{T}} \\tag{15.18}\n",
    "$$  \n",
    "\n",
    "为$A$的紧奇异值分解。$U_{r}$为$U$的前$r$列，$V_{r}$为$V$的前$r$列，$\\Sigma_{r}$为$\\Sigma$的前$r$个对角元。"
   ]
  },
  {
   "cell_type": "markdown",
   "metadata": {},
   "source": [
    "#### 2. <font color=blue>截断奇异值分解</font>"
   ]
  },
  {
   "cell_type": "markdown",
   "metadata": {},
   "source": [
    "在矩阵的奇异值分解中，只取最大的$k$个奇异值（$k < r$）对应的部分，就得到矩阵的截断奇异值分解。  \n",
    "\n",
    "好处:  \n",
    "\n",
    "- <font color=red>减少计算量，压缩数据</font>  \n",
    "\n",
    "- <font color=red>去除噪声点</font>  "
   ]
  },
  {
   "cell_type": "markdown",
   "metadata": {},
   "source": [
    "奇异值分解是在平方损失（弗罗贝尼乌斯范数，Frobenius范数，F范数，$\\|A\\|_{F} = \\sqrt{tr(A^{T}A)} = \\sqrt{\\sum_{i=1}^{r}\\delta_{i}^{2}}$)意义下对矩阵的最有近似。  \n",
    "紧奇异值分解对应着无损压缩，截断奇异值分解对应着有损压缩。"
   ]
  },
  {
   "cell_type": "markdown",
   "metadata": {},
   "source": [
    "### 15.1.3 几何解释"
   ]
  },
  {
   "cell_type": "markdown",
   "metadata": {},
   "source": [
    "矩阵$A_{m\\times n}$表示从$n$维空间$\\mathbf{R}^{n}$到$m$维空间$\\mathbf{R}^{m}$的一个线性变换:  \n",
    "\n",
    "$$\n",
    "T: x \\rightarrow Ax\n",
    "$$"
   ]
  },
  {
   "cell_type": "markdown",
   "metadata": {},
   "source": [
    "线性变换可以分解为三个简答的变换:  \n",
    "1. 一个坐标系的旋转或反射变换；  \n",
    "2. 一个坐标轴的缩放变换；  \n",
    "3. 另一个坐标系的旋转或反射变换；  "
   ]
  },
  {
   "cell_type": "markdown",
   "metadata": {},
   "source": [
    "$A$的奇异值分解:  \n",
    "\n",
    "$$\n",
    "A=U\\Sigma V^{T}\n",
    "$$\n",
    "\n",
    "$V,U$都是正交矩阵，所以$V$的列向量$v_{1},\\cdots,v_{n}$构成$\\mathbf{R}^{n}$空间的一组标准正交基；$U$的列向量$u_{1},\\cdots,u_{m}$构成$\\mathbf{R}^{m}$空间的一组标准正交基。"
   ]
  },
  {
   "cell_type": "markdown",
   "metadata": {},
   "source": [
    "任意一个向量$x\\in \\mathbf{R}^{n}$，经过基于$A=U\\Sigma V^{T}$线性变换，等价于: \n",
    "1. 经过坐标系的选择或反射变换$V^{T}$;  \n",
    "2. 坐标轴的缩放变换$\\Sigma$  \n",
    "3. 经过坐标系的选择或反射变换$U$  \n",
    "\n",
    "变换后得到向量$Ax \\in \\mathbf{R}^{m}$"
   ]
  },
  {
   "cell_type": "markdown",
   "metadata": {},
   "source": [
    "### 15.1.4 主要性质"
   ]
  },
  {
   "cell_type": "markdown",
   "metadata": {},
   "source": [
    "1. 设矩阵$A$的奇异值分解$A=U\\Sigma V^{T}$，则以下关系成立  \n",
    "\n",
    "$$\n",
    "A^{T}A = \\left( U\\Sigma V^{T} \\right)^{T}\\left( U\\Sigma V^{T} \\right) = V \\left(\\Sigma^{T}\\Sigma \\right)V^{T} \\\\\n",
    "AA^{T} = \\left( U\\Sigma V^{T} \\right)\\left( U\\Sigma V^{T} \\right)^{T} = U \\left(\\Sigma \\Sigma^{T} \\right)U^{T}\n",
    "$$"
   ]
  },
  {
   "cell_type": "markdown",
   "metadata": {},
   "source": [
    "2. "
   ]
  },
  {
   "cell_type": "code",
   "execution_count": null,
   "metadata": {},
   "outputs": [],
   "source": []
  },
  {
   "cell_type": "code",
   "execution_count": null,
   "metadata": {},
   "outputs": [],
   "source": []
  },
  {
   "cell_type": "code",
   "execution_count": null,
   "metadata": {},
   "outputs": [],
   "source": []
  },
  {
   "cell_type": "code",
   "execution_count": null,
   "metadata": {},
   "outputs": [],
   "source": []
  },
  {
   "cell_type": "code",
   "execution_count": null,
   "metadata": {},
   "outputs": [],
   "source": []
  },
  {
   "cell_type": "code",
   "execution_count": null,
   "metadata": {},
   "outputs": [],
   "source": []
  },
  {
   "cell_type": "code",
   "execution_count": null,
   "metadata": {},
   "outputs": [],
   "source": []
  },
  {
   "cell_type": "code",
   "execution_count": null,
   "metadata": {},
   "outputs": [],
   "source": []
  },
  {
   "cell_type": "code",
   "execution_count": 2,
   "metadata": {},
   "outputs": [],
   "source": [
    "import numpy as np\n",
    "from numpy.linalg import svd"
   ]
  },
  {
   "cell_type": "code",
   "execution_count": 3,
   "metadata": {},
   "outputs": [],
   "source": [
    "a = np.array([[1, 0, 0, 0], [0, 0, 0, 4], [0, 3, 0, 0], [0, 0, 0, 0],\n",
    "              [2, 0, 0, 0]])\n",
    "\n",
    "U,sigma,V = svd(a)"
   ]
  },
  {
   "cell_type": "code",
   "execution_count": 4,
   "metadata": {},
   "outputs": [
    {
     "name": "stdout",
     "output_type": "stream",
     "text": [
      "[[ 0.          0.         -0.4472136   0.         -0.89442719]\n",
      " [-1.          0.          0.          0.          0.        ]\n",
      " [ 0.         -1.          0.          0.          0.        ]\n",
      " [ 0.          0.          0.          1.          0.        ]\n",
      " [ 0.          0.         -0.89442719  0.          0.4472136 ]]\n"
     ]
    }
   ],
   "source": [
    "print(U)"
   ]
  },
  {
   "cell_type": "code",
   "execution_count": 5,
   "metadata": {},
   "outputs": [
    {
     "name": "stdout",
     "output_type": "stream",
     "text": [
      "[4.         3.         2.23606798 0.        ]\n"
     ]
    }
   ],
   "source": [
    "print(sigma)"
   ]
  },
  {
   "cell_type": "code",
   "execution_count": 6,
   "metadata": {},
   "outputs": [
    {
     "name": "stdout",
     "output_type": "stream",
     "text": [
      "[[-0. -0. -0. -1.]\n",
      " [-0. -1. -0. -0.]\n",
      " [-1. -0. -0. -0.]\n",
      " [-0. -0. -1. -0.]]\n"
     ]
    }
   ],
   "source": [
    "print(V)"
   ]
  },
  {
   "cell_type": "code",
   "execution_count": 8,
   "metadata": {},
   "outputs": [
    {
     "name": "stdout",
     "output_type": "stream",
     "text": [
      "[[ 0.          0.         -0.4472136   0.        ]\n",
      " [-1.          0.          0.          0.        ]\n",
      " [ 0.         -1.          0.          0.        ]\n",
      " [ 0.          0.          0.          1.        ]\n",
      " [ 0.          0.         -0.89442719  0.        ]]\n",
      "[4.         3.         2.23606798 0.        ]\n",
      "[[-0. -0. -0. -1.]\n",
      " [-0. -1. -0. -0.]\n",
      " [-1. -0. -0. -0.]\n",
      " [-0. -0. -1. -0.]]\n"
     ]
    }
   ],
   "source": [
    "U,sigma,V = svd(a,full_matrices=False)\n",
    "print(U)\n",
    "print(sigma)\n",
    "print(V)"
   ]
  },
  {
   "cell_type": "code",
   "execution_count": null,
   "metadata": {},
   "outputs": [],
   "source": []
  }
 ],
 "metadata": {
  "kernelspec": {
   "display_name": "Python [conda env:root] *",
   "language": "python",
   "name": "conda-root-py"
  },
  "language_info": {
   "codemirror_mode": {
    "name": "ipython",
    "version": 3
   },
   "file_extension": ".py",
   "mimetype": "text/x-python",
   "name": "python",
   "nbconvert_exporter": "python",
   "pygments_lexer": "ipython3",
   "version": "3.7.1"
  }
 },
 "nbformat": 4,
 "nbformat_minor": 2
}

{
 "cells": [
  {
   "cell_type": "markdown",
   "metadata": {},
   "source": [
    "# 0. 前言"
   ]
  },
  {
   "cell_type": "markdown",
   "metadata": {},
   "source": [
    "1. 分类时，对新的实例，根据其$k$个最近邻的训练实例的类别，通过<font color=red>多数表决</font>等方式进行预测。\n",
    "\n",
    "\n",
    "2. k-NN三要素:\n",
    "\n",
    "    - $k$值的选择\n",
    "    \n",
    "    - 距离度量\n",
    "    \n",
    "    - 决策规则"
   ]
  },
  {
   "cell_type": "markdown",
   "metadata": {},
   "source": [
    "# 3.1 k近邻算法"
   ]
  },
  {
   "cell_type": "markdown",
   "metadata": {},
   "source": [
    "输入: 训练数据集\n",
    "\n",
    "$$\n",
    "T=\\left\\{\\left(x_{1}, y_{1}\\right),\\left(x_{2}, y_{2}\\right), \\cdots,\\left(x_{N}, y_{N}\\right)\\right\\}\n",
    "$$\n",
    "\n",
    "其中，$x_{i} \\in \\mathcal{X} \\subseteq \\mathbf{R}^{n}$为实例的特征向量，$y_{i} \\in \\mathcal{Y} = \\{c_{1}, c_{2}, \\cdots c_{K}\\}$为实例的类别。\n",
    "\n",
    "输出: 实例$x$所属的类$y$。\n",
    "\n",
    "（1）根据给定的距离度量，在训练集$T$中找出与$x$最近邻的$k$个点，涵盖这$k$个点的$x$的领域记作$N_{k}(x)$;\n",
    "\n",
    "（2）在$N_{k}(x)$中根据分类决策规则（如多数表决）决定$x$的类别$y$."
   ]
  },
  {
   "cell_type": "markdown",
   "metadata": {},
   "source": [
    "# 3.2 k近邻模型"
   ]
  },
  {
   "cell_type": "markdown",
   "metadata": {},
   "source": [
    "## 3.2.2 距离度量"
   ]
  },
  {
   "attachments": {},
   "cell_type": "markdown",
   "metadata": {},
   "source": [
    "设$x_{i}, x_{j} \\in \\mathcal{X} \\subseteq{\\mathbf{R}}^{n}, x_{i}=\\left(x_{i}^{(1)}, x_{i}^{(2)}, \\cdots, x_{i}^{(n)}\\right)^{\\mathrm{T}}, x_{j}=\\left(x_{j}^{(1)}, x_{j}^{(2)}, \\cdots, x_{j}^{(n)}\\right)^{\\mathrm{T}}$，$x_{i},x_{j}$的$L_{p}$距离定义为\n",
    "\n",
    "$$\n",
    "L_{p}\\left(x_{i}, x_{j}\\right)=\\left(\\sum_{l=1}^{n}\\left|x_{i}^{(l)}-x_{j}^{(l)}\\right|^{p}\\right)^{\\frac{1}{p}}\n",
    "$$\n",
    "\n",
    "当$p=2$时，称为欧氏距离\n",
    "\n",
    "$$\n",
    "L_{2}\\left(x_{i}, x_{j}\\right)=\\left(\\sum_{l=1}^{n}\\left|x_{i}^{(l)}-x_{j}^{(l)}\\right|^{2}\\right)^{\\frac{1}{2}}\n",
    "$$\n",
    "\n",
    "当$p=1$时，称曼哈顿距离\n",
    "\n",
    "$$\n",
    "L_{1}\\left(x_{i}, x_{j}\\right)=\\sum_{l=1}^{n}\\left|x_{i}^{(l)}-x_{j}^{(l)}\\right|\n",
    "$$\n",
    "\n",
    "当$p=\\infty$时，它是各个坐标距离的最大值\n",
    "\n",
    "$$\n",
    "L_{\\infty}\\left(x_{i}, x_{j}\\right)=\\max _{l}\\left|x_{i}^{(l)}-x_{j}^{(l)}\\right|\n",
    "$$\n",
    "\n",
    "<img src='06_Lp距离间的关系.jpg' style='zoom:50%'/>"
   ]
  },
  {
   "cell_type": "markdown",
   "metadata": {},
   "source": [
    "## 3.2.3 $k$值的选择"
   ]
  },
  {
   "cell_type": "markdown",
   "metadata": {},
   "source": [
    "$k$选择过小，对近邻点非常敏感，容易过拟合；\n",
    "\n",
    "$k$选择过大，较远的点也会对预测起作用，容易使预测发生错误。\n",
    "\n",
    "$k$的选择<font color=red>通常采用交叉验证法来选取</font>，<font color=blue>一般低于训练样本的平方根。</font>"
   ]
  },
  {
   "cell_type": "markdown",
   "metadata": {},
   "source": [
    "## 3.2.4 分类决策规则"
   ]
  },
  {
   "cell_type": "markdown",
   "metadata": {},
   "source": [
    "- 多数表决\n",
    "\n",
    "- 加权的多数表决"
   ]
  },
  {
   "cell_type": "markdown",
   "metadata": {},
   "source": [
    "# 3.3 kd树"
   ]
  },
  {
   "cell_type": "code",
   "execution_count": null,
   "metadata": {},
   "outputs": [],
   "source": []
  }
 ],
 "metadata": {
  "kernelspec": {
   "display_name": "Python [conda env:root] *",
   "language": "python",
   "name": "conda-root-py"
  },
  "language_info": {
   "codemirror_mode": {
    "name": "ipython",
    "version": 3
   },
   "file_extension": ".py",
   "mimetype": "text/x-python",
   "name": "python",
   "nbconvert_exporter": "python",
   "pygments_lexer": "ipython3",
   "version": "3.7.1"
  }
 },
 "nbformat": 4,
 "nbformat_minor": 2
}

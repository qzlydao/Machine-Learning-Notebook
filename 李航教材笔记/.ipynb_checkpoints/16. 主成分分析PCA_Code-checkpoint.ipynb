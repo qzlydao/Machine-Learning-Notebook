{
 "cells": [
  {
   "cell_type": "code",
   "execution_count": 1,
   "metadata": {},
   "outputs": [],
   "source": [
    "from sklearn.decomposition import PCA\n",
    "import numpy as np"
   ]
  },
  {
   "cell_type": "code",
   "execution_count": 3,
   "metadata": {},
   "outputs": [
    {
     "name": "stdout",
     "output_type": "stream",
     "text": [
      "[[ 0.50917706]\n",
      " [ 2.40151069]\n",
      " [ 3.7751606 ]\n",
      " [-1.20075534]\n",
      " [-2.05572155]\n",
      " [-3.42937146]]\n"
     ]
    }
   ],
   "source": [
    "X = np.array([[-1, 1], [-2, -1], [-3, -2], [1, 1], [2, 1], [3, 2]])\n",
    "pca = PCA(n_components=1)\n",
    "pca.fit(X)\n",
    "print(pca.transform(X))"
   ]
  },
  {
   "cell_type": "code",
   "execution_count": null,
   "metadata": {},
   "outputs": [],
   "source": []
  },
  {
   "cell_type": "code",
   "execution_count": 109,
   "metadata": {},
   "outputs": [],
   "source": [
    "import numpy as np\n",
    "from numpy.linalg import svd\n",
    "\n",
    "def pca(X, k):\n",
    "    print('X:\\n', X, '\\n')\n",
    "    print('X.T:\\n', X.T, '\\n')\n",
    "    n = len(X)\n",
    "    # 1. 归一化\n",
    "    X_mean = np.mean(X, axis=0, keepdims=True)\n",
    "    X_std = np.std(X, axis=0, keepdims=True)\n",
    "    X_normal = (X - X_mean)/X_std\n",
    "    \n",
    "    # 2. 构造X'矩阵\n",
    "    X_prime = X_normal/np.sqrt(n-1)\n",
    "    \n",
    "    print('X_prime:\\n', X_prime, '\\n')\n",
    "    \n",
    "    # 3. 对X'矩阵进行截断SVD分解\n",
    "    U, Sigma, V = svd(X_prime)\n",
    "    \n",
    "    print('U:\\n', U, '\\n')\n",
    "    print('Sigma:\\n', Sigma, '\\n')\n",
    "    print('V:\\n', V, '\\n')\n",
    "    \n",
    "    transform = V[:k]\n",
    "    print('transform:\\n', transform, '\\n')\n",
    "    \n",
    "    # 4. 计算主成分    \n",
    "    Y = np.dot(transform, X.T)\n",
    "    \n",
    "    Y = Y.tolist()\n",
    "    \n",
    "    return Y "
   ]
  },
  {
   "cell_type": "code",
   "execution_count": 110,
   "metadata": {},
   "outputs": [
    {
     "name": "stdout",
     "output_type": "stream",
     "text": [
      "X:\n",
      " [[-1  1]\n",
      " [-2 -1]\n",
      " [-3 -2]\n",
      " [ 1  1]\n",
      " [ 2  1]\n",
      " [ 3  2]] \n",
      "\n",
      "X.T:\n",
      " [[-1 -2 -3  1  2  3]\n",
      " [ 1 -1 -2  1  1  2]] \n",
      "\n",
      "X_prime:\n",
      " [[-0.20701967  0.21693046]\n",
      " [-0.41403934 -0.43386092]\n",
      " [-0.621059   -0.7592566 ]\n",
      " [ 0.20701967  0.21693046]\n",
      " [ 0.41403934  0.21693046]\n",
      " [ 0.621059    0.54232614]] \n",
      "\n",
      "U:\n",
      " [[ 0.00464338  0.85760462  0.14467003  0.01715426  0.42657414  0.24759559]\n",
      " [-0.39725625 -0.04009688 -0.77116775  0.20276497  0.07978429  0.44542209]\n",
      " [-0.64670225 -0.27955859  0.59018397  0.12379134  0.17069868  0.33293203]\n",
      " [ 0.19862813  0.02004844  0.0926171   0.96935768 -0.05990434 -0.09123681]\n",
      " [ 0.2956205  -0.39872965 -0.07869523  0.00244413  0.86216262 -0.06403042]\n",
      " [ 0.5450665  -0.15926794  0.14588659 -0.06006257 -0.18872738  0.78551117]] \n",
      "\n",
      "Sigma:\n",
      " [1.5092425 0.3495527] \n",
      "\n",
      "V:\n",
      " [[ 0.70710678  0.70710678]\n",
      " [-0.70710678  0.70710678]] \n",
      "\n",
      "transform:\n",
      " [[0.70710678 0.70710678]] \n",
      "\n"
     ]
    },
    {
     "data": {
      "text/plain": [
       "[[-1.1102230246251565e-16,\n",
       "  -2.121320343559643,\n",
       "  -3.5355339059327378,\n",
       "  1.414213562373095,\n",
       "  2.121320343559643,\n",
       "  3.5355339059327378]]"
      ]
     },
     "execution_count": 110,
     "metadata": {},
     "output_type": "execute_result"
    }
   ],
   "source": [
    "X = np.array([[-1, 1], [-2, -1], [-3, -2], [1, 1], [2, 1], [3, 2]])\n",
    "pca(X,1)"
   ]
  },
  {
   "cell_type": "code",
   "execution_count": null,
   "metadata": {},
   "outputs": [],
   "source": []
  },
  {
   "cell_type": "code",
   "execution_count": null,
   "metadata": {},
   "outputs": [],
   "source": []
  }
 ],
 "metadata": {
  "kernelspec": {
   "display_name": "Python [conda env:root] *",
   "language": "python",
   "name": "conda-root-py"
  },
  "language_info": {
   "codemirror_mode": {
    "name": "ipython",
    "version": 3
   },
   "file_extension": ".py",
   "mimetype": "text/x-python",
   "name": "python",
   "nbconvert_exporter": "python",
   "pygments_lexer": "ipython3",
   "version": "3.7.1"
  }
 },
 "nbformat": 4,
 "nbformat_minor": 2
}

{
 "cells": [
  {
   "cell_type": "markdown",
   "metadata": {},
   "source": [
    "# 1. 弱对偶性证明"
   ]
  },
  {
   "cell_type": "markdown",
   "metadata": {},
   "source": [
    "## 1.1 原问题"
   ]
  },
  {
   "cell_type": "markdown",
   "metadata": {},
   "source": [
    "约束优化原问题（Primal Problem）  \n",
    "\n",
    "$$\n",
    "\\begin{eqnarray}\n",
    "\\min_{x\\in \\mathbf{R}^{p}} & \\quad & f(x) \\tag{1}\\\\\n",
    "\\text{s.t.} & \\quad & m_{i}(x) \\leq 0, \\quad i=1,2,\\cdots,M  \\tag{2}\\\\\n",
    "& \\quad & n_{j}(x) = 0, \\quad j=1,2,\\cdots,N \\tag{3}\n",
    "\\end{eqnarray}\n",
    "$$"
   ]
  },
  {
   "cell_type": "markdown",
   "metadata": {},
   "source": [
    "引入拉格朗日函数  \n",
    "\n",
    "$$\n",
    "\\begin{eqnarray}\n",
    "\\mathcal{L}(x,\\lambda,\\eta) = f(x) + \\sum_{i=1}^{M}\\lambda_{i}m_{i}(x) + \\sum_{j=1}^{N}\\eta_{j}n_{j}(x), \\quad \\lambda_{i} \\geq 0 \\tag{4}\n",
    "\\end{eqnarray}\n",
    "$$"
   ]
  },
  {
   "cell_type": "markdown",
   "metadata": {},
   "source": [
    "**广义拉格朗日函数的极小极大问题**\n",
    "\n",
    "原问题与下面的$~x~$的无约束问题等价:\n",
    "\n",
    "$$\n",
    "\\begin{eqnarray}\n",
    "\\min_{x\\in \\mathbf{R}^{p}} \\ \\max_{\\lambda,\\eta} & \\quad & \\mathcal{L}(x,\\lambda,\\eta) \\tag{5}\\\\\n",
    "\\text{s.t.} & \\quad & \\lambda_{i} \\geq 0 \\tag{6}\n",
    "\\end{eqnarray}\n",
    "$$"
   ]
  },
  {
   "cell_type": "markdown",
   "metadata": {},
   "source": [
    "**证明：**  \n",
    "\n",
    "1. 若$~x~$违反$m_{i}(x) \\leq 0$，即$~m_{i}(x) > 0~$，则可令$~\\lambda_{i} \\rightarrow +\\infty$，使得$~\\max_{\\lambda,\\eta} \\ \\mathcal{L} = +\\infty$； \n",
    "\n",
    "\n",
    "2. 同理，若$~x~$违反$n_{j}(x)=1$，可令$~\\eta_{j}n_{j}(x)\\rightarrow +\\infty$，使得$~\\max_{\\lambda,\\eta} \\ \\mathcal{L} = +\\infty$；   \n",
    "\n",
    "因此，若$~x~$满足约束条件（2）和（3），则$~f(x) = \\max_{\\lambda,\\eta} \\ \\mathcal{L}(x,\\lambda,\\eta)$"
   ]
  },
  {
   "cell_type": "markdown",
   "metadata": {},
   "source": [
    "定义原问题的最优值为$~\\color{red}{p^{*}}$"
   ]
  },
  {
   "cell_type": "markdown",
   "metadata": {},
   "source": [
    "## 1.2 对偶问题"
   ]
  },
  {
   "cell_type": "markdown",
   "metadata": {},
   "source": [
    "原问题的对偶问题为 \n",
    "\n",
    "$$\n",
    "\\begin{eqnarray}\n",
    "\\max_{\\lambda,\\eta} \\ \\min_{x\\in \\mathbf{R}^{p}}   & \\quad & \\mathcal{L}(x,\\lambda,\\eta) \\tag{7}\\\\\n",
    "\\text{s.t.} & \\quad & \\lambda_{i} \\geq 0 \\tag{8}\n",
    "\\end{eqnarray}\n",
    "$$"
   ]
  },
  {
   "cell_type": "markdown",
   "metadata": {},
   "source": [
    "上述问题称为广义拉格朗日函数的极大极小问题。定义对偶问题的最优值为$~\\color{red}{d^{*}}$."
   ]
  },
  {
   "cell_type": "markdown",
   "metadata": {},
   "source": [
    "### 1.3 原问题与对偶问题的关系"
   ]
  },
  {
   "cell_type": "markdown",
   "metadata": {},
   "source": [
    "$$\n",
    "d^{*} = \\max_{\\lambda,\\eta:\\lambda_{i}\\geq 0} \\ \\min_{x\\in \\mathbf{R}^{p}} \\ \\mathcal{L}(x,\\lambda,\\eta) \\ \\leq \\ \\min_{x\\in \\mathbf{R}^{p}} \\ \\max_{\\lambda,\\eta:\\lambda_{i}\\geq 0} \\  \\mathcal{L}(x,\\lambda,\\eta) = p^{*} \\tag{9}\n",
    "$$"
   ]
  },
  {
   "cell_type": "markdown",
   "metadata": {},
   "source": [
    "**证明：**  \n",
    "\n",
    "$$\n",
    "\\underset{A(\\lambda,\\eta)}{\\underbrace{\\min_{x} \\ \\mathcal{L}(x,\\lambda,\\eta)}} \\ \\leq \\ \\mathcal{L}(x,\\lambda,\\eta) \\ \\leq \\ \\underset{B(x)}{\\underbrace{\\max_{\\lambda,\\eta:\\lambda_{i}\\geq 0} \\ \\mathcal{L}(x,\\lambda,\\eta)}}\n",
    "$$"
   ]
  },
  {
   "cell_type": "markdown",
   "metadata": {},
   "source": [
    "$$\n",
    "\\begin{eqnarray}\n",
    "A(\\lambda,\\eta) &\\leq& B(x)  \\\\\n",
    "A(\\lambda,\\eta) &\\leq& \\min_{x}B(x) \\\\\n",
    "\\max_{\\lambda,\\eta:\\lambda_{i}\\geq 0}A(\\lambda,\\eta) &\\leq& \\min_{x}B(x)\n",
    "\\end{eqnarray}\n",
    "$$\n",
    "\n",
    "即 \n",
    "\n",
    "$$\n",
    "d^{*} = \\max_{\\lambda,\\eta:\\lambda_{i}\\geq 0} \\ \\min_{x\\in \\mathbf{R}^{p}} \\ \\mathcal{L}(x,\\lambda,\\eta) \\ \\leq \\ \\min_{x\\in \\mathbf{R}^{p}} \\ \\max_{\\lambda,\\eta:\\lambda_{i}\\geq 0} \\  \\mathcal{L}(x,\\lambda,\\eta) = p^{*}\n",
    "$$"
   ]
  },
  {
   "cell_type": "markdown",
   "metadata": {},
   "source": [
    "# 2. 对偶性的几何解释"
   ]
  },
  {
   "cell_type": "markdown",
   "metadata": {},
   "source": [
    "为方便说明问题，对原始问题作如下简化:  \n",
    "- 去掉等式约束\n",
    "- 保留一个不等式约束"
   ]
  },
  {
   "cell_type": "markdown",
   "metadata": {},
   "source": [
    "$$\n",
    "\\begin{eqnarray}\n",
    "\\min_{x\\in \\mathbf{R}^{p}} & \\quad & f(x) \\\\\n",
    "\\text{s.t.} & \\quad & m_{1}(x) \\leq 0\n",
    "\\end{eqnarray}\n",
    "$$"
   ]
  },
  {
   "cell_type": "markdown",
   "metadata": {},
   "source": [
    "定义这个优化问题的定义域为 $D = \\text{domain}\\ f \\ \\cap \\ \\text{domain}\\ m_{1}(x)$  "
   ]
  },
  {
   "cell_type": "markdown",
   "metadata": {},
   "source": [
    "对应拉格朗日函数  \n",
    "\n",
    "$$\n",
    "\\mathcal{L}(x,\\lambda) = f(x) + \\lambda m_{1}(x),\\quad \\lambda \\geq 0\n",
    "$$"
   ]
  },
  {
   "cell_type": "markdown",
   "metadata": {},
   "source": [
    "原问题最优解为 $p^{*} = \\min f(x)$  \n",
    "\n",
    "对偶问题最优解为  $d^{*} = \\max_{\\lambda} \\min_{x}\\mathcal{L}(x,\\lambda)$"
   ]
  },
  {
   "cell_type": "markdown",
   "metadata": {},
   "source": [
    "定义一个集合空间$G$\n",
    "\n",
    "$$\n",
    "\\begin{eqnarray}\n",
    "G &=& \\left\\{\\left(m_{1}(x),f(x)\\right)\\mid x\\in D\\right\\} \\\\\n",
    "&=& \\{(u,t)\\mid x\\in D\\}\n",
    "\\end{eqnarray}\n",
    "$$"
   ]
  },
  {
   "cell_type": "markdown",
   "metadata": {},
   "source": [
    "则\n",
    "\n",
    "$$\n",
    "p^{*} = \\inf \\ \\{ t \\mid (u,t)\\in G, u \\leq 0 \\}\n",
    "$$"
   ]
  },
  {
   "cell_type": "markdown",
   "metadata": {},
   "source": [
    "而对偶问题的最优解为  \n",
    "\n",
    "$$\n",
    "\\begin{eqnarray}\n",
    "d^{*} &=& \\max_{\\lambda}  \\min_{x} \\ \\mathcal{L}(x,\\lambda) = \\max_{\\lambda}\\underset{g(\\lambda)}{\\underbrace{\\min_{x} \\ (t+\\lambda u)}} = \\max_{\\lambda} g(\\lambda) \\\\\n",
    "g(\\lambda) &=& \\inf \\ \\{t+\\lambda u | (u,t)\\in G\\}\n",
    "\\end{eqnarray}\n",
    "$$"
   ]
  },
  {
   "cell_type": "markdown",
   "metadata": {},
   "source": [
    "<img src='00_对偶关系几何解释.png' style='zoom:70%'/>"
   ]
  },
  {
   "cell_type": "markdown",
   "metadata": {},
   "source": [
    "从图中可以明显看出 $d^{*} \\leq q^{*}$\n",
    "\n",
    "<font color=blue>当原问题是凸优化 + slater条件时，有 $d^{*} = q^{*}$（强对偶）</font>，但是slater条件是强对偶的充分非必要条件。"
   ]
  },
  {
   "cell_type": "markdown",
   "metadata": {},
   "source": [
    "## 2.2 Slater条件"
   ]
  },
  {
   "cell_type": "markdown",
   "metadata": {},
   "source": [
    "如果凸优化问题满足某些条件如Slater条件，那么它和其对偶问题满足强对偶关系。\n",
    "\n",
    "记问题的定义域为: $\\mathcal{D} = \\text{dom}f(x) \\ \\cap \\ \\text{dom}~m_{i}(x) \\ \\cap \\ \\text{dom} ~n_{j}(x)$，Slater条件为  \n",
    "\n",
    "$$\n",
    "\\exists ~ \\hat{x}\\in \\text{Relint}~ \\mathcal{D} \\quad \\text{s.t.} \\ \\forall i=1,2,\\cdots,M; \\quad m_{i}(x) < 0\n",
    "$$\n",
    "\n",
    "Relint表示相对内部（不包含边界的内部）"
   ]
  },
  {
   "cell_type": "markdown",
   "metadata": {},
   "source": [
    "# 3. KKT条件"
   ]
  },
  {
   "cell_type": "markdown",
   "metadata": {},
   "source": [
    "1. 可行域\n",
    "\n",
    "$$\n",
    "\\begin{eqnarray}\n",
    "m_{i}(x^{*}) & \\leq & 0 \\tag{3.1} \\\\\n",
    "n_{j}(x^{*}) & = & 0 \\tag{3.2} \\\\\n",
    "\\lambda^{*} & \\geq & 0 \\tag{3.3}\n",
    "\\end{eqnarray}\n",
    "$$"
   ]
  },
  {
   "cell_type": "markdown",
   "metadata": {},
   "source": [
    "2. 互补松弛条件\n",
    "\n",
    "$$\n",
    "\\lambda_{i}^{*}m_{i}(x^{*}) = 0 \\tag{3.4}\n",
    "$$"
   ]
  },
  {
   "cell_type": "markdown",
   "metadata": {},
   "source": [
    "3. 梯度为0\n",
    "\n",
    "$$\n",
    "\\nabla_{x}\\mathcal{L}(x^{*}, \\lambda^{*}, \\eta^{*})=0 \\tag{3.5}\n",
    "$$"
   ]
  },
  {
   "cell_type": "markdown",
   "metadata": {},
   "source": [
    "证明：  \n",
    "\n"
   ]
  },
  {
   "cell_type": "markdown",
   "metadata": {},
   "source": [
    "令\n",
    "\n",
    "$$\n",
    "g(\\lambda, \\eta) = \\min_{x} \\mathcal{L}(x, \\lambda, \\eta)\n",
    "$$\n",
    "\n",
    "则 \n",
    "\n",
    "$$\n",
    "\\begin{eqnarray}\n",
    "d^{*} &=& \\max_{\\lambda, \\eta:\\lambda_{i} \\geq 0}g(\\lambda, \\eta) = g(\\lambda^{*}, \\eta^{*}) \\\\\n",
    "&=& \\min_{x}\\mathcal{L}(x,\\lambda^{*}, \\eta^{*}) \\\\\n",
    "&\\leq&  \\mathcal{L}(x^{*},\\lambda^{*}, \\eta^{*}) \\\\\n",
    "&=& f(x^{*}) + \\sum_{i=1}^{M} \\underset{\\color{red}{=0}}{\\underbrace{ \\overset{\\color{red}{\\geq 0}}{\\lambda_{i}^{*}} ~ \\overset{\\color{red}{\\leq 0}}{m_{i}(x^{*})}}} + \\sum_{j=1}^{N}\\eta_{j}^{*} ~ \\underset{\\color{red}{=0}}{n_{j}(x^{*})} \\\\\n",
    "&\\leq& f(x^{*}) \\\\\n",
    "&=& p^{*}\n",
    "\\end{eqnarray}\n",
    "$$"
   ]
  },
  {
   "cell_type": "markdown",
   "metadata": {},
   "source": [
    "由第一个不等式可以推出梯度为0的条件；\n",
    "\n",
    "由第二个不等式可以推出互补松弛条件。"
   ]
  },
  {
   "cell_type": "code",
   "execution_count": null,
   "metadata": {},
   "outputs": [],
   "source": []
  }
 ],
 "metadata": {
  "kernelspec": {
   "display_name": "Python [conda env:root] *",
   "language": "python",
   "name": "conda-root-py"
  },
  "language_info": {
   "codemirror_mode": {
    "name": "ipython",
    "version": 3
   },
   "file_extension": ".py",
   "mimetype": "text/x-python",
   "name": "python",
   "nbconvert_exporter": "python",
   "pygments_lexer": "ipython3",
   "version": "3.7.1"
  }
 },
 "nbformat": 4,
 "nbformat_minor": 2
}

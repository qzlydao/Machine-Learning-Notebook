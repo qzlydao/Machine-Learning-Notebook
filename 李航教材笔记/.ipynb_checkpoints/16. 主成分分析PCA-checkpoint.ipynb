{
 "cells": [
  {
   "cell_type": "markdown",
   "metadata": {},
   "source": [
    "# 第16章 主成分分析"
   ]
  },
  {
   "cell_type": "markdown",
   "metadata": {},
   "source": [
    "主成分分析（principle component analysis, PCA）是一种常用的无监督学习方法，这一方法<font color=blue>利用正交变换把由线性相关变量表示的观测数据转换为少数几个由线性无关变量表示的数据，线性无关的变量称为主成分。</font>  \n",
    "\n",
    "主成分的个数通常小于原始变量的个数，所以主成分分析属于降维方法。  \n",
    "\n",
    "PCA主要用于发现数据中的基本结构，即变量之间的关系。"
   ]
  },
  {
   "cell_type": "markdown",
   "metadata": {},
   "source": [
    "## 16.1 总体主成分分析"
   ]
  },
  {
   "cell_type": "markdown",
   "metadata": {},
   "source": [
    "### 16.1.1 基本想法"
   ]
  },
  {
   "cell_type": "markdown",
   "metadata": {},
   "source": [
    "#### 1. 基本思想"
   ]
  },
  {
   "cell_type": "markdown",
   "metadata": {},
   "source": [
    "1. 首先对给定数据进行规范化（$z_{i} = (y_{i}-u_{i})/\\sqrt{\\sigma_{ii}}$）;  \n",
    "      \n",
    "      \n",
    "2. 对数据进行正交变换，原来由线性相关变量表示的数据，通过正交变换成由若干线性无关的新变量表示的数据。  \n",
    "    \n",
    "    \n",
    "3. 新变量是可能的正交变换的方差的和（信息保存）最大的，方差表示在新变量上信息的大小；  \n",
    "\n",
    "\n",
    "4. 新变量依次称为第一主成分、第二主成分等。"
   ]
  },
  {
   "cell_type": "markdown",
   "metadata": {},
   "source": [
    "#### 2. 直观解释"
   ]
  },
  {
   "cell_type": "markdown",
   "metadata": {},
   "source": [
    "<img src='16.1_PAC示例.png' style='zoom:50%'/>"
   ]
  },
  {
   "cell_type": "markdown",
   "metadata": {},
   "source": [
    "数据由两个变量$x_{1}$和$x_{2}$表示，很明显这些数据中的变量$x_{1}$和$x_{2}$是线性相关的，具体地，当知道一个变量$x_{1}$的取值时，对另一个变量$x_{2}$的预测不是随机的，反之亦然。  \n",
    "\n",
    "PCA对数据进行正交变换，正交变换后，在新坐标系里，变量由$y_{1}$和$y_{2}$表示。PCA选择方差最大的方向（第一主成分）作为新坐标系的第一坐标轴；之后选择与第一坐标轴正交，且方差次之的方向（第二主成分）作为新坐标系的第二坐标轴，即$y_{2}$轴。  \n",
    "\n",
    "\n",
    "在新坐标系里，数据中的变量$y_{1}$和$y_{2}$是线性无关的，当知道其中一个变量的取值时，对另一个变量的预测是完全随机的。"
   ]
  },
  {
   "cell_type": "markdown",
   "metadata": {},
   "source": [
    "#### 3. 方差最大解释"
   ]
  },
  {
   "cell_type": "markdown",
   "metadata": {},
   "source": [
    "<img src='16.2_主成分的几何解释.png' style='zoom:50%'/>"
   ]
  },
  {
   "cell_type": "markdown",
   "metadata": {},
   "source": [
    "坐标值的平方和$OA^{\\prime 2}+OB^{\\prime 2}+OC^{\\prime 2}$表示样本在变量$y_{1}$上的方差和。所以，对主成分的选择等价于:  \n",
    "\n",
    "$$\n",
    "\\max \\ OA^{\\prime 2}+OB^{\\prime 2}+OC^{\\prime 2} \\\\\n",
    "\\min \\ AA^{\\prime 2}+BB^{\\prime 2}+CC^{\\prime 2}\n",
    "$$"
   ]
  },
  {
   "cell_type": "markdown",
   "metadata": {},
   "source": [
    "**总体PCA:**  在数据总体（population）上进行的主成分分析；  \n",
    "**样本PCA:**  在有限样本上进行的主成分分析。"
   ]
  },
  {
   "cell_type": "markdown",
   "metadata": {},
   "source": [
    "### 16.1.2 定义和导出"
   ]
  },
  {
   "cell_type": "markdown",
   "metadata": {},
   "source": [
    "#### 1. 随机变量线性变换的基本性质"
   ]
  },
  {
   "cell_type": "markdown",
   "metadata": {},
   "source": [
    "$m$维随机变量$\\pmb{x}$  \n",
    "\n",
    "$$\n",
    "\\pmb{x}=(x_{1}, x_{2}, \\cdots, x_{m})^{\\mathrm{T}}\n",
    "$$  \n",
    "\n",
    "均值向量$\\boldsymbol{\\mu}$:  \n",
    "\n",
    "$$\n",
    "\\boldsymbol{\\mu}=E(\\pmb{x})=\\left(\\mu_{1}, \\mu_{2}, \\cdots, \\mu_{m}\\right)^{\\mathrm{T}}\n",
    "$$  \n",
    "\n",
    "协方差矩阵$\\Sigma$:  \n",
    "\n",
    "$$\n",
    "\\Sigma = \\text{cov} (\\pmb{x},\\pmb{x}) = E\\left[ (\\pmb{x}-\\boldsymbol{\\mu})(\\pmb{x}-\\boldsymbol{\\mu})^{\\mathrm{T}} \\right]_{m\\times m}\n",
    "$$"
   ]
  },
  {
   "cell_type": "markdown",
   "metadata": {},
   "source": [
    "考虑由$m$维随机变量$\\pmb{x}$到$m$维随机变量$\\pmb{y} = (y_{1}, y_{2}, \\cdots, y_{m})^{\\mathrm{T}}$的线性变换:  \n",
    "\n",
    "$$\n",
    "y_{i}=\\alpha_{i}^{\\mathrm{T}} \\pmb{x}=\\alpha_{1 i} x_{1}+\\alpha_{2 i} x_{2}+\\cdots+\\alpha_{m i} x_{m} \\tag{16.1}  \\\\\n",
    "\\alpha_{i}^{\\mathrm{T}} = (\\alpha_{1 i}, \\alpha_{2 i}, \\cdots, \\alpha_{m i})\n",
    "$$"
   ]
  },
  {
   "cell_type": "markdown",
   "metadata": {},
   "source": [
    "由随机变量的性质可知:  \n",
    "\n",
    "$$\n",
    "\\begin{align*}\n",
    " E(y_{i}) &= \\alpha_{i}^{\\mathrm{T}} \\pmb{\\mu}, \\quad i=1,2,\\cdots,m \\tag{16.2}  \\\\\n",
    " \\text{var}(y_{i}) &= \\alpha_{i}^{\\mathrm{T}} \\Sigma \\alpha_{i}, \\quad i=1,2,\\cdots,m \\tag{16.3} \\\\\n",
    " \\text{cov}(y_{i}, y_{j}) &= \\alpha_{i}^{\\mathrm{T}} \\Sigma \\alpha_{j}, \\quad i=1,2,\\cdots,m; \\quad j=1,2,\\cdots,m  \\tag{16.4}\n",
    "\\end{align*}\n",
    "$$"
   ]
  },
  {
   "cell_type": "markdown",
   "metadata": {},
   "source": [
    "#### 2. 总体主成分"
   ]
  },
  {
   "cell_type": "markdown",
   "metadata": {},
   "source": [
    "给定一个如(16.1)所示的线性变换，如果它们满足下列条件:  \n",
    "1. 系数向量$\\alpha_{i}^{\\mathrm{T}}$是单位向量，即$\\alpha_{i}^{\\mathrm{T}}\\alpha_{i}=1,\\ i=1,2,\\cdots,m$；  \n",
    "\n",
    "\n",
    "2. 变量$y_{i}$与$y_{j}$互不相关，即$\\text{cov}(y_{i},y_{j})=0(i\\neq j)$；  \n",
    "\n",
    "\n",
    "3. 变量$y_{1}$是$\\pmb{x}$所有线性变换中方差最大的；$y_{2}$是与$y_{1}$不相关的$\\pmb{x}$的所有线性变换中方差最大的；以次类推。\n",
    "\n",
    "这时称$y_{1}, y_{2}, \\cdots, y_{m}$为$\\pmb{x}$的第一主成分、第二主成分、…、第$m$主成分。"
   ]
  },
  {
   "cell_type": "markdown",
   "metadata": {},
   "source": [
    "条件1:  \n",
    "表明线性变换是正交变换，$\\alpha_{1}, \\alpha_{2}, \\cdots, \\alpha_{m}$是一组标准正交基  \n",
    "\n",
    "$$\n",
    "\\alpha_{i}^{\\mathrm{T}}\\alpha_{j} = \\left\\{\\begin{matrix}\n",
    "1  & i=j \\\\\n",
    "0  & i \\neq j\n",
    "\\end{matrix}\\right.\n",
    "$$"
   ]
  },
  {
   "cell_type": "markdown",
   "metadata": {},
   "source": [
    "条件2~3给出了求主成分的方法。"
   ]
  },
  {
   "cell_type": "markdown",
   "metadata": {},
   "source": [
    "### 16.1.3 主要性质"
   ]
  },
  {
   "cell_type": "markdown",
   "metadata": {},
   "source": [
    "#### 1. 定理: 根据协差阵求主成分"
   ]
  },
  {
   "cell_type": "markdown",
   "metadata": {},
   "source": [
    "设$\\pmb{x}$是$m$维随机变量，$\\Sigma$是协差阵，$\\Sigma$的特征值分别是$\\lambda_{1},\\lambda_{2},\\cdots,\\lambda_{m}\\geq 0$，特征值对应的单位特征向量是$\\alpha_{1}, \\alpha_{2}, \\cdots, \\alpha_{m}$，则$\\pmb{x}$的第$k$个主成分是  \n",
    "\n",
    "$$\n",
    "y_{k}=\\alpha_{k}^{\\mathrm{T}} \\pmb{x}=\\alpha_{1 k} x_{1}+\\alpha_{2 k} x_{2}+\\cdots+\\alpha_{m k} x_{m},\\ k=1,2,\\cdots,m  \\tag{16.5}\n",
    "$$  \n",
    "\n",
    "$\\pmb{x}$的第$k$个主成分的方差是  \n",
    "\n",
    "$$\n",
    "\\text{var}({y_{k}}) = \\alpha_{k}^{\\mathrm{T}}  \\Sigma \\alpha_{k} = \\lambda_{k},\\ k=1,2,\\cdots,m\n",
    "$$"
   ]
  },
  {
   "cell_type": "markdown",
   "metadata": {},
   "source": [
    "#### 2. 推论"
   ]
  },
  {
   "cell_type": "markdown",
   "metadata": {},
   "source": [
    "$m$维随机变量$\\pmb{y} = (y_{1}, y_{2}, \\cdots, y_{m})^{\\mathrm{T}}$的分量依次是$\\pmb{x}$的第一主成分到第$m$主成分的充要条件是:  \n",
    "\n",
    "（1）$\\pmb{y} = A^{\\mathrm{T}} \\pmb{x}$，$A$为正交矩阵:  \n",
    "\n",
    "$$\n",
    "A=\\left[\\begin{array}{cccc}\n",
    "\\alpha_{11} & \\alpha_{12} & \\cdots & \\alpha_{1 m} \\\\\n",
    "\\alpha_{21} & \\alpha_{22} & \\cdots & \\alpha_{2 m} \\\\\n",
    "\\vdots & \\vdots & & \\vdots \\\\\n",
    "\\alpha_{m 1} & \\alpha_{m 2} & \\cdots & \\alpha_{m m}\n",
    "\\end{array}\\right]\n",
    "$$  \n",
    "\n",
    "（2）$\\pmb{y}$的协差阵为对角阵  \n",
    "\n",
    "$$\n",
    "\\text{cov}(\\pmb{y})=\\text{diag}(\\lambda_{1},\\lambda_{2},\\cdots,\\lambda_{m}) \\\\\n",
    "\\lambda_{1} \\geq \\lambda_{2}\\geq \\cdots \\geq \\lambda_{m}\n",
    "$$  \n",
    "\n",
    "式中，$\\lambda_{k}$是$\\Sigma$的第$k$个特征值，$\\alpha_{k}$是对应的单位特征向量，$k=1,2,\\cdots,m$."
   ]
  },
  {
   "cell_type": "markdown",
   "metadata": {},
   "source": [
    "#### 3. 总体主成分的性质"
   ]
  },
  {
   "cell_type": "markdown",
   "metadata": {},
   "source": [
    "1. 总体主成分$\\pmb{y}$的协差阵是对角阵  \n",
    "\n",
    "$$\n",
    "\\text{cov}(\\pmb{y})=\\text{diag}(\\lambda_{1},\\lambda_{2},\\cdots,\\lambda_{m})\n",
    "$$"
   ]
  },
  {
   "cell_type": "markdown",
   "metadata": {},
   "source": [
    "2. 总体主成分$\\pmb{y}$的方差之和等于随机变量$\\pmb{x}$的方差之和，即  \n",
    "\n",
    "$$\n",
    "\\sum_{i=1}^{m} \\text{var}(y_{i}) = \\sum_{i=1}^{m}\\lambda_{i} = \\sum_{i=1}^{m}\\sigma_{ii} = \\text{tr}(\\Sigma) = \\sum_{i=1}^{m}\\text{var}(x_{i}) \\tag{16.18}\n",
    "$$  \n",
    "\n",
    "其中，$\\sigma_{ii}$是随机变量$x_{i}$的方差，即$\\Sigma$对角元素。"
   ]
  },
  {
   "cell_type": "markdown",
   "metadata": {},
   "source": [
    "3. 第$k$个主成分$y_{k}$与变量$x_{i}$的相关系数$\\rho(y_{k},x_{i})$称为因子负荷量（factor loading），它表示第$k$个主成分$y_{k}$与变量$x_{i}$的相关关系。计算公式是  \n",
    "\n",
    "$$\n",
    "\\rho(y_{k},x_{i}) = \\frac{\\sqrt{\\lambda_{k}}\\alpha_{ik}}{\\sqrt{\\sigma_{ii}}}, \\quad k,i=1,2,\\cdots,m \\tag{16.20}\n",
    "$$"
   ]
  },
  {
   "cell_type": "markdown",
   "metadata": {},
   "source": [
    "4. 第$k$个主成分$y_{k}$与$m$个变量的因子负荷满足:  \n",
    "\n",
    "$$\n",
    "\\sum_{i=1}^{m} \\sigma_{ii}\\rho^{2}(y_{k},x_{i}) = \\lambda_{k} \\tag{16.21}\n",
    "$$"
   ]
  },
  {
   "cell_type": "markdown",
   "metadata": {},
   "source": [
    "5. $m$个主成分与第$i$个变量$x_{i}$的因子负荷量满足  \n",
    "\n",
    "$$\n",
    "\\sum_{k=1}^{m} \\rho^{2}(y_{k},x_{i}) = 1 \\tag{16.22}\n",
    "$$"
   ]
  },
  {
   "cell_type": "markdown",
   "metadata": {},
   "source": [
    "### 16.1.4 主成分的个数"
   ]
  },
  {
   "cell_type": "markdown",
   "metadata": {},
   "source": [
    "<font color=blue>PCA的主要作用是降维，所以一般选择$k(k \\ll m)$个主成分来代替$m$个原有变量，使得问题简化，并能保留原有变量的大部分信息。信息指的是原有变量的方差。</font>"
   ]
  },
  {
   "cell_type": "markdown",
   "metadata": {},
   "source": [
    "#### 1. 定理"
   ]
  },
  {
   "cell_type": "markdown",
   "metadata": {},
   "source": [
    "对任意正整数$q$，$1 \\leq q \\leq m$，考虑正交变换  \n",
    "\n",
    "$$\n",
    "\\underset{q\\times 1}{\\pmb{y}} = \\underset{q\\times m}{B^{\\mathrm{T}}} \\ \\underset{m \\times 1}{\\pmb{x}}\n",
    "$$  \n",
    "\n",
    "令$\\pmb{y}$的协方差矩阵为  \n",
    "\n",
    "$$\n",
    "\\Sigma_{\\pmb{y}}=B^{\\mathrm{T}} \\Sigma B\n",
    "$$  \n",
    "\n",
    "则$\\Sigma_{\\pmb{y}}$的迹$\\text{tr}(\\Sigma_{\\pmb{y}})$在$B=A_{q}$时取得最大值，其中矩阵$=A_{q}$有正交矩阵$A$的前$q$列组成。"
   ]
  },
  {
   "cell_type": "markdown",
   "metadata": {},
   "source": [
    "#### 2. 主成分方差贡献率"
   ]
  },
  {
   "cell_type": "markdown",
   "metadata": {},
   "source": [
    "第$k$主成分$y_{k}$的方差贡献率: $y_{k}$的方差与所有方差之和的比，记作$\\eta_{k}$  \n",
    "\n",
    "$$\n",
    "\\eta_{k} = \\frac{\\lambda_{k}}{\\sum_{i=1}^{m}\\lambda_{i}}\n",
    "$$  \n",
    "\n",
    "$k$个主成分的累积方差贡献率  \n",
    "\n",
    "$$\n",
    "\\sum_{i=1}^{k}\\eta_{i} = \\frac{\\sum_{i=1}^{k}\\lambda_{i}}{\\sum_{i=1}^{m}\\lambda_{i}}\n",
    "$$"
   ]
  },
  {
   "cell_type": "markdown",
   "metadata": {},
   "source": [
    "#### 3. 主成分对原有变量贡献率"
   ]
  },
  {
   "cell_type": "markdown",
   "metadata": {},
   "source": [
    "$k$个主成分$y_{1}, y_{2}, \\cdots, y_{k}$的对原有变量$x_{i}$的贡献率定义为$x_{i}$与$(y_{1}, y_{2}, \\cdots, y_{k})$的相关系数的平方，记作$\\nu_{i}$  \n",
    "\n",
    "$$\n",
    "\\begin{eqnarray}\n",
    "\\nu_{i} &=& \\rho^{2}\\left(x_{i}, (y_{1}, y_{2}, \\cdots, y_{k}) \\right) \\\\\n",
    "&=& \\sum{j=1}^{k}\\rho^{2}(x_{i}, y_{j}) = \\sum_{j=1}^{k}\\frac{\\lambda_{j}\\alpha_{ij}^{2}}{\\sigma_{ii}}\n",
    "\\end{eqnarray}\n",
    "$$"
   ]
  },
  {
   "cell_type": "markdown",
   "metadata": {},
   "source": [
    "### 16.1.5 规范化变量的总体主成分"
   ]
  },
  {
   "cell_type": "markdown",
   "metadata": {},
   "source": [
    "实际问题中，不同变量可能有不同的量纲，为了消除这个影响，常常对各个随机变量事实规范化。  \n",
    "\n",
    "$$\n",
    "x_{i}^{*} = \\frac{x_{i}-E(x_{i})}{\\sqrt{var(x_{i})}},\\quad i=1,2,\\cdots,m\n",
    "$$  \n",
    "\n",
    "此时，$x_{i}^{*}$就是$x_{i}$规范化随机变量。  \n",
    "\n",
    "<font color=blue>规范化随机变量的协差阵就是相关矩阵$R$.</font>"
   ]
  },
  {
   "cell_type": "markdown",
   "metadata": {},
   "source": [
    "## 16.2 样本主成分分析"
   ]
  },
  {
   "cell_type": "markdown",
   "metadata": {},
   "source": [
    "实际问题中，需要在观测数据上进行主成分分析，这就是样本主成分分析。"
   ]
  },
  {
   "cell_type": "markdown",
   "metadata": {},
   "source": [
    "### 16.2.1 样本PAC的定义和性质"
   ]
  },
  {
   "cell_type": "markdown",
   "metadata": {},
   "source": [
    "假设对$m$维随机变量$\\pmb{x}=(x_{1}, x_{2}, \\cdots, x_{m})^{\\mathrm{T}}$进行$n$次独立观测，$\\pmb{x}_{1}, \\pmb{x}_{2}, \\cdots, \\pmb{x}_{n}$表示观测样本。观测数据用样本矩阵$\\pmb{X}$表示  \n",
    "\n",
    "$$\n",
    "\\pmb{X} = \\begin{bmatrix}\n",
    " \\pmb{x}_{1} & \\pmb{x}_{2} & \\cdots & \\pmb{x}_{n}\n",
    "\\end{bmatrix} = \\begin{bmatrix}\n",
    "x_{11}  & x_{12} & \\cdots & x_{1n} \\\\\n",
    "x_{21}  & x_{22} & \\cdots & x_{2n} \\\\\n",
    " \\vdots & \\vdots &  & \\vdots \\\\\n",
    "x_{m1}  & x_{m2} & \\cdots & x_{mn}\n",
    "\\end{bmatrix}\n",
    "$$"
   ]
  },
  {
   "cell_type": "markdown",
   "metadata": {},
   "source": [
    "样本均值向量$\\bar{\\pmb{x}}$:  \n",
    "\n",
    "$$\n",
    "\\bar{\\pmb{x}} = \\frac{1}{n}\\sum_{j=1}^{n}\\pmb{x}_{j}\n",
    "$$"
   ]
  },
  {
   "cell_type": "markdown",
   "metadata": {},
   "source": [
    "样本协差阵$S$为  \n",
    "\n",
    "$$\n",
    "\\begin{align}\n",
    "S &= [s_{ij}]_{m\\times m} \\\\\n",
    "s_{ij} &= \\frac{1}{n-1}\\sum_{k=1}^{n}(x_{ik} - \\bar{x}_{i})(x_{jk} - \\bar{x}_{j}),\\quad i,j = 1,2,\\cdots,m\n",
    "\\end{align}\n",
    "$$  \n",
    "\n",
    "其中，  \n",
    "\n",
    "$\\bar{x}_{i} = \\frac{1}{n}\\sum_{k=1}^{n}x_{ik}$ 为第$i$个变量的样本均值；   \n",
    "\n",
    "$\\bar{x}_{j} = \\frac{1}{n}\\sum_{k=1}^{n}x_{jk}$ 为第$j$个变量的样本均值；  \n"
   ]
  },
  {
   "cell_type": "markdown",
   "metadata": {},
   "source": [
    "样本相关矩阵$R$为  \n",
    "\n",
    "$$\n",
    "R=[r_{ij}]_{m\\times m}, \\quad r_{ij}=\\frac{s_{ij}}{\\sqrt{s_{ii}s_{jj}}},\\quad i,j = 1,2,\\cdots,m\n",
    "$$"
   ]
  },
  {
   "cell_type": "markdown",
   "metadata": {},
   "source": [
    "$\\quad$  \n",
    "\n",
    "$\\quad$"
   ]
  },
  {
   "cell_type": "markdown",
   "metadata": {},
   "source": [
    "定义$m$维向量$\\pmb{x}=(x_{1}, x_{2}, \\cdots, x_{m})^{\\mathrm{T}}$到$m$维向量$\\pmb{y}=(y_{1}, y_{2}, \\cdots, y_{m})^{\\mathrm{T}}$的线性变换  \n",
    "\n",
    "$$\n",
    "\\begin{eqnarray}\n",
    "\\pmb{y} &=& A^{\\mathrm{T}} \\pmb{x}   \\tag{16.43}\\\\\n",
    "A &=& \\begin{bmatrix}\n",
    " \\pmb{a}_{1} & \\pmb{a}_{2} & \\cdots & \\pmb{a}_{m}\n",
    "\\end{bmatrix}\n",
    "\\end{eqnarray}\n",
    "$$"
   ]
  },
  {
   "cell_type": "markdown",
   "metadata": {},
   "source": [
    "考虑(16.43)的任意一个线性变换  \n",
    "\n",
    "$$\n",
    "y_{i} = \\pmb{a}_{i}^{T}\\pmb{x}\n",
    "$$"
   ]
  },
  {
   "cell_type": "markdown",
   "metadata": {},
   "source": [
    "其中$y_{i}$是向量$\\pmb{y}$的第$i$个变量，$y_{i}$的样本均值为  \n",
    "\n",
    "$$\n",
    "\\bar{y}_{i} = \\frac{1}{n}\\sum_{j=1}^{n}\\pmb{a}_{i}^{\\mathrm{T}}\\pmb{x}_{j} = \\pmb{a}_{i}^{\\mathrm{T}} \\bar{\\pmb{x}}\n",
    "$$  \n",
    "\n",
    "\n",
    "$y_{i}$的样本方差$\\text{var}(y_{i})$为  \n",
    "\n",
    "$$\n",
    "\\begin{aligned} \n",
    "\\operatorname { var } \\left( y _ { i } \\right) & = \\frac { 1 } { n - 1 } \\sum _ { j = 1 } ^ { n } \\left( a _ { i } ^ { \\mathrm { T } } \\pmb { x } _ { j } - a _ { i } ^ { \\mathrm { T } } \\bar { \\pmb { x } } \\right) ^ { 2 } \\\\ & = a _ { i } ^ { \\mathrm { T } } \\left[ \\frac { 1 } { n - 1 } \\sum _ { j = 1 } ^ { n } \\left( \\pmb { x } _ { j } - \\bar { \\pmb { x } } \\right) \\left( \\pmb { x } _ { j } - \\bar { \\pmb { x } } \\right) ^ { \\mathrm { T } } \\right] a _ { i } = a _ { i } ^ { \\mathrm { T } } S a _ { i } \n",
    "\\end{aligned} \n",
    "$$"
   ]
  },
  {
   "cell_type": "markdown",
   "metadata": {},
   "source": [
    "对任意两个线性变换$y_{i} = \\alpha_{i}^{\\mathrm{T}}\\pmb{x}, y_{k} = \\alpha_{k}^{\\mathrm{T}}\\pmb{x}$，相应于容量为$n$的样本$\\pmb{x}_{1}, \\pmb{x}_{2}, \\cdots, \\pmb{x}_{n}$，$y_{i},y_{k}$的样本协方差为  \n",
    "\n",
    "$$\\operatorname{cov}\\left(y_{i}, y_{k}\\right)=a_{i}^{\\mathrm{T}} S a_{k}$$"
   ]
  },
  {
   "cell_type": "markdown",
   "metadata": {},
   "source": [
    "#### 定义: 样本主成分"
   ]
  },
  {
   "cell_type": "markdown",
   "metadata": {},
   "source": [
    "给定样本矩阵$X$。  \n",
    "\n",
    "样本第一主成分$y_{1}=\\pmb{a}_{1}^{\\mathrm{T}} \\pmb{x}$是在$\\pmb{a}_{1}^{\\mathrm{T}}\\pmb{a}_{1}=1$条件下，使得$\\pmb{a}_{1}^{\\mathrm{T}} \\pmb{x}(j=1,2,\\cdots,n)$的样本方差$\\pmb{a}_{1}^{\\mathrm{T}}S\\pmb{a}_{1}$最大的$\\pmb{x}$的线性变换；  \n",
    "\n",
    "样本第二主成分$y_{2}=\\pmb{a}_{2}^{\\mathrm{T}} \\pmb{x}$是在$\\pmb{a}_{2}^{\\mathrm{T}}\\pmb{a}_{2}=1$和$\\pmb{a}_{2}^{\\mathrm{T}} \\pmb{x}$与$\\pmb{a}_{1}^{\\mathrm{T}} \\pmb{x}$的样本协方差$\\pmb{a}_{1}^{\\mathrm{T}}S\\pmb{a}_{2}=0$条件下，使得$\\pmb{a}_{2}^{\\mathrm{T}} \\pmb{x}$的样本方差$\\pmb{a}_{2}^{\\mathrm{T}}S\\pmb{a}_{2}$最大的$\\pmb{x}$的线性变换；  \n",
    "\n",
    "样本第$i$个主成分，依次类推..."
   ]
  },
  {
   "cell_type": "markdown",
   "metadata": {},
   "source": [
    "#### 样本数据规范化"
   ]
  },
  {
   "cell_type": "markdown",
   "metadata": {},
   "source": [
    "在使用样本主成分时，一般假设样本数据时规范化的，即对样本矩阵作如下变换:  \n",
    "\n",
    "$$\n",
    "x_{ij}^{*} = \\frac{x_{ij}-\\bar{x}_{i}}{\\sqrt{s_{ii}}}, \\quad i,j=1,2,\\cdots,n \\tag{16.48}\n",
    "$$"
   ]
  },
  {
   "cell_type": "markdown",
   "metadata": {},
   "source": [
    "其中  \n",
    "\n",
    "$$\n",
    "\\begin{align}\n",
    "\\bar{x}_{i} &= \\frac{1}{n}\\sum_{j=1}^{n}x_{ij}, \\quad i=1,2,\\cdots,m \\\\\n",
    "s_{ii} &= \\frac{1}{n-1}\\sum_{j=1}^{n}(x_{ij} - \\bar{x}_{i})^{2} \\quad i=1,2,\\cdots,m\n",
    "\\end{align}\n",
    "$$"
   ]
  },
  {
   "cell_type": "markdown",
   "metadata": {},
   "source": [
    "为了方便，以下将规范化变量$x_{i j}^{ * }$仍记作$x_{ij}$，规范化的样本矩阵仍记作$X$。这时，<font color=blue>样本协方差矩阵$S$就是样本相关矩阵$R$</font>  \n",
    "\n",
    "$$\n",
    "R = \\frac{1}{n-1}XX^{\\mathrm{T}} \\tag{16.49}\n",
    "$$"
   ]
  },
  {
   "cell_type": "markdown",
   "metadata": {},
   "source": [
    "### 16.2.2 相关矩阵$R$的特征值分解"
   ]
  },
  {
   "cell_type": "markdown",
   "metadata": {},
   "source": [
    "传统的主成分分析通过对$\\Sigma$或$\\mathbf{R}$的特征值分解进行，现在常用的方法是通过数据矩阵的SVD分解进行。<font color=red>Why?</font>  \n",
    "\n",
    "\n",
    "给定样本矩阵$X$，对样本协差阵$S$或样本相关矩阵$\\mathbf{R}$的特征值分解进行主成分分析，具体步骤如下: "
   ]
  },
  {
   "cell_type": "markdown",
   "metadata": {},
   "source": [
    "（1）对观测数据按(16.48)进行规范化处理，得到规范化的数据矩阵，仍以$X$表示;   \n",
    "\n",
    "\n",
    "（2）依据规范化数据，计算样本相关矩阵$R$  \n",
    "\n",
    "$$\n",
    "R = [r_{ij}]_{m\\times m} = \\frac{1}{n-1}XX^{\\mathrm{T}}\n",
    "$$"
   ]
  },
  {
   "cell_type": "markdown",
   "metadata": {},
   "source": [
    "（3）求样本相关矩阵$R$的$k$个特征值和对应的单位特征向量。  \n",
    "\n",
    "求解$R$的特征方程\n",
    "$$\n",
    "|R-\\lambda I| = 0\n",
    "$$  \n",
    "\n",
    "得$R$的$m$个特征值  \n",
    "\n",
    "$$\n",
    "\\lambda_{1} \\geqslant \\lambda_{2} \\geqslant \\cdots \\geqslant \\lambda_{m}\n",
    "$$  \n",
    "\n",
    "求方差贡献率$\\sum_{i=1}^{k}\\eta_{i}$达到预定值的主成分个数$k$. 求前$k$个特征值对应的单位特征向量  \n",
    "\n",
    "$$\n",
    "a_{i}=\\left(a_{1 i}, a_{2 i}, \\cdots, a_{m i}\\right)^{\\mathrm{T}}, \\quad i=1,2, \\cdots, k\n",
    "$$"
   ]
  },
  {
   "cell_type": "markdown",
   "metadata": {},
   "source": [
    "（4）求$k$个样本主成分  \n",
    "\n",
    "$$y_{i}=a_{i}^{\\mathrm{T}} \\boldsymbol{x}, \\quad i=1,2, \\cdots, k \\tag{16.50}\n",
    "$$"
   ]
  },
  {
   "cell_type": "markdown",
   "metadata": {},
   "source": [
    "（5）计算$k$个主成分$y_{j}$与原变量$x_{i}$的相关系数$\\rho(x_{i}, y_{j})$，以及$k$个主成分对原变量$x_{ i }$的贡献率$\\nu_{i}$."
   ]
  },
  {
   "cell_type": "markdown",
   "metadata": {},
   "source": [
    "（6）计算$n$个样本的$k$个主成分值  \n",
    "\n",
    "将规范化数据样本带入$k$个主成分式(16.50)，得到$n$个样本的主成分值。第$j$个样本$\\pmb{x}_{j}=\\left(x_{1 j}, x_{2 j}, \\cdots, x_{m j}\\right)^{\\mathrm{T}}$的第$i$个主成分值是  \n",
    "\n",
    "$$\n",
    "y_{i j}=\\left(a_{1 i}, a_{2 i}, \\cdots, a_{m i}\\right)\\left(x_{1 j}, x_{2 j}, \\cdots, x_{m j}\\right)^{\\mathrm{T}}=\\sum_{l=1}^{m} a_{l i} x_{l j} \\\\\n",
    "i=1,2,\\cdots,m, \\quad j=1,2,\\cdots,n\n",
    "$$"
   ]
  },
  {
   "cell_type": "markdown",
   "metadata": {},
   "source": [
    "### 16.2.3 数据矩阵的奇异值分解法"
   ]
  },
  {
   "cell_type": "markdown",
   "metadata": {},
   "source": [
    "定义一个新的$n \\times m$矩阵$X^{\\prime}$  \n",
    "\n",
    "$$\n",
    "X^{\\prime} = \\frac{1}{\\sqrt{n-1}}X^{\\mathrm{T}} \\tag{16.51}\n",
    "$$"
   ]
  },
  {
   "cell_type": "markdown",
   "metadata": {},
   "source": [
    "不难得知，  \n",
    "\n",
    "$$\n",
    "\\begin{aligned} \n",
    "X ^ { \\prime \\mathrm { T } } X ^ { \\prime } & = \\left( \\frac { 1 } { \\sqrt { n - 1 } } X ^ { \\mathrm { T } } \\right) ^ { \\mathrm { T } } \\left( \\frac { 1 } { \\sqrt { n - 1 } } X ^ { \\mathrm { T } } \\right) \\\\ \n",
    "& = \\frac { 1 } { n - 1 } X X ^ { \\mathrm { T } } \n",
    "\\end{aligned} \n",
    "$$"
   ]
  },
  {
   "cell_type": "markdown",
   "metadata": {},
   "source": [
    "即$X ^ { \\prime \\mathrm { T } } X ^ { \\prime }$等于$X$的协方差矩阵$S_{X}$  \n",
    "\n",
    "$$\n",
    "S_{X} = X ^ { \\prime \\mathrm { T } } X ^ { \\prime } \\tag{16.53}\n",
    "$$"
   ]
  },
  {
   "cell_type": "markdown",
   "metadata": {},
   "source": [
    "主成分分析归结于求协差阵$S_{X}$的特征值和单位特征向量，所以问题转化为求矩阵$X ^ { \\prime \\mathrm { T } } X ^ { \\prime }$的特征值和单位特征向量.  \n",
    "\n",
    "假设$X^{\\prime}$的截断奇异值分解为$X^{\\prime} = U \\Sigma V^{\\mathrm{T}}$，那么  \n",
    "\n",
    "$$\n",
    "\\begin{align}\n",
    "X ^ { \\prime \\mathrm { T } } X ^ { \\prime } &= V \\Sigma^{\\mathrm{T}} U^{\\mathrm{T}} U \\Sigma V^{\\mathrm{T}} \\\\\n",
    "&= V \\Sigma^{2} V^{\\mathrm{T}}\n",
    "\\end{align}\n",
    "$$\n",
    "\n",
    "所以，$V$的列向量就是$S_{X} = X ^ { \\prime \\mathrm { T } } X ^ { \\prime }$的单位特征向量。于是，求$X$主成分可以通过求$X^{\\prime}$的奇异值分解来实现。"
   ]
  },
  {
   "cell_type": "markdown",
   "metadata": {},
   "source": [
    "#### 算法（主成分分析算法）"
   ]
  },
  {
   "cell_type": "markdown",
   "metadata": {},
   "source": [
    "输入: $m \\times n$样本矩阵$X$，其每一行元素的均值为零； \n",
    "\n",
    "输出：$k\\times n$样本主成分矩阵$Y$.  \n",
    "\n",
    "参数：主成分个数$k$ \n",
    "\n",
    "（1）构造新的$n \\times m$矩阵 \n",
    "\n",
    "$$\n",
    "X^{\\prime} = \\frac{1}{\\sqrt{n-1}}X^{\\mathrm{T}} \n",
    "$$\n",
    "\n",
    "（2）对矩阵$X^{\\prime}$进行截断奇异值分解，得到  \n",
    "\n",
    "$$\n",
    "X^{\\prime} = U \\Sigma V^{\\mathrm{T}}\n",
    "$$  \n",
    "\n",
    "有$k$个奇异值、奇异向量。矩阵$V$的前$k$列构成$k$个样本主成分。\n",
    "\n",
    "（3）求$k\\times n$样本主成分矩阵  \n",
    "\n",
    "$$\n",
    "Y = V^{\\mathrm{T}}X\n",
    "$$"
   ]
  },
  {
   "cell_type": "code",
   "execution_count": null,
   "metadata": {},
   "outputs": [],
   "source": []
  }
 ],
 "metadata": {
  "kernelspec": {
   "display_name": "Python [conda env:root] *",
   "language": "python",
   "name": "conda-root-py"
  },
  "language_info": {
   "codemirror_mode": {
    "name": "ipython",
    "version": 3
   },
   "file_extension": ".py",
   "mimetype": "text/x-python",
   "name": "python",
   "nbconvert_exporter": "python",
   "pygments_lexer": "ipython3",
   "version": "3.7.1"
  }
 },
 "nbformat": 4,
 "nbformat_minor": 2
}

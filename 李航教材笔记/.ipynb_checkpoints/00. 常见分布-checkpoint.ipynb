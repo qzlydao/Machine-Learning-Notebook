{
 "cells": [
  {
   "cell_type": "markdown",
   "metadata": {},
   "source": [
    "# 1. 高斯分布"
   ]
  },
  {
   "cell_type": "markdown",
   "metadata": {},
   "source": [
    "一维情况: \n",
    "\n",
    "$$\n",
    "\\begin{eqnarray}\n",
    "f(x \\mid \\mu, \\sigma^{2}) &=& \\frac{1}{\\sqrt{2 \\pi}\\sigma}\\exp \n",
    "\\left(- \\frac{1}{2 \\sigma^{2}}(x-\\mu)^{2} \\right) \\\\\n",
    "&=& \\frac{1}{(2 \\pi)^{\\frac{1}{2}}({\\sigma^{2})}^{\\frac{1}{2}}} \\exp \\left[ -\\frac{1}{2}(x-\\mu)(\\sigma^{2})^{-1}(x-\\mu) \\right]\n",
    "\\end{eqnarray}\n",
    "$$"
   ]
  },
  {
   "cell_type": "markdown",
   "metadata": {},
   "source": [
    "若$\\pmb{x} \\in \\mathbf{R}^{p},\\ x \\sim N(\\pmb{\\mu}, \\Sigma)$，则p.d.f为  \n",
    "\n",
    "$$\n",
    "f(\\pmb{x}) = \\frac{1}{(2\\pi)^{\\frac{\\color{red}{p}}{2}}|\\Sigma|^{\\frac{1}{2}}}\\exp \\left[ -\\frac{1}{2}(\\pmb{x}-\\pmb{\\mu})\\Sigma^{-1}(\\pmb{x}-\\pmb{\\mu}) \\right]\n",
    "$$"
   ]
  },
  {
   "cell_type": "markdown",
   "metadata": {},
   "source": [
    "# 2. 伯努利分布（0-1分布）"
   ]
  },
  {
   "cell_type": "markdown",
   "metadata": {},
   "source": [
    "$x \\in [0,1]$，参数为$~p(0 < p < 1)$，则\n",
    "\n",
    "$$\n",
    "f(x\\mid p) = p^{1-x}(1-p)^{x}\n",
    "$$"
   ]
  },
  {
   "cell_type": "markdown",
   "metadata": {},
   "source": [
    "# 3. 二项分布"
   ]
  },
  {
   "cell_type": "markdown",
   "metadata": {},
   "source": [
    "$n~$重伯努利实验 \n",
    "\n",
    "$$\n",
    "p(X=x \\mid n,p) = C_{n}^{k}p^{k}(1-p)^{n-k}\n",
    "$$"
   ]
  },
  {
   "cell_type": "markdown",
   "metadata": {},
   "source": [
    "# 4. 泊松分布"
   ]
  },
  {
   "cell_type": "markdown",
   "metadata": {},
   "source": [
    "设随机变量$X$所有可能的取值为$~0,1,2,\\cdots$，各个取值的概率为\n",
    "\n",
    "$$\n",
    "p(X=k) = \\frac{\\lambda^{k}e^{-\\lambda}}{k!}\n",
    "$$\n",
    "\n",
    "$\\lambda > 0$是常数，记$~X \\sim \\pi(\\lambda)$"
   ]
  },
  {
   "cell_type": "markdown",
   "metadata": {},
   "source": [
    "# 5. Beta分布"
   ]
  },
  {
   "cell_type": "markdown",
   "metadata": {},
   "source": [
    "$X$为连续随机变量，取值范围为$[0,1]$，其p.d.f为  \n",
    "\n",
    "$$\n",
    "p(x)=\\left\\{\\begin{array}{ll}\n",
    "\\frac{1}{\\mathrm{~B}(s, t)} x^{s-1}(1-x)^{t-1}, & 0 \\leqslant x \\leqslant 1 \\\\\n",
    "0, & \\text { otherwise }\n",
    "\\end{array}\\right.\n",
    "$$\n",
    "\n",
    "其中$s > 0$和$t > 0$是参数，$B(s,t)$是Beta函数，定义为\n",
    "\n",
    "$$\n",
    "\\mathrm{B}(s, t)=\\int_{0}^{1} x^{s-1}(1-x)^{t-1} \\mathrm{~d} x \n",
    "$$\n",
    "\n",
    "当$s,t$为自然数时，  \n",
    "\n",
    "$$\n",
    "\\mathrm{B}(s, t)=\\frac{(s-1) !(t-1) !}{(s+t-1) !}\n",
    "$$"
   ]
  },
  {
   "cell_type": "markdown",
   "metadata": {},
   "source": [
    "# 6. Dirichlet分布"
   ]
  },
  {
   "cell_type": "markdown",
   "metadata": {},
   "source": [
    "若多元连续随机变量$\\theta=\\left(\\theta_{1}, \\theta_{2}, \\cdots, \\theta_{k}\\right)$对概率密度函数为\n",
    "\n",
    "$$\n",
    "p(\\theta | \\alpha)=\\frac{\\Gamma\\left(\\sum_{i=1}^{k} \\alpha_{i}\\right)}{\\prod_{i=1}^{k} \\Gamma\\left(\\alpha_{i}\\right)} \\prod_{i=1}^{k} \\theta_{i}^{\\alpha_{i}-1} \n",
    "$$\n",
    "\n",
    "$$\n",
    "\\sum_{i=1}^{k}\\theta_{i}=1,~ \\theta_{i} \\geq 0\\\\\n",
    "\\alpha=\\left(\\alpha_{1}, \\alpha_{2}, \\cdots, \\alpha_{k}\\right), ~ \\alpha_{i} >0\n",
    "$$\n",
    "\n",
    "称随机变量$\\theta$服从参数为$\\alpha$的狄利克雷分布，记作$\\theta \\sim \\text{Dir}(\\alpha)$\n",
    "\n",
    "令  \n",
    "\n",
    "$$\n",
    "\\mathrm{B}(\\alpha)=\\frac{\\prod_{i=1}^{k} \\Gamma\\left(\\alpha_{i}\\right)}{\\Gamma\\left(\\sum_{i=1}^{k} \\alpha_{i}\\right)} \n",
    "$$\n",
    "\n",
    "$\\mathrm{B}(\\alpha)$是规范化因子，称为多元贝塔函数（或扩展的贝塔函数）。由pdf的性质 \n",
    "\n",
    "$$\n",
    "\\int p(\\theta|\\alpha) \\mathrm{~d}\\theta = 1 = \\frac{\\Gamma\\left(\\sum_{i=1}^{k} \\alpha_{i}\\right)}{\\prod_{i=1}^{k} \\Gamma\\left(\\alpha_{i}\\right)} \\int \\prod_{i=1}^{k} \\theta_{i}^{\\alpha_{i}-1}\\mathrm{~d}\\theta\n",
    "$$\n",
    "\n",
    "得\n",
    "\n",
    "$$\n",
    "\\mathrm{B}(\\alpha) = \\int \\prod_{i=1}^{k} \\theta_{i}^{\\alpha_{i}-1}\\mathrm{~d}\\theta \n",
    "$$\n",
    "\n",
    "因此，pdf可写成  \n",
    "\n",
    "$$\n",
    "p(\\theta | \\alpha)= \\frac{1}{\\mathrm{B}(\\alpha)} \\prod_{i=1}^{k} \\theta_{i}^{\\alpha_{i}-1} = \\frac{\\prod_{i=1}^{k} \\theta_{i}^{\\alpha_{i}-1}}{\\int \\prod_{i=1}^{k} \\theta_{i}^{\\alpha_{i}-1}\\mathrm{~d}\\theta} \n",
    "$$"
   ]
  }
 ],
 "metadata": {
  "kernelspec": {
   "display_name": "Python [conda env:root] *",
   "language": "python",
   "name": "conda-root-py"
  },
  "language_info": {
   "codemirror_mode": {
    "name": "ipython",
    "version": 3
   },
   "file_extension": ".py",
   "mimetype": "text/x-python",
   "name": "python",
   "nbconvert_exporter": "python",
   "pygments_lexer": "ipython3",
   "version": "3.7.1"
  }
 },
 "nbformat": 4,
 "nbformat_minor": 2
}

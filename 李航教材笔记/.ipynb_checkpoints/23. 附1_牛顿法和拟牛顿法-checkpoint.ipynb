{
 "cells": [
  {
   "cell_type": "markdown",
   "metadata": {},
   "source": [
    "# 1. 牛顿法"
   ]
  },
  {
   "cell_type": "markdown",
   "metadata": {},
   "source": [
    "牛顿法的原理: <font color=blue>使用函数$f(x)$的泰勒级数的前几项来寻找方程$f(x)=0$的根。</font>"
   ]
  },
  {
   "cell_type": "markdown",
   "metadata": {},
   "source": [
    "## 1.1 引例"
   ]
  },
  {
   "cell_type": "markdown",
   "metadata": {},
   "source": [
    "目标: 用牛顿法求$f(x)=0$的根"
   ]
  },
  {
   "cell_type": "markdown",
   "metadata": {},
   "source": [
    "首先选择起始点$x_{0}$，将函数$f(x)$在$x_{0}$处进行泰勒展开:  \n",
    "\n",
    "$$\n",
    "f(x) = f\\left(x_{0}\\right)+ f^{\\prime}\\left(x_{0}\\right)\\left(x-x_{0}\\right)+\\frac{f^{\\prime \\prime}\\left(x_{0}\\right)}{2 !}\\left(x-x_{0}\\right)^{2}+\\cdots+\\frac{f^{(n)}\\left(x_{0}\\right)}{n !}\\left(x-x_{0}\\right)^{n}+ \\cdots\n",
    "$$"
   ]
  },
  {
   "cell_type": "markdown",
   "metadata": {},
   "source": [
    "<font color=blue>取其线性部分，作为$f(x)$的近似，</font><font color=red>（就是在$x_{0}$处作切线，将切线与坐标轴的交点作为近似解）</font>则可用$f\\left(x_{0}\\right)+ f^{\\prime}\\left(x_{0}\\right)\\left(x-x_{0}\\right)=0$的解来近似$f(x)=0$的解，其解为:\n",
    "$$\n",
    "x_{1} = x_{0} - \\frac{f(x_{0})}{f^{\\prime}(x_{0})}\n",
    "$$"
   ]
  },
  {
   "cell_type": "markdown",
   "metadata": {},
   "source": [
    "由于对$f(x)$的近似只是一阶展开，因此$x_{1}$并非$f(x)=0$的解，但$f(x_{1})$比$f(x_{0})$更接近0.于是，考虑迭代求解:\n",
    "$$\n",
    "x_{n+1} = x_{n} - \\frac{f(x_{n})}{f^{\\prime}(x_{n})}\n",
    "$$"
   ]
  },
  {
   "cell_type": "markdown",
   "metadata": {},
   "source": [
    "迭代过程如下图:  \n",
    "<img src='23.附2_牛顿法求根gif.gif' style='zoom:70%'/>"
   ]
  },
  {
   "cell_type": "markdown",
   "metadata": {},
   "source": [
    "## 1.2 牛顿法解无约束优化问题"
   ]
  },
  {
   "cell_type": "markdown",
   "metadata": {},
   "source": [
    "考虑无约束最优化问题是\n",
    "$$\n",
    "\\min_{x} \\quad f(x)\n",
    "$$\n",
    "$x^{*}$表示目标函数$f(x)$的极小点。"
   ]
  },
  {
   "cell_type": "markdown",
   "metadata": {},
   "source": [
    "### 1.2.1 牛顿法解无约束优化问题的思想: \n",
    "<font color=blue>函数$f(x)$有极值的**必要条件**是: 在极值点处一阶导数为0，即梯度向量$\\nabla f(x^{*})=0$.</font><font color=red> 因此约束优化问题转化为求方程$\\nabla f(x)=0$的根。</font>"
   ]
  },
  {
   "cell_type": "markdown",
   "metadata": {},
   "source": [
    "### 1.2.2 算法细节"
   ]
  },
  {
   "cell_type": "markdown",
   "metadata": {},
   "source": [
    "假设$f(x)$有二阶连续偏导数，若第$k$次迭代值为$x^{(k)}$，则可将函数在$x^{(k)}$附近进行二阶泰勒展开:  \n",
    "\n",
    "$$\n",
    "f(x)=f\\left(x^{(k)}\\right)+g_{k}^{\\mathrm{T}}\\left(x^{(k)}\\right)\\left(x-x^{(k)}\\right)+\\frac{1}{2}\\left(x-x^{(k)}\\right)^{\\mathrm{T}} H\\left(x^{(k)}\\right)\\left(x-x^{(k)}\\right) \\tag{B.2}\n",
    "$$"
   ]
  },
  {
   "cell_type": "markdown",
   "metadata": {},
   "source": [
    "式中，$g_{k}^{\\mathrm{T}}\\left(x^{(k)}\\right) = \\nabla f\\left(x^{(k)}\\right)$是$f(x)$的梯度向量在$\\left(x^{(k)}\\right) $的值，$H\\left(x^{(k)}\\right)$是$f(x)$的海塞矩阵  \n",
    "\n",
    "$$\n",
    "H(x) = \\left[ \\frac{\\partial^{2}f}{\\partial x_{i} \\partial x_{j}} \\right]_{n\\times n}\n",
    "$$"
   ]
  },
  {
   "cell_type": "markdown",
   "metadata": {},
   "source": [
    "对（B.2）式两边做梯度运算得\n",
    "\n",
    "$$\n",
    "\\nabla f(x) = g_{k}\\left(x^{(k)}\\right) + H_{k}\\left(x-x^{(k)}\\right) \\tag{B.6}\n",
    "$$"
   ]
  },
  {
   "cell_type": "markdown",
   "metadata": {},
   "source": [
    "若每次迭代从$x^{(k)}$开始，作为第$k+1$次迭代值$x^{(k+1)}$，假设其满足$\\nabla f(x^{(k+1)}) =0$，即\n",
    "\n",
    "$$\n",
    "g_{k}\\left(x^{(k)}\\right) + H_{k}\\left(x^{(k+1)}-x^{(k)}\\right) = 0 \\tag{B.7}\n",
    "$$"
   ]
  },
  {
   "cell_type": "markdown",
   "metadata": {},
   "source": [
    "解得  \n",
    "$$\n",
    "x^{(k+1)} = x^{(k)} - H_{k}^{-1}g_{k} = x^{(k)} - \\underset{\\color{red}{计算复杂}}{\\underbrace{\\color{red}{H_{k}^{-1}(x^{(k)})}}}\\cdot \\nabla f(x^{(k)}) \\tag{B.8}\n",
    "$$ "
   ]
  },
  {
   "cell_type": "markdown",
   "metadata": {},
   "source": [
    "或者  \n",
    "\n",
    "$$\n",
    "x^{(k+1)} = x^{(k)} + p_{k} \\tag{B.9}\n",
    "$$  \n",
    "\n",
    "其中:  \n",
    "\n",
    "$$\n",
    "H_{k}p_{k} = -g_{k}\n",
    "$$"
   ]
  },
  {
   "cell_type": "markdown",
   "metadata": {},
   "source": [
    "**结论: 如果$H_{k}$是正定的（$H_{k}^{-1}$也是正定的），那么可以保证牛顿法搜索方向$p_{k}$是下降反向。**"
   ]
  },
  {
   "cell_type": "markdown",
   "metadata": {},
   "source": [
    "**证明**"
   ]
  },
  {
   "cell_type": "markdown",
   "metadata": {},
   "source": [
    "由式（B.8）有  \n",
    "$$\n",
    "x = x^{(k)} + \\lambda p_{k} = x^{(k)} - \\lambda H_{k}^{-1}g_{k} \\tag{B.14}\n",
    "$$"
   ]
  },
  {
   "cell_type": "markdown",
   "metadata": {},
   "source": [
    "所以$f(x)$在$x^{(k)}$的泰勒展开式(B.2)可近似写成(保留前两项):\n",
    "$$\n",
    "f(x) = f(x^{(k)}) - \\lambda g_{k}^{T}H_{k}^{-1}g_{k} \\tag{B.15}\n",
    "$$"
   ]
  },
  {
   "cell_type": "markdown",
   "metadata": {},
   "source": [
    "因$H_{k}^{-1}$正定，固有$g_{k}^{T}H_{k}^{-1}g_{k} > 0$。当$\\lambda$为一个充分小的正数时，总有$f(x) < f\\left(x^{(k)}\\right)$，也就是说$p_{k}$是下降方向。"
   ]
  },
  {
   "cell_type": "markdown",
   "metadata": {},
   "source": [
    "### 1.2.3 算法描述"
   ]
  },
  {
   "cell_type": "markdown",
   "metadata": {},
   "source": [
    "输入: 目标函数$f(x)$，梯度$g(x)=\\nabla f(x)$，黑塞矩阵$H(x)$，精度要求$\\epsilon$;  \n",
    "  \n",
    "\n",
    "输出: $f(x)$的极小点$x^{*}$"
   ]
  },
  {
   "cell_type": "markdown",
   "metadata": {},
   "source": [
    "（1）取初始点$x^{(0)}$，置$k=0$  \n",
    "  \n",
    "  \n",
    "（2）计算$g_{k}=g\\left( x^{(k)} \\right)$  \n",
    "\n",
    "\n",
    "（3）若$\\| g_{k} \\|<\\epsilon$，则停止计算，得近似解$x^{(0)} = x^{(k)}$  \n",
    "\n",
    "\n",
    "（4）计算$H_{k}=H\\left( x^{(k)} \\right)$，并求$p_{k}$\n",
    "$$\n",
    "p_{k} = -\\underset{\\color{red}{复杂}}{\\underbrace{H_{k}^{-1}}g_{k}}\n",
    "$$\n",
    "\n",
    "（5）置$x^{(k+1)} = x^{(k)} + p_{k}$  \n",
    "\n",
    "\n",
    "（6）置$k=k+1$，转（2）"
   ]
  },
  {
   "cell_type": "code",
   "execution_count": null,
   "metadata": {},
   "outputs": [],
   "source": [
    "def newton_method(f, g, H, epsilon):\n",
    "    \n",
    "    "
   ]
  },
  {
   "cell_type": "code",
   "execution_count": null,
   "metadata": {},
   "outputs": [],
   "source": []
  },
  {
   "cell_type": "markdown",
   "metadata": {},
   "source": [
    "### 1.2.4 总结"
   ]
  },
  {
   "cell_type": "markdown",
   "metadata": {},
   "source": [
    "1. 当目标函数是二次函数时，海塞矩阵退化为一个常数阵，从任一初始点触发，牛顿法可一步到达，因此它是一种具有二次收敛性的算法。  \n",
    "  \n",
    "  \n",
    "2. 对于非二次函数，若函数的二次性态较强，或迭代点已进入极小点的领域，则其收敛速度也是很快的。  \n",
    "\n",
    "\n",
    "3. <font color=red>牛顿法并不能保证迭代一定收敛，与初始点$x^{(0)}$的选取有关，应尽量选在极小点附近。</font>  \n",
    "\n",
    "\n",
    "4. 牛顿法的主要弊端在于，每一次迭代都要计算$H^{-1}$，这一步的计算比较复杂。"
   ]
  },
  {
   "cell_type": "markdown",
   "metadata": {},
   "source": [
    "# 2. 拟牛顿法"
   ]
  },
  {
   "cell_type": "markdown",
   "metadata": {},
   "source": [
    "牛顿法虽然收敛速度快，但是需要计算海塞矩阵的逆矩阵$H^{-1}$，而且有时目标函数的海塞矩阵无法保存正定，从而使牛顿法失效。  \n",
    "  \n",
    "  \n",
    "**拟牛顿法思想：**  \n",
    "<font color=blue>不用二阶偏导数而构造出可以近似海塞矩阵（或海塞矩阵的逆）的正定对称阵。</font>"
   ]
  },
  {
   "cell_type": "markdown",
   "metadata": {},
   "source": [
    "## 2.1 拟牛顿条件"
   ]
  },
  {
   "cell_type": "markdown",
   "metadata": {},
   "source": [
    "由式（B.6）  \n",
    "$$\n",
    "\\nabla f(x) = g_{k}\\left(x^{(k)}\\right) + H_{k}\\left(x-x^{(k)}\\right) \n",
    "$$"
   ]
  },
  {
   "cell_type": "markdown",
   "metadata": {},
   "source": [
    "取$x=x^{(k+1)}$，得 \n",
    "\n",
    "$$\n",
    "g_{k+1} - g_{k} = H_{k}\\left(x^{(k+1)}-x^{(k)}\\right) \n",
    "$$"
   ]
  },
  {
   "cell_type": "markdown",
   "metadata": {},
   "source": [
    "记$y_{k} = g_{k+1} - g(k), \\delta_{k} = x^{(k+1)} - x^{(k)}$，得<font color=red>拟牛顿条件</font>"
   ]
  },
  {
   "cell_type": "markdown",
   "metadata": {},
   "source": [
    "$$\n",
    "y_{k}=H_{k}\\delta_{k} \\quad \\text{or} \\quad \\delta_{k} = H_{k}^{-1}y_{k}\n",
    "$$"
   ]
  },
  {
   "cell_type": "markdown",
   "metadata": {},
   "source": [
    "拟牛顿法将$G_{k}$作为$H_{k}^{-1}$的近似，要求矩阵$G_{k}$满足同样的条件。首先，每次迭代$G_{k}$是正定的。同时满足下面的拟牛顿条件:\n",
    "$$\n",
    "G_{k+1}y_{k} = \\delta_{k} \\tag{B.16}\n",
    "$$"
   ]
  },
  {
   "cell_type": "markdown",
   "metadata": {},
   "source": [
    "按照拟牛顿条件选择$G_{k}$作为$H_{k}^{-1}$的近似或选择$B_{k}$作为$H_{k}$的近似的算法称为拟牛顿法。"
   ]
  },
  {
   "cell_type": "markdown",
   "metadata": {},
   "source": [
    "按照拟牛顿法条件，在每次迭代中可以选择更新矩阵$G_{k+1}$:  \n",
    "$$\n",
    "G_{k+1} = G_{k} + \\Delta G_{k} \\tag{B.17}\n",
    "$$"
   ]
  },
  {
   "cell_type": "markdown",
   "metadata": {},
   "source": [
    "## 2.2 DFP(Davidon-Fletcher-Powell)算法"
   ]
  },
  {
   "cell_type": "markdown",
   "metadata": {},
   "source": [
    "$$\n",
    "\\begin{eqnarray}\n",
    "G_{k+1} &=& G_{k}+\\frac{\\delta_{k} \\delta_{k}^{\\mathrm{T}}}{\\delta_{k}^{\\mathrm{T}} y_{k}}-\\frac{G_{k} y_{k} y_{k}^{\\mathrm{T}} G_{k}}{y_{k}^{\\mathrm{T}} G_{k} y_{k}} \\\\\n",
    "\\delta_{k} &=& x^{(k+1)} - x^{(k)}  \\tag{B.24}\n",
    "\\end{eqnarray}\n",
    "$$"
   ]
  },
  {
   "cell_type": "markdown",
   "metadata": {},
   "source": [
    "### DFP Algorithm"
   ]
  },
  {
   "cell_type": "markdown",
   "metadata": {},
   "source": [
    "输入: 目标函数$f(x)$，梯度$g(x)=\\nabla f(x)$，精度$\\epsilon$;  \n",
    " \n",
    " \n",
    "输出: $f(x)$的极小点$x^{*}$"
   ]
  },
  {
   "cell_type": "markdown",
   "metadata": {},
   "source": [
    "（1）选取初始点$x^{(0)}$，取$G_{0}$为正定对称矩阵，置$k=0$.  \n",
    "  \n",
    "   \n",
    "（2）计算$g_{k}$，若$\\|g_{k}\\|< \\epsilon$，则停止计算，得近似解$x^{*}=x^{(k)}$；否则转(3).  \n",
    "\n",
    "\n",
    "（3）置$p_{k}=-G_{k}g_{k}$  \n",
    "  \n",
    "  \n",
    "（4）一位搜索:求$\\lambda_{k}$使得  \n",
    "$$\n",
    "f\\left( x^{(k)} + \\lambda_{k}p_{k} \\right) = \\min_{\\lambda \\geq 0}f\\left( x^{(k)} + \\lambda p_{k} \\right)\n",
    "$$"
   ]
  },
  {
   "cell_type": "markdown",
   "metadata": {},
   "source": [
    "（5）置$x^{(k+1)} = x^{(k)} + \\lambda_{k}p_{k}$   \n",
    "\n",
    "\n",
    "（6）计算$g_{k+1}$，若$\\|g_{k+1}\\|< \\epsilon$，则停止计算，得近似解$x^{*}=x^{(k+1)}$；否则,按式（B.24）计算$G_{k+1}$.  \n",
    "\n",
    "\n",
    "（7）置$k=k+1$，转（3）"
   ]
  },
  {
   "cell_type": "markdown",
   "metadata": {},
   "source": [
    "## 2.3 BFGS(Broyden-Fletcher-Goldfarb-Shanno)算法"
   ]
  },
  {
   "cell_type": "markdown",
   "metadata": {},
   "source": [
    "BFGS算法是最流行的拟牛顿算法。 用$B_{k}$逼近海塞矩阵$H$。"
   ]
  },
  {
   "cell_type": "markdown",
   "metadata": {},
   "source": [
    "$$\n",
    "B_{k+1}=B_{k}+\\frac{y_{k} y_{k}^{\\mathrm{T}}}{y_{k}^{\\mathrm{T}} \\delta_{k}}-\\frac{B_{k} \\delta_{k} \\delta_{k}^{\\mathrm{T}} B_{k}}{\\delta_{k}^{\\mathrm{T}} B_{k} \\delta_{k}} \\tag{B.30}\n",
    "$$"
   ]
  },
  {
   "cell_type": "markdown",
   "metadata": {},
   "source": [
    "### BFGS算法"
   ]
  },
  {
   "cell_type": "markdown",
   "metadata": {},
   "source": [
    "输入: 目标函数$f(x)$，梯度$g(x)=\\nabla f(x)$，精度$\\epsilon$;  \n",
    " \n",
    " \n",
    "输出: $f(x)$的极小点$x^{*}$  \n",
    "    \n",
    "    \n",
    "（1）选取初始点$x^{(0)}$，取$B_{0}$为正定对称矩阵，置$k=0$.  \n",
    "  \n",
    "   \n",
    "（2）计算$g_{k}$，若$\\|g_{k}\\|< \\epsilon$，则停止计算，得近似解$x^{*}=x^{(k)}$；否则转(3).  \n",
    "\n",
    "\n",
    "（3）由$B_{k}p_{k}=-g_{k}$求出置$p_{k}$  \n",
    "  \n",
    "  \n",
    "（4）一位搜索:求$\\lambda_{k}$使得  \n",
    "$$\n",
    "f\\left( x^{(k)} + \\lambda_{k}p_{k} \\right) = \\min_{\\lambda \\geq 0}f\\left( x^{(k)} + \\lambda p_{k} \\right)\n",
    "$$\n",
    "\n",
    "\n",
    "（5）置$x^{(k+1)} = x^{(k)} + \\lambda_{k}p_{k}$   \n",
    "\n",
    "\n",
    "（6）计算$g_{k+1}$，若$\\|g_{k+1}\\|< \\epsilon$，则停止计算，得近似解$x^{*}=x^{(k+1)}$；否则,按式（B.30）计算$B_{k+1}$.  \n",
    "\n",
    "\n",
    "（7）置$k=k+1$，转（3）"
   ]
  },
  {
   "cell_type": "markdown",
   "metadata": {},
   "source": [
    "## 2.4 Broyden类算法"
   ]
  },
  {
   "cell_type": "markdown",
   "metadata": {},
   "source": [
    " BFGS算法是用$B_{k}$逼近海塞矩阵$H$。若记$G_{k}=B_{k}^{-1}，G_{k+1}=B_{k+1}^{-1}$，对（B.30）两次应用Sherman-Morrison公式得  \n",
    " $$\n",
    " G_{k+1}=\\left(I-\\frac{\\delta_{k} y_{k}^{\\mathrm{T}}}{\\delta_{k}^{\\mathrm{T}} y_{k}}\\right) G_{k}\\left(I-\\frac{\\delta_{k} y_{k}^{\\mathrm{T}}}{\\delta_{k}^{\\mathrm{T}} y_{k}}\\right)^{\\mathrm{T}}+\\frac{\\delta_{k} \\delta_{k}^{\\mathrm{T}}}{\\delta_{k}^{\\mathrm{T}} y_{k}} \\tag{B.31}\n",
    " $$"
   ]
  },
  {
   "cell_type": "markdown",
   "metadata": {},
   "source": [
    "称为BFGS关于$G_{k}$的迭代公式。"
   ]
  },
  {
   "cell_type": "markdown",
   "metadata": {},
   "source": [
    "由DFP迭代公式得到的$G_{k+1}$记为$G^{DFP}$，由BFGS迭代公式得到的$G_{k+1}$记为$G^{BFGS}$，它们的线性组合也满足拟牛顿条件  \n",
    "$$\n",
    "G_{k+1} = \\alpha G^{DFP} + (1 - \\alpha)G^{BFGS},\\quad 0 \\leq \\alpha \\leq 1 \\tag{B.32}\n",
    "$$"
   ]
  },
  {
   "cell_type": "markdown",
   "metadata": {},
   "source": [
    "这样得到一类拟牛顿法，称为Broyden类算法。"
   ]
  },
  {
   "cell_type": "code",
   "execution_count": null,
   "metadata": {},
   "outputs": [],
   "source": []
  }
 ],
 "metadata": {
  "kernelspec": {
   "display_name": "Python [conda env:root] *",
   "language": "python",
   "name": "conda-root-py"
  },
  "language_info": {
   "codemirror_mode": {
    "name": "ipython",
    "version": 3
   },
   "file_extension": ".py",
   "mimetype": "text/x-python",
   "name": "python",
   "nbconvert_exporter": "python",
   "pygments_lexer": "ipython3",
   "version": "3.7.1"
  }
 },
 "nbformat": 4,
 "nbformat_minor": 2
}

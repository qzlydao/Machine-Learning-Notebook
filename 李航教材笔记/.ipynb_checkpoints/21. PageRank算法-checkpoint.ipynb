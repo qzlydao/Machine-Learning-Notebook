{
 "cells": [
  {
   "cell_type": "markdown",
   "metadata": {},
   "source": [
    "# 第21章 PageRank算法"
   ]
  },
  {
   "cell_type": "markdown",
   "metadata": {},
   "source": [
    "**PageRank算法的基本想法：**  \n",
    "\n",
    "在有向图上定义一个随机游走模型，即一阶马尔科夫链，描述随机游走者沿着有向图随机访问各个结点的行为。\n",
    "\n",
    "在一定条件下，极限情况访问每个结点的概率收敛到平稳分布，这时各个结点的平稳分布概率值就是其PageRank值，表示结点的重要度。"
   ]
  },
  {
   "cell_type": "markdown",
   "metadata": {},
   "source": [
    "## 21.1 PageRank的定义"
   ]
  },
  {
   "cell_type": "markdown",
   "metadata": {},
   "source": [
    "### 21.1.1 基本想法"
   ]
  },
  {
   "cell_type": "markdown",
   "metadata": {},
   "source": [
    "假设浏览者在每个网页依照连接出去的超链接以等概率跳转到下一个网页，并在网上持续不断进行这样的随机跳转，这个过程形成一阶马尔科夫链。  \n",
    "\n",
    "PageRank表示这个马尔科夫链的平稳分布。每个网页的PageRank值就是平稳概率。"
   ]
  },
  {
   "cell_type": "markdown",
   "metadata": {},
   "source": [
    "<img src='21.1_有向图.png' style='zoom:50%'/>  \n",
    "\n",
    "$A,B,C,D$表示网页，借点之间的有向边表示网页之间的超链接，边上的权值表示网页之间随机跳转的概率。\n",
    "\n",
    "直观上: \n",
    "1. 如果指向该网页的超链接越多，随机跳转到该网页的概率也就越高，该网页的PageRank值也就越重要；\n",
    "2. 如果指向该网页的PageRank值越高，则该网页的PageRank值也就越高。"
   ]
  },
  {
   "cell_type": "markdown",
   "metadata": {},
   "source": [
    "### 21.1.2 有向图和随机游走模型"
   ]
  },
  {
   "cell_type": "markdown",
   "metadata": {},
   "source": [
    "#### 1. 有向图"
   ]
  },
  {
   "cell_type": "markdown",
   "metadata": {},
   "source": [
    "1. 从一个结点出发到达另一个结点，所经过的边的一个序列称为一条路径（path），路径上边的个数称为路径的长度。  \n",
    "\n",
    "\n",
    "2. 从有向图任意一个结点出发可以到达任何其他结点，称这个有向图是<font color=blue>强连通图（strongly connected graph）</font>；\n",
    "\n",
    "\n",
    "3. 假设$~k>1~$，如果从有向图的一个结点出发返回到这个结点的路径的长度都是$~k~$的倍数，那么称这个结点为<font color=blue>周期性的结点</font>。\n",
    "\n",
    "\n",
    "4. 如果一个有向图不含有周期性结点，则称这个有向图为<font color=blue>非周期性图（aperiodic graph）</font>，否则为周期性图。\n",
    "\n",
    "<img src='21.1_周期性有向图.png' style='zoom:50%'/>  "
   ]
  },
  {
   "cell_type": "markdown",
   "metadata": {},
   "source": [
    "#### 2. 随机游走模型"
   ]
  },
  {
   "cell_type": "markdown",
   "metadata": {},
   "source": [
    "给定一个含有$~n~$个结点的有向图，在有向图上定义随机游走（random walk）模型，即一阶马尔科夫链，其中结点表示状态，有向边表示状态之间的转移，<font color=blue>假设从一个结点到通过有向边相连的所有节点的转移概率相等。</font>可以定义转移概率矩阵是一个$~n~$阶矩阵$~M~$\n",
    "\n",
    "$$\n",
    "M = [m_{ij}]_{n\\times n}, \\quad m_{ij} = \\frac{1}{k}\n",
    "$$\n",
    "\n",
    "<img src='21.1_转移矩阵.jpg' style='zoom:40%'/>  "
   ]
  },
  {
   "cell_type": "markdown",
   "metadata": {},
   "source": [
    "$$\n",
    "m_{ij} \\geq 0 \\\\\n",
    "\\sum_{i}^{n}m_{ij} = 1\n",
    "$$"
   ]
  },
  {
   "cell_type": "markdown",
   "metadata": {},
   "source": [
    "随机游走在某个时刻$~t~$访问各个结点的概率分布就是马尔科夫链在时刻$~t~$的状态分布，用$~n~$维列向量$~R_{t}~$表示，则$~t+1~$时刻访问各个结点的概率分布$~R_{t+1}$满足  \n",
    "\n",
    "$$\n",
    "R_{t+1} = MR_{t} \\tag{21.4}\n",
    "$$"
   ]
  },
  {
   "cell_type": "markdown",
   "metadata": {},
   "source": [
    "### 21.1.3 PageRank的基本定义"
   ]
  },
  {
   "cell_type": "markdown",
   "metadata": {},
   "source": [
    "#### 定义21.3  \n",
    "给定一个包含$~n~$个结点$v_{1}, v_{2}, \\cdots, v_{n}$的<font color=blue>强联通且非周期性的</font>有向图，在有向图上定义随机游走模型，即<font color=blue>一阶马尔科夫链</font>。随机游走的特点是<font color=blue>从一个结点到有有向边连出的所有结点的概率相等</font>，转移矩阵为$~M~$。这个马尔科夫链具有<font color=blue>平稳分布$R$</font>  \n",
    "\n",
    "$$\n",
    "MR=R \\tag{21.6}\n",
    "$$\n",
    "\n",
    "$R$称为这个有向图的PageRank。$R$的各个分量称为各个结点的PageRank值。  \n",
    "\n",
    "$$\n",
    "R=\\left[\\begin{array}{c}\n",
    "P R\\left(v_{1}\\right) \\\\\n",
    "P R\\left(v_{2}\\right) \\\\\n",
    "\\vdots \\\\\n",
    "P R\\left(v_{n}\\right)\n",
    "\\end{array}\\right]\n",
    "$$"
   ]
  },
  {
   "cell_type": "markdown",
   "metadata": {},
   "source": [
    "其中$PR(v_{i})$表示结点$v_{i}$的PageRank值。显然有  \n",
    "\n",
    "$$\n",
    "\\begin{eqnarray}\n",
    "PR(v_{i}) &\\geq& 0, \\quad  i = 1,2,\\cdots,n \\tag{21.7}  \\\\\n",
    "\\sum_{i=1}^{n}PR(v_{i}) &=& 1 \\tag{21.8}\\\\\n",
    "P R\\left(v_{i}\\right) &=& \\sum_{v_{j} \\in M\\left(v_{i}\\right)} \\frac{P R\\left(v_{j}\\right)}{L\\left(v_{j}\\right)}, \\quad i=1,2, \\cdots, n \\tag{21.9}\n",
    "\\end{eqnarray}\n",
    "$$\n",
    "\n",
    "$M_{v_{i}}$表示指向结点$v_{i}$的结点集合，$L(v_{j})$表示结点$~v_{j}~$连出的有向边的个数。"
   ]
  },
  {
   "cell_type": "markdown",
   "metadata": {},
   "source": [
    "#### 定理21.1 \n",
    "\n",
    "<font color=blue>不可约且非周期的有限状态</font>马尔科夫链，有唯一平稳分布存在且当时间趋于无穷时状态分布收敛于唯一的平稳分布。"
   ]
  },
  {
   "cell_type": "markdown",
   "metadata": {},
   "source": [
    "#### Dead Ends问题"
   ]
  },
  {
   "cell_type": "markdown",
   "metadata": {},
   "source": [
    "<img src='21.1_Dead_Ends.png' style='zoom:50%'/>"
   ]
  },
  {
   "cell_type": "markdown",
   "metadata": {},
   "source": [
    "转移矩阵$M$为 \n",
    "\n",
    "$$\n",
    "M=\\left[\\begin{array}{cccc}\n",
    "0 & 1 / 2 & \\color{red}{0} & 0 \\\\\n",
    "1 / 3 & 0 & \\color{red}{0} & 1 / 2 \\\\\n",
    "1 / 3 & 0 & \\color{red}{0} & 1 / 2 \\\\\n",
    "1 / 3 & 1 / 2 & \\color{red}{0} & 0\n",
    "\\end{array}\\right]\n",
    "$$\n",
    "\n",
    "但$~M~$不是一个随机矩阵。如果计算在各个时刻的各结点的概率分布，会得到如下结果  \n",
    "\n",
    "$$\n",
    "\\left[\\begin{array}{c}\n",
    "1 / 4 \\\\\n",
    "1 / 4 \\\\\n",
    "1 / 4 \\\\\n",
    "1 / 4\n",
    "\\end{array}\\right],\\left[\\begin{array}{l}\n",
    "3 / 24 \\\\\n",
    "5 / 24 \\\\\n",
    "5 / 24 \\\\\n",
    "5 / 24\n",
    "\\end{array}\\right], \\quad\\left[\\begin{array}{l}\n",
    "5 / 48 \\\\\n",
    "7 / 48 \\\\\n",
    "7 / 48 \\\\\n",
    "7 / 48\n",
    "\\end{array}\\right], \\quad\\left[\\begin{array}{l}\n",
    "21 / 288 \\\\\n",
    "31 / 288 \\\\\n",
    "31 / 288 \\\\\n",
    "31 / 288\n",
    "\\end{array}\\right], \\cdots, \\quad\\left[\\begin{array}{l}\n",
    "0 \\\\\n",
    "0 \\\\\n",
    "0 \\\\\n",
    "0\n",
    "\\end{array}\\right]\n",
    "$$"
   ]
  },
  {
   "cell_type": "markdown",
   "metadata": {},
   "source": [
    "### 21.1.4 PageRank的一般定义"
   ]
  },
  {
   "cell_type": "markdown",
   "metadata": {},
   "source": [
    "一般随机游走模型的转移矩阵由两部分的线性组合组成: \n",
    "\n",
    "- 一部分是有向图的基本转移矩阵$M$  \n",
    "- 另一部分是完全随机的转移矩阵，每一个元素都是$~1/n$\n",
    "\n",
    "线性组合系数为<font color=blue>阻尼因子$~d(0 \\leq d \\leq 1)$</font>。这个一般随机游走的马尔科夫链存在平稳分布，记作$R$\n",
    "\n",
    "$$\n",
    "R = dMR+\\frac{1-d}{n}\\mathbf{1} \\tag{21.14}\n",
    "$$\n",
    "\n",
    "每个结点的PageRank定义为  \n",
    "\n",
    "$$\n",
    "P R\\left(v_{i}\\right) = d \\left( \\sum_{v_{j} \\in M\\left(v_{i}\\right)} \\frac{P R\\left(v_{j}\\right)}{L\\left(v_{j}\\right)} \\right)+\\frac{1-d}{n}, \\quad i=1,2, \\cdots, n\n",
    "$$\n",
    "\n",
    "$$\n",
    "PR(v_{i} \\color{red}{>}0  ) \\\\\n",
    "\\sum_{i=1}^{n}PR(v_{i})=1\n",
    "$$"
   ]
  },
  {
   "cell_type": "markdown",
   "metadata": {},
   "source": [
    "## 21.2 PageRank的计算"
   ]
  },
  {
   "cell_type": "markdown",
   "metadata": {},
   "source": [
    "### 21.2.1 迭代算法"
   ]
  },
  {
   "cell_type": "markdown",
   "metadata": {},
   "source": [
    "输入: 含有$~n~$个结点的有向图，转移矩阵$~M~$，阻尼因子$~d~$，初始向量$R_{0}$；  \n",
    "\n",
    "输出: 有向图的PageRank向量$R$\n",
    "\n",
    "（1）令$t=0$  \n",
    "\n",
    "（2）计算\n",
    "\n",
    "$$\n",
    "R_{t+1} = dMR_{t} + \\frac{1-d}{n}\\mathbf{1}\n",
    "$$\n",
    "\n",
    "（3）如果$~R_{t+1}~$与$~R_{t}~$充分接近，令$~R=R_{t+1}~$，停止迭代。\n",
    "\n",
    "（4）否则，令$~t=t+1~$，执行步骤（2）"
   ]
  },
  {
   "cell_type": "markdown",
   "metadata": {},
   "source": [
    "### 21.2.2 幂法"
   ]
  },
  {
   "cell_type": "markdown",
   "metadata": {},
   "source": [
    "幂法（power method）是一种常用的PageRank计算方法，通过近似计算矩阵的<font color=blue>主特征值</font>和<font color=blue>主特征向量</font>求得有向图的一般PageRank。\n",
    "\n",
    "一般PageRank，转移矩阵可以写作  \n",
    "\n",
    "$$\n",
    "R = \\left( dM + \\frac{1-d}{n}\\mathbf{E} \\right)R = AR \\tag{21.22}\n",
    "$$\n",
    "\n",
    "其中，$~d~$是阻尼因子，$\\mathbf{E}$是所有元素为1的$n$阶方阵。根据Perron-Forbenius定理，一般PageRank的向量$~R~$是矩阵$~A~$的主特征向量，主特征值是1."
   ]
  },
  {
   "cell_type": "markdown",
   "metadata": {},
   "source": [
    "#### 算法21.2（计算一般PageRank的幂法）"
   ]
  },
  {
   "cell_type": "markdown",
   "metadata": {},
   "source": [
    "输入: 含有$~n~$个结点的有向图，转移矩阵$~M~$，阻尼因子$~d~$，初始向量$x_{0}$，计算精度$\\varepsilon$；  \n",
    "\n",
    "输出: 有向图的PageRank向量$R$  \n",
    "\n",
    "（1）令$t=0$，选择初始向量$x_{0}$\n",
    "\n",
    "（2）计算有向图的一般转移矩阵$A$  \n",
    "\n",
    "$$\n",
    "dM + \\frac{1-d}{n}\\mathbf{E}\n",
    "$$\n",
    "\n",
    "（3）迭代并规范化结果向量  \n",
    "\n",
    "$$\n",
    "\\begin{eqnarray}\n",
    "y_{t+1} &=& Ax_{t} \\\\\n",
    "x_{t+1} &=& \\frac{y_{t+1}}{\\| y_{t+1} \\|}\n",
    "\\end{eqnarray}\n",
    "$$\n",
    "\n",
    "（4）当$\\| x_{t+1} - x_{t} \\| < \\varepsilon~$时，令$~R = x_{t}~$，停止迭代。\n",
    "\n",
    "（5）否则，令$t=t+1$，执行步骤（3）\n",
    "\n",
    "（6）对$R$进行规范化处理，使其表示概率分布。"
   ]
  },
  {
   "cell_type": "markdown",
   "metadata": {},
   "source": [
    "### 21.2.3 代数算法"
   ]
  },
  {
   "cell_type": "markdown",
   "metadata": {},
   "source": [
    "一般PageRank的定义式\n",
    "\n",
    "$$\n",
    "R = dMR+\\frac{1-d}{n}\\mathbf{1} \n",
    "$$\n",
    "\n",
    "于是，\n",
    "\n",
    "$$\n",
    "(I-d M) R=\\frac{1-d}{n} \\mathbf{1} \\\\\n",
    "R=(I-d M)^{-1} \\frac{1-d}{n} \\mathbf{1}\n",
    "$$\n",
    "\n",
    "这里，$I~$是单位矩阵。当$~0 < d < 1$时，线性方程组的解存在且唯一。"
   ]
  },
  {
   "cell_type": "code",
   "execution_count": null,
   "metadata": {},
   "outputs": [],
   "source": []
  }
 ],
 "metadata": {
  "kernelspec": {
   "display_name": "Python [conda env:root] *",
   "language": "python",
   "name": "conda-root-py"
  },
  "language_info": {
   "codemirror_mode": {
    "name": "ipython",
    "version": 3
   },
   "file_extension": ".py",
   "mimetype": "text/x-python",
   "name": "python",
   "nbconvert_exporter": "python",
   "pygments_lexer": "ipython3",
   "version": "3.7.1"
  }
 },
 "nbformat": 4,
 "nbformat_minor": 2
}

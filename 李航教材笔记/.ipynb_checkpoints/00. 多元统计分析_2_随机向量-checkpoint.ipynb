{
 "cells": [
  {
   "cell_type": "markdown",
   "metadata": {},
   "source": [
    "# 2. 随机向量"
   ]
  },
  {
   "cell_type": "markdown",
   "metadata": {},
   "source": [
    "## 2.1 多元分布"
   ]
  },
  {
   "cell_type": "markdown",
   "metadata": {},
   "source": [
    "1. <font color=red>随机向量: </font>一个向量，若它的分量都是随机变量，则称为随机向量。  \n",
    "\n",
    "\n",
    "2. 分布函数  \n",
    "随机向量$\\pmb{x}=\\left(x_{1}, x_{2}, \\cdots, x_{p}\\right)^{\\prime}$的分布函数:  \n",
    "\n",
    "$$\n",
    "F\\left(a_{1}, a_{2}, \\cdots, a_{p}\\right)=P\\left(x_{1} \\leq a_{1}, x_{2} \\leq a_{2}, \\cdots, x_{p} \\leq a_{p}\\right)\n",
    "$$  \n",
    "\n",
    "\n",
    "3. p.d.f  \n",
    "    - 一元: \n",
    "    $$\n",
    "    F(a)=\\int_{-\\infty}^{a} f(x) \\mathrm{d} x, \\quad f(x)=\\frac{\\mathrm{d} F(x)}{\\mathrm{d} x}\n",
    "    $$\n",
    "    - 多元: \n",
    "    $$\n",
    "    F\\left(a_{1}, \\cdots, a_{p}\\right)=\\int_{-\\infty}^{a_{1}} \\cdots \\int_{-\\infty}^{a_{p}} f\\left(x_{1}, \\cdots, x_{p}\\right) \\mathrm{d} x_{1} \\cdots \\mathrm{d} x_{p}\n",
    "    $$"
   ]
  },
  {
   "cell_type": "markdown",
   "metadata": {},
   "source": [
    "## 2.2 数字特征"
   ]
  },
  {
   "cell_type": "markdown",
   "metadata": {},
   "source": [
    "### 2.2.1 数学期望"
   ]
  },
  {
   "cell_type": "markdown",
   "metadata": {},
   "source": [
    "1. 随机向量$\\pmb{x}=\\left(x_{1}, x_{2}, \\cdots, x_{p}\\right)^{\\prime}$的<font color=red>数学期望</font>:  \n",
    "\n",
    "$$\n",
    "E(\\pmb{x})=\\left[E\\left(x_{1}\\right), E\\left(x_{2}\\right), \\cdots, E\\left(x_{p}\\right)\\right]^{\\prime}\n",
    "$$  \n",
    "\n",
    "2. 随机矩阵$X=(x_{ij})$的<font color=red>数学期望</font>:   \n",
    "\n",
    "$$\n",
    "E ( X ) = \\left( E \\left( x _ { i j } \\right) \\right) = \\left( \\begin{array} { c c c c } E \\left( x _ { 11 } \\right) & E \\left( x _ { 12 } \\right) & \\cdots & E \\left( x _ { 1 q } \\right) \\\\ E \\left( x _ { 21 } \\right) & E \\left( x _ { 22 } \\right) & \\cdots & E \\left( x _ { 2 q } \\right) \\\\ \\vdots & \\vdots & & \\vdots \\\\ E \\left( x _ { p 1 } \\right) & E \\left( x _ { p 2 } \\right) & \\cdots & E \\left( x _ { p q } \\right) \\end{array} \\right) \n",
    "$$  \n",
    "\n",
    "3. 随机矩阵$X=(x_{ij})$数学期望的性质  \n",
    "    - $a$为常数，$E(aX)=aE(X)$  \n",
    "    \n",
    "    - $A,B,C$为常数矩阵，$E(AXB+C)=AE(X)B+C$  \n",
    "    \n",
    "    - 设$X_{1},X_{2},\\cdots, X_{n}$为$n$个不同的，同阶随机矩阵  \n",
    "    \n",
    "    $$\n",
    "E\\left(\\boldsymbol{X}_{1}+\\boldsymbol{X}_{2}+\\cdots+\\boldsymbol{X}_{n}\\right)=E\\left(\\boldsymbol{X}_{1}\\right)+E\\left(\\boldsymbol{X}_{2}\\right)+\\cdots+E\\left(\\boldsymbol{X}_{n}\\right)\n",
    " $$"
   ]
  },
  {
   "cell_type": "markdown",
   "metadata": {},
   "source": [
    "### 2.2.2 协方差矩阵"
   ]
  },
  {
   "cell_type": "markdown",
   "metadata": {},
   "source": [
    "#### 1. <font color=red>协方差</font>  "
   ]
  },
  {
   "cell_type": "markdown",
   "metadata": {},
   "source": [
    "$$\\operatorname{Cov}(x, y)=E[x-E(x)][y-E(y)]$$  \n",
    "\n",
    "若$\\operatorname{Cov}(x, y)=0$，则称$x$和$y$不相关  \n",
    "\n",
    "当$x=y$时，协方差即为<font color=red>方差</font>  \n",
    "\n",
    "$$\\operatorname{Cov}(x, x)=Var(x)=V(x)$$"
   ]
  },
  {
   "cell_type": "markdown",
   "metadata": {},
   "source": [
    "#### 2. <font color=red>协方差矩阵</font>  "
   ]
  },
  {
   "cell_type": "markdown",
   "metadata": {},
   "source": [
    "$\\pmb{x}=\\left(x_{1}, x_{2}, \\cdots, x_{p}\\right)^{\\prime}$和$\\pmb{y}=\\left(y_{1}, y_{2}, \\cdots, y_{q}\\right)^{\\prime}$的协方差矩阵为  \n",
    "\n",
    "$$\n",
    "\\begin{eqnarray}\n",
    "\\operatorname { Cov } ( \\pmb { x } , \\pmb { y } ) &=& \\left( \\begin{array} { c c c c } \\operatorname { Cov } \\left( x _ { 1 } , y _ { 1 } \\right) & \\operatorname { Cov } \\left( x _ { 1 } , y _ { 2 } \\right) & \\cdots & \\operatorname { Cov } \\left( x _ { 1 } , y _ { q } \\right) \\\\ \\operatorname { Cov } \\left( x _ { 2 } , y _ { 1 } \\right) & \\operatorname { Cov } \\left( x _ { 2 } , y _ { 2 } \\right) & \\cdots & \\operatorname { Cov } \\left( x _ { 2 } , y _ { q } \\right) \\\\ \\vdots & \\vdots & & \\vdots \\\\ \\operatorname { Cov } \\left( x _ { p } , y _ { 1 } \\right) & \\operatorname { Cov } \\left( x _ { p } , y _ { 2 } \\right) & \\cdots & \\operatorname { Cov } \\left( x _ { p } , y _ { q } \\right) \\end{array} \\right) _{p\\times q} \\\\\n",
    "&=& \\left( \\begin{array} { c c c } E \\left[ x _ { 1 } - E \\left( x _ { 1 } \\right) \\right] \\left[ y _ { 1 } - E \\left( y _ { 1 } \\right) \\right] & \\cdots & E \\left[ x _ { 1 } - E \\left( x _ { 1 } \\right) \\right] \\left[ y _ { q } - E \\left( y _ { q } \\right) \\right] \\\\ \\vdots & & \\vdots \\\\ E \\left[ x _ { p } - E \\left( x _ { p } \\right) \\right] \\left[ y _ { 1 } - E \\left( y _ { 1 } \\right) \\right] & \\cdots & E \\left[ x _ { p } - E \\left( x _ { p } \\right) \\right] \\left[ y _ { q } - E \\left( y _ { q } \\right) \\right] \\end{array} \\right. \n",
    " \\\\\n",
    "&=& E \\left( \\begin{array} { c } x _ { 1 } - E \\left( x _ { 1 } \\right) \\\\ \\vdots \\\\ x _ { p } - E \\left( x _ { p } \\right) \\end{array} \\right) \\left( y _ { 1 } - E \\left( y _ { 1 } \\right) , \\cdots , y _ { q } - E \\left( y _ { q } \\right) \\right) \\\\ \n",
    "&=& \\color{red}{E [ \\pmb { x } - E ( \\pmb { x } ) ] [ \\pmb { y } - E ( \\pmb { y } ) ] ^ { \\prime } }\n",
    "\\end{eqnarray}\n",
    "$$\n",
    "\n",
    "$\\operatorname { Cov } ( \\pmb { x } , \\pmb { y } ) = \\operatorname { Cov } ( \\pmb { y } , \\pmb { x } )^{\\prime}$  \n",
    "\n",
    "若$\\operatorname { Cov } ( \\pmb { x } , \\pmb { y } ) =0$，则称$\\pmb { x } , \\pmb { y }$<font color=red>不相关</font>   \n",
    "\n",
    "$$\n",
    "\\begin{eqnarray}\n",
    "V(\\pmb { x }) &=& \\operatorname{Cov}(\\pmb { x }, \\pmb { x })=E[\\pmb { x }-E(\\pmb { x })][\\pmb { x }-E(\\pmb { x })]^{\\prime} \\\\\n",
    "&=& \\left( \\begin{array} { c c c c } V \\left( x _ { 1 } \\right) & \\operatorname { Cov } \\left( x _ { 1 } , x _ { 2 } \\right) & \\cdots & \\operatorname { Cov } \\left( x _ { 1 } , x _ { p } \\right) \\\\ \\operatorname { Cov } \\left( x _ { 2 } , x _ { 1 } \\right) & V \\left( x _ { 2 } \\right) & \\cdots & \\operatorname { Cov } \\left( x _ { 2 } , x _ { p } \\right) \\\\ \\vdots & \\vdots & & \\vdots \\\\ \\operatorname { Cov } \\left( x _ { p } , x _ { 1 } \\right) & \\operatorname { Cov } \\left( x _ { p } , x _ { 2 } \\right) & \\cdots & V \\left( x _ { p } \\right) \\end{array} \\right) \n",
    "\\end{eqnarray}\n",
    "$$"
   ]
  },
  {
   "cell_type": "markdown",
   "metadata": {},
   "source": [
    "$V(\\pmb{x})$亦记作 <font color=red>$\\Sigma = (\\sigma_{ij}) \\quad \\sigma_{ij}=\\text{Cov}(x_{i},x_{j}) \\quad \\sigma_{ii} = \\sigma_{i}^{2} = V(x_{i})$</font>  \n",
    "\n",
    "协差阵$\\Sigma$既包含了$\\pmb{x}$各分量的方差，也包含了没两个分量之间的协方差，显然<font color=red>$\\Sigma$是一个对称矩阵</font>。"
   ]
  },
  {
   "cell_type": "markdown",
   "metadata": {},
   "source": [
    "#### 4. 协方差的性质"
   ]
  },
  {
   "cell_type": "markdown",
   "metadata": {},
   "source": [
    "1. $\\Sigma \\geq 0$(非负定)  \n",
    "\n",
    "\n",
    "2. 设$A$为常数矩阵，$\\pmb{b}$为常数向量，则  \n",
    "$$\n",
    "V(A x+b)=A V(x) A^{\\prime}\n",
    "$$\n",
    "当$p=1$时，退化为  \n",
    "\n",
    "$$V(a x+b)=a^{2} V(x)$$  \n",
    "\n",
    "\n",
    "3. 设$A,B$为常数矩阵，则  \n",
    "$$\\operatorname{Cov}(A x, B y)=A \\operatorname{Cov}(x, y) B^{\\prime}$$  \n",
    "\n",
    "4. 设$A_{1},A_{2},\\cdots,A_{n}$和$B_{1},B_{2},\\cdots,B_{n}$为常数矩阵，则    \n",
    "$$\n",
    "\\operatorname{Cov}\\left(\\sum_{i=1}^{n} A_{i} x_{i}, \\sum_{j=1}^{m} \\pmb{B}_{j} \\pmb{y}_{j}\\right)=\\sum_{i=1}^{n} \\sum_{j=1}^{m} \\pmb{A}_{i} \\operatorname{Cov}\\left(\\pmb{x}_{i}, \\pmb{y}_{j}\\right) \\pmb{B}_{j}^{\\prime}\n",
    "$$  \n",
    "\n",
    "\n",
    "5. 设$k_{1},k_{2},\\cdots,k_{n}$是$n$个常数，$\\pmb{x}_{1}, \\pmb{x}_{2}, \\cdots, \\pmb{x}_{n}$是$n$个相互独立的$p$维随机变量，则  \n",
    "\n",
    "$$\n",
    "V\\left(\\sum_{i=1}^{n} k_{i} \\pmb{x}_{i}\\right)=\\sum_{i=1}^{n} k_{i}^{2} V\\left(\\pmb{x}_{i}\\right)\n",
    "$$"
   ]
  },
  {
   "cell_type": "markdown",
   "metadata": {},
   "source": [
    "### 2.2.3 相关矩阵"
   ]
  },
  {
   "cell_type": "markdown",
   "metadata": {},
   "source": [
    "1. 随机变量$x$和$y$的<font color=red>相关系数</font>  \n",
    "\n",
    "$$\n",
    "\\rho = \\rho(x,y) = \\frac{\\operatorname{Cov}(x,y)}{\\sqrt{V(x)V(y)}}\n",
    "$$"
   ]
  },
  {
   "cell_type": "markdown",
   "metadata": {},
   "source": [
    "2. $\\pmb{x}=\\left(x_{1}, x_{2}, \\cdots, x_{p}\\right)^{\\prime}$和$\\pmb{y}=\\left(y_{1}, y_{2}, \\cdots, y_{q}\\right)^{\\prime}$的<font color=red>相关阵</font>定义为  \n",
    "\n",
    "$$\n",
    "\\rho ( \\pmb { x } , \\pmb { y } ) = \\left( \\begin{array} { c c c c } \\rho \\left( x _ { 1 } , y _ { 1 } \\right) & \\rho \\left( x _ { 1 } , y _ { 2 } \\right) & \\cdots & \\rho \\left( x _ { 1 } , y _ { q } \\right) \\\\ \\rho \\left( x _ { 2 } , y _ { 1 } \\right) & \\rho \\left( x _ { 2 } , y _ { 2 } \\right) & \\cdots & \\rho \\left( x _ { 2 } , y _ { q } \\right) \\\\ \\vdots & \\vdots & & \\vdots \\\\ \\rho \\left( x _ { p } , y _ { 1 } \\right) & \\rho \\left( x _ { p } , y _ { 2 } \\right) & \\cdots & \\rho \\left( x _ { p } , y _ { q } \\right) \\end{array} \\right) _{p\\times q}\n",
    "$$"
   ]
  },
  {
   "cell_type": "markdown",
   "metadata": {},
   "source": [
    "3. 若$\\rho(\\pmb{x}, \\pmb{y})=0$，则$\\pmb{x}, \\pmb{y}$不相关。"
   ]
  },
  {
   "cell_type": "markdown",
   "metadata": {},
   "source": [
    "4. 当$\\pmb{x} = \\pmb{y}$时，记作$\\mathbf{R}=(\\rho_{ij})$ \n",
    "\n",
    "$$\n",
    "R = \\left( \\begin{array} { c c c c } \\color{red}{1} & \\rho _ { 12 } & \\cdots & \\rho _ { 1 p } \\\\ \\rho _ { 21 } & \\color{red}{1} & \\cdots & \\rho _ { 2 p } \\\\ \\vdots & \\vdots & & \\vdots \\\\ \\rho _ { p 1 } & \\rho _ { p 2 } & \\cdots & \\color{red}{1} \\end{array} \\right) \n",
    "$$"
   ]
  },
  {
   "cell_type": "markdown",
   "metadata": {},
   "source": [
    "5. $\\pmb{R}(\\rho_{ij})$和$\\Sigma=(\\sigma_{ij})$之间的关系式:  \n",
    "$$\n",
    "\\color{red}{R = D^{-1}\\Sigma D^{-1}}\n",
    "$$\n",
    "其中$D = \\operatorname{diag}\\left(\\sqrt{\\sigma_{11}}, \\sqrt{\\sigma_{22}}, \\cdots, \\sqrt{\\sigma_{p p}}\\right)$  \n",
    "$\\pmb{R}$和$\\Sigma$元素之间的关系  \n",
    "\n",
    "$$\\rho_{i j}=\\frac{\\sigma_{i j}}{\\sqrt{\\sigma_{i i}} \\sqrt{\\sigma_{j j}}}$$"
   ]
  },
  {
   "cell_type": "markdown",
   "metadata": {},
   "source": [
    "### 2.2.4 标准化变换"
   ]
  },
  {
   "cell_type": "markdown",
   "metadata": {},
   "source": [
    "最常用的标准化变换 \n",
    "\n",
    "$$x_{i}^{*}=\\frac{x_{i}-\\mu_{i}}{\\sqrt{\\sigma_{i i}}}, \\quad i=1,2, \\cdots, p$$"
   ]
  },
  {
   "cell_type": "code",
   "execution_count": null,
   "metadata": {},
   "outputs": [],
   "source": []
  }
 ],
 "metadata": {
  "kernelspec": {
   "display_name": "Python [conda env:root] *",
   "language": "python",
   "name": "conda-root-py"
  },
  "language_info": {
   "codemirror_mode": {
    "name": "ipython",
    "version": 3
   },
   "file_extension": ".py",
   "mimetype": "text/x-python",
   "name": "python",
   "nbconvert_exporter": "python",
   "pygments_lexer": "ipython3",
   "version": "3.7.1"
  }
 },
 "nbformat": 4,
 "nbformat_minor": 2
}

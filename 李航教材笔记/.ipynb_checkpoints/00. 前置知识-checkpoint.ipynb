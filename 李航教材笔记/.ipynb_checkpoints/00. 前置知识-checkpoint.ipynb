{
 "cells": [
  {
   "cell_type": "markdown",
   "metadata": {},
   "source": [
    "# 1. Jensen不等式"
   ]
  },
  {
   "cell_type": "markdown",
   "metadata": {},
   "source": [
    "### 凸函数"
   ]
  },
  {
   "cell_type": "markdown",
   "metadata": {},
   "source": [
    "凸函数是一个定义在某个向量空间的凸子集$C$（区间）上的实值函数$f$，如果在其定义域$C$上的任意两点$x_{1},x_{2}$，$0\\leq t \\leq 1$，有  \n",
    "\n",
    "$$\n",
    "tf(x_{1}) + (1-t)f(x_{2}) \\geq f\\left( tx_{1}+(1-t)x_{2} \\right)\n",
    "$$ \n",
    "\n",
    "也就是说凸函数任意两点的割线位于函数图形的上方。"
   ]
  },
  {
   "cell_type": "markdown",
   "metadata": {},
   "source": [
    "### Jensen不等式"
   ]
  },
  {
   "cell_type": "markdown",
   "metadata": {},
   "source": [
    "若$f(x)$是区间$[a,b]$上的下凸函数，则对任意的$x_{1},x_{2}, \\cdots, x_{n} \\in [a,b]$，且$\\sum_{i}^{n}\\lambda_{i}=1$，$\\lambda_{i} \\geq 0$，如下不等式成立: "
   ]
  },
  {
   "cell_type": "markdown",
   "metadata": {},
   "source": [
    "$$\n",
    "f\\left( \\sum_{i=1}^{n}\\lambda_{i}x_{i} \\right) \\leq \\sum_{i=1}^{n}\\lambda_{i}f(x_{i})\n",
    "$$"
   ]
  },
  {
   "cell_type": "markdown",
   "metadata": {},
   "source": [
    "### 应用1"
   ]
  },
  {
   "cell_type": "markdown",
   "metadata": {},
   "source": [
    "在概率论中，如果把$\\lambda_{i}$看成取值为$x_{i}$的离散变量$x$的概率分布，那么上式也可写成:  \n",
    "\n",
    "$$\n",
    "f\\left( E[x] \\right) \\leq E[f(x)]\n",
    "$$\n",
    "$E[\\cdot] $表示期望。"
   ]
  },
  {
   "cell_type": "markdown",
   "metadata": {},
   "source": [
    "# 2. 欧式空间"
   ]
  },
  {
   "cell_type": "markdown",
   "metadata": {},
   "source": [
    "设V是<font color=red>实数域$\\mathbf{R}$</font>上的$n$维线性空间，在V上任意两向量$\\pmb{x},\\pmb{y}$按某一确定法则对应于唯一确定是的实数($\\mathbf{R}^{n} \\rightarrow \\mathbf{R}$)，这个实数称为内积，记为（$\\pmb{x},\\pmb{y}$），满足以下性质：  \n",
    "\n",
    "1. 对称性（x，y）=（y，x）；  \n",
    "\n",
    "2. 可加性（x+y，z）=（x，z）+（y，z）；  \n",
    "\n",
    "3. 齐次性（k x，y）=k（x，y），k为任意实数；  \n",
    "\n",
    "4. 非负性（x，x）≥ 0，当且仅当x=0时有（x，x）= 0.  \n",
    "\n",
    "<font color=blue>定义了内积的实线性空间V，叫实内积空间即欧式空间（有限维或无限维）。</font>\n",
    "\n",
    "$(\\pmb{x},\\pmb{y})=\\pmb{x}^{\\mathrm{T}}\\pmb{y}$ 称为<font color=blue>标准内积</font>"
   ]
  },
  {
   "cell_type": "markdown",
   "metadata": {},
   "source": [
    "# 3. 酉空间（Unitary linear space）"
   ]
  },
  {
   "cell_type": "markdown",
   "metadata": {},
   "source": [
    "设$V$是<font color=red>复数域$\\mathbf{C}$</font>上的$n$维线性空间，在$V$上任意两向量$\\pmb{\\alpha},\\pmb{\\beta}$按某一确定法则对应于唯一确定<font color=red>复数</font>，这个<font color=red>复数</font>称为内积，记为（$\\pmb{\\alpha},\\pmb{\\beta}$），满足以下性质：  \n",
    "\n",
    "1. 对称性 $(\\pmb{\\alpha},\\pmb{\\beta}) = (\\overline{\\pmb{\\beta}, \\pmb{\\alpha}})$     $(\\overline{\\pmb{\\beta}, \\pmb{\\alpha}})$是内积$(\\pmb{\\alpha},\\pmb{\\beta})$的共轭复数; \n",
    "\n",
    "\n",
    "2. 可加性$(\\pmb{\\alpha}+\\pmb{\\beta}, \\pmb{\\gamma}) = (\\pmb{\\alpha}+\\pmb{\\gamma}) + (\\pmb{\\beta}+ \\pmb{\\gamma})$\n",
    "\n",
    "\n",
    "3. 齐次性$(k\\pmb{\\alpha},\\pmb{\\beta}) = k(\\pmb{\\alpha},\\pmb{\\beta})$，$k$为任意实数；  \n",
    "\n",
    "\n",
    "4. 非负性$(\\pmb{\\alpha},\\pmb{\\alpha}) \\geq 0 $，当且仅当$\\pmb{\\alpha}=\\pmb{0}$时有$(\\pmb{\\alpha},\\pmb{\\alpha}) = 0 $.  \n",
    "\n",
    "称定义有这样内积的$n$维线性空间$V$为<font color=blue>复欧几里得空间，简称$V$为$n$维**酉空间**</font>。\n",
    "\n",
    "<font color=blue>欧式空间与酉空间通称为内积空间。</font>  \n",
    "\n",
    "<img src='00_欧式空间与酉空间.png' style='zoom:50%'/>"
   ]
  },
  {
   "cell_type": "markdown",
   "metadata": {},
   "source": [
    "# 4. 共轭转置矩阵"
   ]
  },
  {
   "cell_type": "markdown",
   "metadata": {},
   "source": [
    "$A\\in \\mathbf{C}^{m \\times n}$，$\\overline{A}$中元素是$A$对应位置元素的共轭复数，则称  \n",
    "\n",
    "$$\n",
    "A^{\\mathrm{H}}= (\\overline{A})^{\\mathrm{T}}\n",
    "$$  \n",
    "\n",
    "为$A$的复共轭转置矩阵。 \n",
    "\n",
    "例：  \n",
    "\n",
    "$$\n",
    "A= \\begin{bmatrix}\n",
    "1+i  & i \\\\\n",
    "-i  & 2+i \\\\\n",
    " 1-i & 1+i\n",
    "\\end{bmatrix} \\quad A^{\\mathrm{H}}= \\begin{bmatrix}\n",
    " 1-i & i & 1+i \\\\\n",
    " -i & 2-i & 1-i\n",
    "\\end{bmatrix}\n",
    "$$"
   ]
  },
  {
   "cell_type": "markdown",
   "metadata": {},
   "source": [
    "# 5. Hermite矩阵(实对称矩阵推广到复数域)"
   ]
  },
  {
   "cell_type": "markdown",
   "metadata": {},
   "source": [
    "$A\\in \\mathbf{C}^{m \\times n}$，若$A^{\\mathrm{H}}=A$，称$A$为Hermite矩阵；若$A^{\\mathrm{H}}=-A$，称$A$为反Hermite矩阵。"
   ]
  },
  {
   "cell_type": "markdown",
   "metadata": {},
   "source": [
    "# 6. 酉矩阵（正交矩阵推广到复数域）"
   ]
  },
  {
   "cell_type": "markdown",
   "metadata": {},
   "source": [
    "若$n$阶复矩阵$A$满足  \n",
    "\n",
    "$$\n",
    "A^{\\mathrm{H}}A = AA^{\\mathrm{H}} = E\n",
    "$$  \n",
    "\n",
    "则称$A$为<font color=red>酉矩阵</font>。"
   ]
  },
  {
   "cell_type": "code",
   "execution_count": null,
   "metadata": {},
   "outputs": [],
   "source": []
  }
 ],
 "metadata": {
  "kernelspec": {
   "display_name": "Python [conda env:root] *",
   "language": "python",
   "name": "conda-root-py"
  },
  "language_info": {
   "codemirror_mode": {
    "name": "ipython",
    "version": 3
   },
   "file_extension": ".py",
   "mimetype": "text/x-python",
   "name": "python",
   "nbconvert_exporter": "python",
   "pygments_lexer": "ipython3",
   "version": "3.7.1"
  }
 },
 "nbformat": 4,
 "nbformat_minor": 2
}

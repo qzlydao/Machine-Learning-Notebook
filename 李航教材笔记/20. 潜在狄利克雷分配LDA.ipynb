{
 "cells": [
  {
   "cell_type": "markdown",
   "metadata": {},
   "source": [
    "# 第20章 潜在狄利克雷分配LDA"
   ]
  },
  {
   "cell_type": "code",
   "execution_count": null,
   "metadata": {},
   "outputs": [],
   "source": []
  },
  {
   "cell_type": "code",
   "execution_count": null,
   "metadata": {},
   "outputs": [],
   "source": []
  },
  {
   "cell_type": "markdown",
   "metadata": {},
   "source": [
    "## 20.0 前置知识"
   ]
  },
  {
   "cell_type": "markdown",
   "metadata": {},
   "source": [
    "#### 1. Gamma函数"
   ]
  },
  {
   "cell_type": "markdown",
   "metadata": {},
   "source": [
    "$$\n",
    "\\Gamma(s) = \\int_{0}^{\\infty} x^{s-1}e^{-x}\\mathrm{d}x \\quad (s>0)\n",
    "$$ \n",
    "\n",
    "$\\Gamma$函数性质\n",
    "\n",
    "$$\n",
    "\\Gamma(s+1) = s\\Gamma(s)\n",
    "$$\n",
    "\n",
    "显然，当$s$是自然数时，有\n",
    "\n",
    "$$\n",
    "\\Gamma(s+1) = s!\n",
    "$$"
   ]
  },
  {
   "cell_type": "markdown",
   "metadata": {},
   "source": [
    "#### 2. Beta函数  "
   ]
  },
  {
   "cell_type": "markdown",
   "metadata": {},
   "source": [
    "$$\n",
    "B(s,t) = \\int_{0}^{1} x^{s-1}(1-x)^{t-1}\\mathrm{d}x \\quad s>0,\\ t>0\n",
    "$$\n",
    "\n",
    "Beta函数性质:  \n",
    "\n",
    "$$\n",
    "\\begin{align}\n",
    "B(s,t) &= B(t,s) \\\\\n",
    "B(s,t) &= \\frac{\\Gamma(s)\\Gamma(t)}{\\Gamma(s+t)} \\\\\n",
    "&= \\frac{(s-1)!(t-1)!}{(s+t-1)!}\n",
    "\\end{align}\n",
    "$$"
   ]
  },
  {
   "cell_type": "markdown",
   "metadata": {},
   "source": [
    "## 20.1 狄利克雷分布"
   ]
  },
  {
   "cell_type": "markdown",
   "metadata": {},
   "source": [
    "### 20.1.1 分布定义"
   ]
  },
  {
   "cell_type": "markdown",
   "metadata": {},
   "source": [
    "#### 1. 多项分布"
   ]
  },
  {
   "cell_type": "markdown",
   "metadata": {},
   "source": [
    "多项分布（multinomial distribution）是一种多元离散随机变量的概率分布，是二项分布（binomial distribution）的扩展。"
   ]
  },
  {
   "cell_type": "markdown",
   "metadata": {},
   "source": [
    "重复进行$n$次独立随机试验，每次试验可能出现的结果有$k$种，第$i$种结果出现的概率为$p_{i}$，出现的次数为$n_{i}$。如果用随机变量$X=\\left(X_{1}, X_{2}, \\cdots, X_{k}\\right)$表示试验所有可能结果的次数，其中$X_{i}$表示第$i$种结果出现的次数。"
   ]
  },
  {
   "cell_type": "markdown",
   "metadata": {},
   "source": [
    "**定义20.1（多项分布）**  \n",
    "\n",
    "若多元离散随机变量$X=\\left(X_{1}, X_{2}, \\cdots, X_{k}\\right)$的概率质量函数为  \n",
    "\n",
    "$$\n",
    "\\begin{eqnarray}\n",
    "P\\left(X_{1}=n_{1}, X_{2}=n_{2}, \\cdots, X_{k}=n_{k}\\right) &=& C_{n}^{n_{1}}p_{1}^{n_{1}}C_{n-n_{1}}^{n_{2}}p_{2}^{n_{2}}\\cdots C_{n_{k}}^{n_{k}}p_{k}^{n_{k}}\\\\\n",
    "&=&\\frac{n !}{n_{1} ! n_{2} ! \\cdots n_{k} !} p_{1}^{n_{1}} p_{2}^{n_{2}} \\cdots p_{k}^{n_{k}} \\\\\n",
    "&=&\\frac{n !}{\\prod_{i=1}^{k} n_{i} !} \\prod_{i=1}^{k} p_{i}^{n_{i}} \\tag{20.1}\n",
    "\\end{eqnarray}\n",
    "$$\n",
    "\n",
    "$$\n",
    "\\sum_{i=1}^{k}p_{i}=1 , \\quad \\sum_{i=1}^{k}n_{i}=n\n",
    "$$\n",
    "\n",
    "记作$X \\sim \\text{Mult}(n,p)$，$p=\\left(p_{1}, p_{2}, \\cdots, p_{k}\\right)$  \n",
    "\n",
    "当试验的次数$n=1$时，多项分布变成<font color=blue>类别分布（categorical distribution）</font>。"
   ]
  },
  {
   "cell_type": "markdown",
   "metadata": {},
   "source": [
    "#### 2. 二项分布和贝塔分布"
   ]
  },
  {
   "cell_type": "markdown",
   "metadata": {},
   "source": [
    "二项分布是多项分布的特殊情况，贝塔分布$Beta(s,t)$是狄利克雷分布的特殊情况。"
   ]
  },
  {
   "cell_type": "markdown",
   "metadata": {},
   "source": [
    "二项分布的概率质量函数为  \n",
    "\n",
    "$$\n",
    "P(X=m) = \\begin{pmatrix}\n",
    "n \\\\\n",
    "m\n",
    "\\end{pmatrix}p^{m}(1-p)^{n-m}, \\quad m=0,1,\\cdots,n\n",
    "$$\n",
    "\n",
    "当$n=1$时，二项分布变成伯努利分布。"
   ]
  },
  {
   "cell_type": "markdown",
   "metadata": {},
   "source": [
    "**Beta分布**  \n",
    "\n",
    "$X$为连续随机变量，取值范围为$[0,1]$，其p.d.f为  \n",
    "\n",
    "$$\n",
    "p(x)=\\left\\{\\begin{array}{ll}\n",
    "\\frac{1}{\\mathrm{~B}(s, t)} x^{s-1}(1-x)^{t-1}, & 0 \\leqslant x \\leqslant 1 \\\\\n",
    "0, & \\text { otherwise }\n",
    "\\end{array}\\right.\n",
    "$$"
   ]
  },
  {
   "cell_type": "markdown",
   "metadata": {},
   "source": [
    "其中$s > 0$和$t > 0$是参数，$B(s,t)$是Beta函数，定义为\n",
    "\n",
    "$$\n",
    "\\mathrm{B}(s, t)=\\int_{0}^{1} x^{s-1}(1-x)^{t-1} \\mathrm{~d} x \\tag{20.8}\n",
    "$$\n",
    "\n",
    "当$s,t$为自然数时，  \n",
    "\n",
    "$$\n",
    "\\mathrm{B}(s, t)=\\frac{(s-1) !(t-1) !}{(s+t-1) !} \\tag{20.9}\n",
    "$$"
   ]
  },
  {
   "cell_type": "markdown",
   "metadata": {},
   "source": [
    "#### 3. 狄利克雷分布（Dirichlet distribution）"
   ]
  },
  {
   "cell_type": "markdown",
   "metadata": {},
   "source": [
    "狄利克雷分布是一种多元连续随机变量的概率分布，是Beta分布的扩展。在贝叶斯学习中，<font color=blue>狄利克雷分布常作为多项分布的先验使用。</font>"
   ]
  },
  {
   "cell_type": "markdown",
   "metadata": {},
   "source": [
    "**定义20.2（狄利克雷分布）** \n",
    "\n",
    "若多元连续随机变量$\\theta=\\left(\\theta_{1}, \\theta_{2}, \\cdots, \\theta_{k}\\right)$对概率密度函数为\n",
    "\n",
    "$$\n",
    "p(\\theta | \\alpha)=\\frac{\\Gamma\\left(\\sum_{i=1}^{k} \\alpha_{i}\\right)}{\\prod_{i=1}^{k} \\Gamma\\left(\\alpha_{i}\\right)} \\prod_{i=1}^{k} \\theta_{i}^{\\alpha_{i}-1} \\tag{20.2}\n",
    "$$\n",
    "\n",
    "$$\n",
    "\\sum_{i=1}^{k}\\theta_{i}=1,~ \\theta_{i} \\geq 0\\\\\n",
    "\\alpha=\\left(\\alpha_{1}, \\alpha_{2}, \\cdots, \\alpha_{k}\\right), ~ \\alpha_{i} >0\n",
    "$$\n",
    "\n",
    "称随机变量$\\theta$服从参数为$\\alpha$的狄利克雷分布，记作$\\theta \\sim \\text{Dir}(\\alpha)$"
   ]
  },
  {
   "cell_type": "markdown",
   "metadata": {},
   "source": [
    "令  \n",
    "\n",
    "$$\n",
    "\\mathrm{B}(\\alpha)=\\frac{\\prod_{i=1}^{k} \\Gamma\\left(\\alpha_{i}\\right)}{\\Gamma\\left(\\sum_{i=1}^{k} \\alpha_{i}\\right)} \\tag{20.3}\n",
    "$$"
   ]
  },
  {
   "cell_type": "markdown",
   "metadata": {},
   "source": [
    "$\\mathrm{B}(\\alpha)$是规范化因子，称为多元贝塔函数（或扩展的贝塔函数）。由pdf的性质 \n",
    "\n",
    "$$\n",
    "\\int p(\\theta|\\alpha) \\mathrm{~d}\\theta = 1 = \\frac{\\Gamma\\left(\\sum_{i=1}^{k} \\alpha_{i}\\right)}{\\prod_{i=1}^{k} \\Gamma\\left(\\alpha_{i}\\right)} \\int \\prod_{i=1}^{k} \\theta_{i}^{\\alpha_{i}-1}\\mathrm{~d}\\theta\n",
    "$$"
   ]
  },
  {
   "cell_type": "markdown",
   "metadata": {},
   "source": [
    "得\n",
    "\n",
    "$$\n",
    "\\mathrm{B}(\\alpha) = \\int \\prod_{i=1}^{k} \\theta_{i}^{\\alpha_{i}-1}\\mathrm{~d}\\theta \\tag{20.5}\n",
    "$$"
   ]
  },
  {
   "cell_type": "markdown",
   "metadata": {},
   "source": [
    "因此，pdf可写成  \n",
    "\n",
    "$$\n",
    "p(\\theta | \\alpha)= \\frac{1}{\\mathrm{B}(\\alpha)} \\prod_{i=1}^{k} \\theta_{i}^{\\alpha_{i}-1} = \\frac{\\prod_{i=1}^{k} \\theta_{i}^{\\alpha_{i}-1}}{\\int \\prod_{i=1}^{k} \\theta_{i}^{\\alpha_{i}-1}\\mathrm{~d}\\theta} \\tag{20.4}\n",
    "$$"
   ]
  },
  {
   "cell_type": "markdown",
   "metadata": {},
   "source": [
    "由于$~\\theta~$满足条件  \n",
    "\n",
    "$$\n",
    "\\theta_{i} \\geq 0, \\quad \\sum_{i=1}^{k}\\theta_{i} = 1\n",
    "$$\n",
    "\n",
    "所以Dirichlet分布$~\\theta~$存在于$~(k-1)~$维单纯形上。"
   ]
  },
  {
   "cell_type": "markdown",
   "metadata": {},
   "source": [
    "<img src='20.1_概率分布之间的关系.png' style='zoom:50%'/>"
   ]
  },
  {
   "cell_type": "markdown",
   "metadata": {},
   "source": [
    "### 20.1.2 共轭先验"
   ]
  },
  {
   "cell_type": "markdown",
   "metadata": {},
   "source": [
    "#### 1. Dirichlet Distribution的重要性质:\n",
    "\n",
    "1. Dirichlet Distribution属于指数分布族；  \n",
    "\n",
    "2. Dirichlet Distribution是多项分布的共轭先验（conjugate prior）"
   ]
  },
  {
   "cell_type": "markdown",
   "metadata": {},
   "source": [
    "#### 2. 什么是共轭分布"
   ]
  },
  {
   "cell_type": "markdown",
   "metadata": {},
   "source": [
    "1. 如果后验分布与先验分布属于同类，则先验分布与后验分布称为<font color=red>共轭分布（conjugate distributions）</font>，先验分布称为<font color=blue>共轭先验（conjugate prior）</font>。  \n",
    "\n",
    "\n",
    "2. 多项分布的先验分布是Dirichlet distribution，则后验也是Dirichlet distribution，两者构成共轭分布。\n",
    "\n",
    "\n",
    "3. 作为先验分布的Dirichlet distribution的参数又称为<font color=blue>超参数</font>。  \n",
    "\n",
    "\n",
    "4. <font color=blue>使用共轭分布的好处是便于从先验分布计算后验分布</font>。  "
   ]
  },
  {
   "cell_type": "markdown",
   "metadata": {},
   "source": [
    "#### 3. 多项分布的狄利克雷先验和后验"
   ]
  },
  {
   "cell_type": "markdown",
   "metadata": {},
   "source": [
    "设$\\mathcal{W}={\\left\\{w_{1}, w_{2}, \\cdots, w_{k}\\right\\}}$是由$k$个元素组成的集合。\n",
    "\n",
    "$X$服从$\\mathcal{W}$的多项分布，$X \\sim \\text{Mult}(n,\\theta)$，$n=\\left(n_{1}, n_{2}, \\cdots, n_{k}\\right)$和$\\theta=\\left(\\theta_{1}, \\theta_{2}, \\cdots, \\theta_{k}\\right)$  \n",
    "\n",
    "$n$表示从$\\mathcal{W}$中重复独立抽样的次数，$n_{i}$为样本$w_{i}$出现的次数；\n",
    "\n",
    "$\\theta_{i}$为$w_{i}$出现的概率。  \n",
    "  \n",
    "&nbsp;   \n",
    "\n",
    "将样本数据表示为$D$，<font color=blue>目标是计算参数的后验概率$p(\\theta|D)$</font>.\n",
    "\n",
    "&nbsp;   \n",
    "\n",
    "**似然函数**\n",
    "\n",
    "$$\n",
    "p(D | \\theta)=\\theta_{1}^{n_{1}} \\theta_{2}^{n_{2}} \\cdots \\theta_{k}^{n_{k}}=\\prod_{i=1}^{k} \\theta_{i}^{n_{i}} \\tag{20.10}\n",
    "$$"
   ]
  },
  {
   "cell_type": "markdown",
   "metadata": {},
   "source": [
    "**先验分布:**  \n",
    "\n",
    "假设$\\theta \\sim \\text{Dir}(\\alpha)$  \n",
    "\n",
    "$$\n",
    "p(\\theta|\\alpha) = \\frac{\\Gamma\\left( \\sum_{i=1}^{k} \\alpha_{i}\\right)}{\\prod_{i=1}^{k}\\Gamma(\\alpha_{i})}\\prod_{i=1}^{k} \\theta_{i}^{\\alpha_{i}-1}=\\frac{1}{\\mathrm{B}(\\alpha)} \\prod_{i=1}^{k} \\theta_{i}^{\\alpha_{i}-1}= \\color{red}{\\text{Dir}(\\theta|\\alpha)}, \\quad \\alpha_{i} > 0 \\tag{20.11}\n",
    "$$"
   ]
  },
  {
   "cell_type": "markdown",
   "metadata": {},
   "source": [
    "**后验分布**\n",
    "\n",
    "$$\n",
    "\\begin{eqnarray}\n",
    "p(\\theta | D, \\alpha) &=& \\frac{p(D | \\theta) p(\\theta | \\alpha)}{p(D | \\alpha)} \\\\\n",
    "&=& \\frac{\\prod_{i=1}^{k} \\theta_{i}^{n_{i}} \\frac{1}{\\mathrm{~B}(\\alpha)} \\theta_{i}^{\\alpha_{i}-1}}{\\int \\prod_{i=1}^{k} \\theta_{i}^{n_{i}} \\frac{1}{\\mathrm{~B}(\\alpha)} \\theta_{i}^{\\alpha_{i}-1} \\mathrm{~d} \\theta} \\\\\n",
    "&=& \\frac{1}{\\mathrm{~B}(\\alpha+n)} \\prod_{i=1}^{k} \\theta_{i}^{\\alpha_{i}+n_{i}-1} \\\\\n",
    "&=& \\color{red}{\\operatorname{Dir}(\\theta | \\alpha+n)} \\tag{20.12}\n",
    "\\end{eqnarray}\n",
    "$$"
   ]
  },
  {
   "cell_type": "markdown",
   "metadata": {},
   "source": [
    "1. 从（20.11）和（20.12）可以看出，Dirichlet Distribution是多项分布的共轭先验；\n",
    "  \n",
    "  \n",
    "2. 狄利克雷后验分布参数等于先验分布参数$\\alpha=\\left(\\alpha_{1}, \\alpha_{2}, \\cdots, \\alpha_{k}\\right)$加上多项分布的观测计数$n=\\left(n_{1}, n_{2}, \\cdots, n_{k}\\right)$，因此也把<font color=blue>$\\alpha$叫作先验伪计数（prior pseudo-counts）</font>。"
   ]
  },
  {
   "cell_type": "markdown",
   "metadata": {},
   "source": [
    "## 20.2 潜在狄利克雷分配模型"
   ]
  },
  {
   "cell_type": "markdown",
   "metadata": {},
   "source": [
    "### 20.2.1 基本想法"
   ]
  },
  {
   "cell_type": "markdown",
   "metadata": {},
   "source": [
    "#### 1. 两个假设\n",
    "\n",
    "1. 假设话题由单词的多项分布（类别分布）表示$p(w|z_{k})$；\n",
    "\n",
    "\n",
    "2. 假设文本由话题的多项分布（类别分布）表示$p(z|\\mathbf{w}_{m})$;\n",
    "\n",
    "\n",
    "3. 单词分布和话题分布的先验分布都是Dirichlet distribution。"
   ]
  },
  {
   "cell_type": "markdown",
   "metadata": {},
   "source": [
    "#### 2.<font color=red> LDA模型文本自动生成过程（☆☆☆☆？？？）</font>\n",
    "\n",
    "1. 基于单词分布的先验分布（Dirichlet distribution）生成多个单词分布，决定多个话题内容；<font color='#ed1941'>不太懂？</font> \n",
    "\n",
    "\n",
    "2. 基于话题分布的先验分布（Dirichlet distribution）生成多个话题分布，决定多个文本内容；<font color='#ed1941'>不太懂？</font>\n",
    "\n",
    "\n",
    "3. a) 基于每一个话题分布生成话题序列，<font color='#ed1941'>话题序列长度？</font>  \n",
    "b) 针对每一个话题，基于话题的单词分布生成单词，构成一个单词序列，即生成文本；<font color='#ed1941'>单词序列长度？</font>  \n",
    "c) 重复这个过程生成所有文本。\n",
    "<img src='20.2_LDA的文本生成过程.png' style='zoom:50%'/>"
   ]
  },
  {
   "cell_type": "markdown",
   "metadata": {},
   "source": [
    "#### 3. LDA的学习\n",
    "\n",
    "1. LDA是概率图模型，特点是以Dirichlet distribution为多项分布的先验分布；\n",
    "\n",
    "\n",
    "2. **学习:** 给定文本集合，通过后验概率分布的估计，推断模型的所有参数。 "
   ]
  },
  {
   "cell_type": "markdown",
   "metadata": {},
   "source": [
    "#### 4. <font color=red>LDA vs. PLSA（☆☆☆☆）</font>\n",
    "\n",
    "1. 相同点:   \n",
    "    - 都假设话题是单词的多项分布，文本时话题的多项分布；\n",
    "\n",
    "\n",
    "2. 不同点:\n",
    "    - LDA使用Dirichlet distribution作为先验分布；而PLSA不使用先验分布（或者说假设先验分布是均匀分布）；\n",
    "    - 学习过程，LDA基于贝叶斯学习，而PLSA基于MLE；<font color=red>？？？</font>\n",
    "    \n",
    "**LDA优点:**  &nbsp;<font color=red>使用先验概率分布，可以防止学习过程中产生的过拟合.</font>"
   ]
  },
  {
   "cell_type": "markdown",
   "metadata": {},
   "source": [
    "### 20.2.2 模型定义"
   ]
  },
  {
   "cell_type": "markdown",
   "metadata": {},
   "source": [
    "#### 1. 模型要素"
   ]
  },
  {
   "cell_type": "markdown",
   "metadata": {},
   "source": [
    "单词集合：$W=\\left\\{w_{1}, \\cdots, w_{v}, \\cdots, w_{V}\\right\\}$，$V$是单词个数  \n",
    "\n",
    "文本集合：$D=\\left\\{\\mathbf{w}_{1}, \\cdots, \\mathbf{w}_{m}, \\cdots, \\mathbf{w}_{M}\\right\\}$，$M$是文本个数   \n",
    "\n",
    "&emsp; &emsp; &emsp; &emsp;&ensp;&nbsp;   $\\mathbf{w}_{m}=\\left(w_{m 1}, \\cdots, w_{m n}, \\cdots, w_{m N_{m}}\\right)$，$w_{m n}$是第$m$个文本的第$n$个单词，$N_{m}$是文本$\\mathbf{w}_{m}$中的单词个数。\n",
    "\n",
    "话题集合：$Z=\\left\\{z_{1}, \\cdots, z_{k}, \\cdots, z_{K}\\right\\}$，$K$为话题个数  \n",
    "\n",
    "&emsp;"
   ]
  },
  {
   "cell_type": "markdown",
   "metadata": {},
   "source": [
    "每一个话题$z_{k}$由一个单词的条件概率分布$p(w|z_{k})$决定，$w \\in W$.  \n",
    "\n",
    "$p(w|z_{k}) \\sim \\text{Mult}(1, \\varphi_{k})$，$\\varphi_{k}=\\left(\\varphi_{k 1}, \\varphi_{k 2}, \\cdots, \\varphi_{k V}\\right)$，$\\varphi_{kv}$表示话题生成单词$w_{v}$的概率.\n",
    "\n",
    "$\\varphi_{k} \\sim \\text{Dir}(\\beta)$，$\\beta=\\left(\\beta_{1}, \\beta_{2}, \\cdots, \\beta_{V}\\right)$\n",
    "\n",
    "<img src='20.2_话题的单词分布.jpg' style='zoom:40%'/>"
   ]
  },
  {
   "cell_type": "markdown",
   "metadata": {},
   "source": [
    "每一个文本$\\mathbf{w}_{m}$由一个话题的条件概率分布$p(z|\\mathbf{w}_{m})$决定，$z \\in Z$.  \n",
    "\n",
    "$p(z|\\mathbf{w}_{m}) \\sim \\text{Mult}(1, \\theta_{m})$，$\\theta_{m}=\\left(\\theta_{m 1}, \\theta_{m 2}, \\cdots, \\theta_{m K}\\right)$，$\\theta_{m k}$表示文本$\\mathbf{w}_{m}$生成话题$z_{k}$的概率.\n",
    "\n",
    "$\\theta_{m} \\sim \\text{Dir}(\\alpha),~ \\alpha=\\left(\\alpha_{1}, \\alpha_{2}, \\cdots, \\alpha_{K}\\right)$ \n",
    "\n",
    "<img src='20.2_文本的话题分布.jpg' style='zoom:40%'/>  \n",
    "\n",
    "每个文本$\\mathbf{w}_{m}$中的每一个单词$w_{mn}$由该文本的话题分布$p(z|\\mathbf{w}_{m})$以及所有话题的单词分布$p(w|z_{k})$决定。 \n",
    "\n",
    "<img src='20.2_文本单词的生成.jpg' style='zoom:40%'/>  "
   ]
  },
  {
   "cell_type": "markdown",
   "metadata": {},
   "source": [
    "#### 算法20.1（LDA的文本生成算法）"
   ]
  },
  {
   "cell_type": "markdown",
   "metadata": {},
   "source": [
    "给定: &nbsp;单词集合$W$，文本集合$D$，话题集合$Z$，Dirichlet distribution超参数$\\alpha,~ \\beta$  \n",
    "\n",
    "（1）对于话题$z_{k}(k=1,2,\\cdots, K)$:  \n",
    "\n",
    "&emsp;&emsp;&emsp;生成多项分布参数$\\varphi_{k} \\sim \\text{Dir}(\\beta)$，作为话题的单词分布$p(w|z_{k})$;\n",
    "\n",
    "\n",
    "（2）对于文本$\\mathbf{w}_{m}(m=1,2,\\cdots,M)$: \n",
    "\n",
    "&emsp;&emsp;&emsp;生成多项分布参数$\\theta_{m} \\sim \\text{Dir}(\\alpha)$，作为文本的话题分布$p(z|\\mathbf{w}_{m})$\n",
    "\n",
    "\n",
    "（3）对于文本$\\mathbf{w}_{m}$的单词$w_{mn}(m=1,2,\\cdots,M;~ n=1,2,\\cdots,N_{m})$:  \n",
    "\n",
    "&emsp;&emsp;&emsp;(a)&emsp;生成话题$z_{mn}\\sim \\text{Mult}(\\theta_{m})$，作为单词对应的话题；  \n",
    "\n",
    "&emsp;&emsp;&emsp;(b)&emsp;生成单词$w_{mn}\\sim \\text{Mult}(\\varphi_{z_{mn}})$。\n",
    "\n",
    "\n",
    "话题个数$K$给定，通常通过实验选定；  \n",
    "\n",
    "超参数$\\alpha,~ \\beta$通常也是事先给定。在没有其他先验知识的情况下，可以假设向量$\\alpha,~ \\beta$的所有分量均是1，这是的文本的话题分布$\\theta_{m}$是对称的，话题的单词分布$\\varphi_{k}$也是对称的。"
   ]
  },
  {
   "cell_type": "markdown",
   "metadata": {},
   "source": [
    "### 20.2.3 概率图模型"
   ]
  },
  {
   "cell_type": "markdown",
   "metadata": {},
   "source": [
    "LDA本质是一种概率图模型（probabilistic graphical model）。 \n",
    "\n",
    "结点表示随机变量，实心结点是观测变量，空心结点是隐变量；  \n",
    "\n",
    "有向边表示概率依存关系；矩形表示重复，板块内数字表示重复的次数。\n",
    "\n",
    "<img src='20.2_LDA的板块表示.png' style='zoom:50%'/>"
   ]
  },
  {
   "cell_type": "markdown",
   "metadata": {},
   "source": [
    "LDA的展开图模型表示:  \n",
    "\n",
    "<img src='20.2_LDA的展开图模型表示.png' style='zoom:50%'/>"
   ]
  },
  {
   "cell_type": "markdown",
   "metadata": {},
   "source": [
    "### 20.2.3 随机变量序列的可交换性"
   ]
  },
  {
   "cell_type": "markdown",
   "metadata": {},
   "source": [
    "1. 一个有限的随机变量序列是可交换的（exchangeable），值随机变量联合概率分布对随机变量的排列不变：\n",
    "\n",
    "$$\n",
    "P\\left(x_{1}, x_{2}, \\cdots, x_{N}\\right)=P\\left(x_{\\pi(1)}, x_{\\pi(2)}, \\cdots, x_{\\pi(N)}\\right) \\tag{20.13}\n",
    "$$\n",
    "\n",
    "&emsp;&emsp;$\\pi(1), \\pi(2), \\cdots, \\pi(N)$表示自然数$1,2,\\cdots,N$的任意一个排列。\n",
    "\n",
    "\n",
    "2. De Fineti定理： 任意一个无限可交换的随机变量序列对一个随机参数时条件独立同分布的。\n",
    "\n",
    "$$\n",
    "P\\left(X_{1}, X_{2}, \\cdots, X_{i}, \\cdots \\mid Y\\right)=P\\left(X_{1} \\mid Y\\right) P\\left(X_{2} \\mid Y\\right) \\cdots P\\left(X_{i} \\mid Y\\right) \\cdots \\tag{20.14}\n",
    "$$\n",
    "\n",
    "3. LDA假设文本由无限可交换的话题序列组成。所以在参数给定的条件下，文本中的话题的顺序可以忽略。"
   ]
  },
  {
   "cell_type": "markdown",
   "metadata": {},
   "source": [
    "### 20.2.5 概率公式"
   ]
  },
  {
   "cell_type": "markdown",
   "metadata": {},
   "source": [
    "LDA的观测变量和隐变量组成的联合概率分布为:  \n",
    "\n",
    "<img src='20.2_概率分布.jpg' style='zoom:20%'/>\n",
    "\n",
    "观测变量$~\\mathbf{w}~$表示所有文本中的单词序列；  \n",
    "\n",
    "隐变量$~\\mathbf{z}~$表示所有文本中的话题序列；\n",
    "\n",
    "隐变量$~\\theta~$表示所有文本的话题分布的参数；\n",
    "\n",
    "隐变量$~\\varphi~$表示所有话题的单词分布参数；\n",
    "\n",
    "$p(\\varphi_{k}|\\beta)~$表示超参数$~\\beta~$给定条件下第$~k~$个话题的单词类别分布的参数$~\\varphi_{k}~$的生成概率；\n",
    "\n",
    "$p(\\theta_{m}|\\alpha)~$表示超参数$~\\alpha~$给定条件下第$~m~$个文本的话题类别分布的参数$~\\theta_{m}~$的生成概率；\n",
    "\n",
    "$p(z_{mn}|\\theta_{m})~$表示第$~m~$个文本的话题分布$~\\theta_{m}~$给定条件下文本的第$~n~$个位置的话题$~z_{mn}~$的生成概率；\n",
    "\n",
    "$p(w_{m n} | z_{m n}, \\varphi)~$表示在第$m$个文本中的第$n$个位置的话题$~z_{mn}~$及所有话题的单词分布的参数$~\\varphi~$给定条件下第$~m~$个文本的第$~n~$个位置的单词$~w_{mn}~$的生成概率。\n",
    "\n",
    "&nbsp;"
   ]
  },
  {
   "cell_type": "markdown",
   "metadata": {},
   "source": [
    "第$m$个文本的联合概率分布表示为:  \n",
    "\n",
    "$$\n",
    "p\\left(\\mathbf{w}_{m}, \\mathbf{z}_{m}, \\theta_{m}, \\varphi | \\alpha, \\beta\\right)=\\prod_{k=1}^{K} p\\left(\\varphi_{k} | \\beta\\right) p\\left(\\theta_{m} | \\alpha\\right) \\prod_{n=1}^{N_{m}} p\\left(z_{m n} | \\theta_{m}\\right) p\\left(w_{m n} | z_{m n}, \\varphi\\right) \\tag{20.16}\n",
    "$$\n",
    "\n",
    "LDA模型对隐变量进行积分得到边缘分布。\n",
    "\n",
    "&nbsp;\n"
   ]
  },
  {
   "cell_type": "markdown",
   "metadata": {},
   "source": [
    "参数$~\\theta_{m}~$和$~\\varphi~$给定条件下第$~m~$个文本的生成概率是  \n",
    "\n",
    "$$\n",
    "p\\left(\\mathbf{w}_{m} | \\theta_{m}, \\varphi\\right)=\\prod_{n=1}^{N_{m}}\\left[\\sum_{k=1}^{K} p\\left(z_{m n}=k | \\theta_{m}\\right) p\\left(w_{m n} | \\varphi_{k}\\right)\\right] \\tag{20.17}\n",
    "$$"
   ]
  },
  {
   "cell_type": "markdown",
   "metadata": {},
   "source": [
    "超参数$~\\alpha~, \\beta~$给定条件下第$~m~$个文本的生成概率是（<font color=blue>分布对$~\\theta_{m}~$和$~\\varphi_{k}~$积分</font>） \n",
    "\n",
    "$$\n",
    "p(\\mathbf{w}_{m} | \\alpha, \\beta)=\\prod_{k=1}^{K} \\int p(\\varphi_{k} | \\beta)\\left[\\int p(\\theta_{m} | \\alpha) \\prod_{n=1}^{N_{m}}\\left[\\sum_{l=1}^{K} p(z_{m n}=l | \\theta_{m}) p(w_{m n} | \\varphi_{l})\\right] \\mathrm{d} \\theta_{m}\\right] \\mathrm{d} \\varphi_{k} \\tag{20.18}\n",
    "$$\n",
    "\n",
    "超参数$~\\alpha~, \\beta~$给定条件下第所有文本的生成概率是\n",
    "\n",
    "$$\n",
    "p(\\mathbf{w}_{m} | \\alpha, \\beta)=\\prod_{k=1}^{K} \\int p(\\varphi_{k} | \\beta)\\left[\\sum_{m=1}^{M} \\int p(\\theta_{m} | \\alpha) \\prod_{n=1}^{N_{m}}\\left[\\sum_{l=1}^{K} p(z_{m n}=l | \\theta_{m}) p(w_{m n} | \\varphi_{l})\\right] \\mathrm{d} \\theta_{m}\\right] \\mathrm{d} \\varphi_{k} \\tag{20.19}\n",
    "$$"
   ]
  },
  {
   "cell_type": "code",
   "execution_count": null,
   "metadata": {},
   "outputs": [],
   "source": []
  },
  {
   "cell_type": "code",
   "execution_count": null,
   "metadata": {},
   "outputs": [],
   "source": []
  },
  {
   "cell_type": "code",
   "execution_count": null,
   "metadata": {},
   "outputs": [],
   "source": []
  },
  {
   "cell_type": "code",
   "execution_count": null,
   "metadata": {},
   "outputs": [],
   "source": []
  },
  {
   "cell_type": "code",
   "execution_count": null,
   "metadata": {},
   "outputs": [],
   "source": []
  },
  {
   "cell_type": "code",
   "execution_count": null,
   "metadata": {},
   "outputs": [],
   "source": []
  },
  {
   "cell_type": "code",
   "execution_count": null,
   "metadata": {},
   "outputs": [],
   "source": []
  },
  {
   "cell_type": "markdown",
   "metadata": {},
   "source": [
    "# Q1: 为什么多项分布的先验分布使用Dirichlet distribution？"
   ]
  },
  {
   "cell_type": "code",
   "execution_count": null,
   "metadata": {},
   "outputs": [],
   "source": []
  }
 ],
 "metadata": {
  "kernelspec": {
   "display_name": "Python [conda env:root] *",
   "language": "python",
   "name": "conda-root-py"
  },
  "language_info": {
   "codemirror_mode": {
    "name": "ipython",
    "version": 3
   },
   "file_extension": ".py",
   "mimetype": "text/x-python",
   "name": "python",
   "nbconvert_exporter": "python",
   "pygments_lexer": "ipython3",
   "version": "3.7.1"
  }
 },
 "nbformat": 4,
 "nbformat_minor": 2
}

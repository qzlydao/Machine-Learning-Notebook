{
 "cells": [
  {
   "cell_type": "markdown",
   "metadata": {},
   "source": [
    "# 1. Seq2Seq"
   ]
  },
  {
   "cell_type": "markdown",
   "metadata": {},
   "source": [
    "<img src='attachment/39. Seq2Seq.png' style='zoom:50%'/>\n",
    "\n",
    "<img src='attachment/39. Machine Translation.png' style='zoom:50%'/>"
   ]
  },
  {
   "cell_type": "markdown",
   "metadata": {},
   "source": [
    "上面这种Architecture，在解码时，每个时刻选取概率最大的候选词作为输出，称为Greedy Decoding。\n",
    "\n",
    "当然也可以考虑所有可能的单词，称为Exhaustic Search，时间复杂度太高。\n",
    "\n",
    "Seq2Seq的瓶颈在于: <font color=blue>Content Verctor对Decoder效果影响较大，而很难保证Decoder得到的Content Vector准确无误.</font>"
   ]
  },
  {
   "cell_type": "markdown",
   "metadata": {},
   "source": [
    "# 2. Beam Search"
   ]
  },
  {
   "cell_type": "markdown",
   "metadata": {},
   "source": [
    "设Beam-size=k.\n",
    "\n",
    "Beam Search则是在Decoding阶段的每个时刻，采样概率为top-k的单词作为候选，没两个时刻根据概率累加选取最大的$~k~$个候选词。\n",
    "\n",
    "<img src='attachment/39. Beam Search.png' style='zoom:50%'/>\n",
    "\n",
    "Beam Search有个缺点是: 倾向于选取较短的句子。\n",
    "\n",
    "时间复杂度: $O(k^{2} \\times Length)$"
   ]
  },
  {
   "cell_type": "markdown",
   "metadata": {},
   "source": [
    "# 3. Attention"
   ]
  },
  {
   "cell_type": "markdown",
   "metadata": {},
   "source": [
    "<img src='attachment/39. Attention.png' style='zoom:50%'/>\n",
    "\n",
    "Attention Mechanism的作用就是将encoder的隐状态按照一定权重加和之后拼接（或者直接加和）到decoder的隐状态上，以此作为额外信息，起到所谓“软对齐”的作用，并且提高了整个模型的预测准确度。"
   ]
  },
  {
   "cell_type": "markdown",
   "metadata": {},
   "source": [
    "# 4. Pointer Generation Network"
   ]
  },
  {
   "cell_type": "markdown",
   "metadata": {},
   "source": [
    "### 4.1 Pointer Network"
   ]
  },
  {
   "cell_type": "markdown",
   "metadata": {},
   "source": [
    "<img src='attachment/39. Convex hull.png' style='zoom:50%'/>"
   ]
  },
  {
   "cell_type": "markdown",
   "metadata": {},
   "source": [
    "如果我们用Seq2Seq模型对Convex hull问题进行学习，有个最大的问题是：<font color=blue>Decoder的词库是动态的。</font>"
   ]
  },
  {
   "cell_type": "markdown",
   "metadata": {},
   "source": [
    "Pointer Network的做法是: 在Decoding的每个时刻，从所有的Pointers中选择合适的点输出，从而避免了Decoder动态词库的问题。\n",
    "\n",
    "<img src='attachment/39. Pointer Network.jpg' style='zoom:50%'/>"
   ]
  },
  {
   "cell_type": "markdown",
   "metadata": {},
   "source": [
    "### 4.2 Application"
   ]
  },
  {
   "cell_type": "markdown",
   "metadata": {},
   "source": [
    "Pointer Network可以看做是从一个Set中选择一个Subset.\n",
    "\n",
    "它的一个用处是做text summarization。\n",
    "\n",
    "<img src='attachment/39. Text Summarization.png' style='zoom:50%'/>\n",
    "\n",
    "<img src='attachment/39. 传统Seq2Seq解决Text Summarization.jpg' style='zoom:70%'/>\n",
    "\n",
    "<img src='attachment/39. Pointer-Generation.jpg' style='zoom:70%'/>"
   ]
  }
 ],
 "metadata": {
  "kernelspec": {
   "display_name": "Python [conda env:root] *",
   "language": "python",
   "name": "conda-root-py"
  },
  "language_info": {
   "codemirror_mode": {
    "name": "ipython",
    "version": 3
   },
   "file_extension": ".py",
   "mimetype": "text/x-python",
   "name": "python",
   "nbconvert_exporter": "python",
   "pygments_lexer": "ipython3",
   "version": "3.7.1"
  }
 },
 "nbformat": 4,
 "nbformat_minor": 2
}
